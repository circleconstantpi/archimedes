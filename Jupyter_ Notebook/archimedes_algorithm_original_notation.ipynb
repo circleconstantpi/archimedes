{
 "cells": [
  {
   "cell_type": "code",
   "execution_count": 14,
   "id": "178303d0-4cb5-47ce-9dbc-1c9533867a39",
   "metadata": {},
   "outputs": [],
   "source": [
    "# ###################################\n",
    "# Archimedes, Measurement of a Circle\n",
    "# ###################################\n",
    "#\n",
    "#Compare results e.g. with the results given in [2].\n",
    "#\n",
    "# Reference\n",
    "# [1] T. L. HEATH, Sc.D., The Works of Archimedes, EDITED IN MODERN NOTATION WITH INTRODUCTORY CHAPTERS,\n",
    "# CAMBRIDGE: AT THE UNIVERSITY PRESS, 1897",
    "# [2] mathworld.wolfram.com/ArchimedesAlgorithm.html
   ]
  },
  {
   "cell_type": "code",
   "execution_count": 15,
   "id": "1e461b76-b861-4fd9-8097-753a9b2dc176",
   "metadata": {},
   "outputs": [
    {
     "name": "stdout",
     "output_type": "stream",
     "text": [
      "6\n",
      "3.00000000000000\n",
      "12\n",
      "3.10582854123025\n",
      "24\n",
      "3.13262861328125\n",
      "48\n",
      "3.13935020304685\n",
      "96\n",
      "3.14103195089037\n"
     ]
    }
   ],
   "source": [
    "# Inner polygon\n",
    "# -------------\n",
    "\n",
    "# Start values 6-gon (hexagon)\n",
    "AC = sqrt(3)\n",
    "AB = 2\n",
    "BC = 1\n",
    "\n",
    "# Number of iterations. 5 means up to a 96-gon.\n",
    "numiter = 5\n",
    "\n",
    "for i in range(0, numiter):\n",
    "    # Calculate number of edges.\n",
    "    n = 6 * 2^i\n",
    "    # Print number of edges.\n",
    "    print(n)\n",
    "    # No iteration on first loop.\n",
    "    if i == 0:\n",
    "        # Print value of Pi.\n",
    "        print(((BC * n)/2).n())\n",
    "    else:    \n",
    "        # Calculate hypotenuse and length of edge.\n",
    "        AD = AB / sqrt(((BC^2 + (AB + AC)^2))/(AB + AC)^2)\n",
    "        BD = sqrt(AB^2 - AD^2)\n",
    "        # Calculate Pi.\n",
    "        api = ((BD * n) / 2).n()\n",
    "        # Store values.\n",
    "        BC = BD\n",
    "        AC = AD\n",
    "        # Print value of Pi.\n",
    "        print(api)"
   ]
  },
  {
   "cell_type": "code",
   "execution_count": 16,
   "id": "8f7b24bb-9c29-465a-a92b-120ce7baedfa",
   "metadata": {},
   "outputs": [
    {
     "name": "stdout",
     "output_type": "stream",
     "text": [
      "6\n",
      "3.46410161513775\n",
      "12\n",
      "3.21539030917347\n",
      "24\n",
      "3.15965994209750\n",
      "48\n",
      "3.14608621513144\n",
      "96\n",
      "3.14271459964537\n"
     ]
    }
   ],
   "source": [
    "# Outer polygon\n",
    "# -------------\n",
    "\n",
    "# Start values 6-gon (hexagon)\n",
    "AC = 1/sqrt(3)\n",
    "OA = 1\n",
    "OC = 2 / 3 * sqrt(3)\n",
    "\n",
    "# Number of iterations. 5 means up to a 96-gon.\n",
    "numiter = 5\n",
    "\n",
    "for i in range(0, numiter):\n",
    "    # Calculate number of edges.\n",
    "    n = 6 * 2^i\n",
    "    # Print number of edges.\n",
    "    print(n)\n",
    "    # No iteration on first loop.\n",
    "    if i == 0:\n",
    "        # Print value of Pi.\n",
    "        print(((AC * 2 * n)/2).n())\n",
    "    else:    \n",
    "        # Calculate hypotenuse and length of edge.\n",
    "        AD = AC / (OC + 1)\n",
    "        OD = sqrt(OA^2 + AD^2)\n",
    "        # Calculate Pi.\n",
    "        api = ((AD * 2 * n) / 2).n()\n",
    "        # Store values.\n",
    "        AC = AD\n",
    "        OC = OD\n",
    "        # Print value of Pi.\n",
    "        print(api)"
   ]
  }
 ],
 "metadata": {
  "kernelspec": {
   "display_name": "SageMath 10.1",
   "language": "sage",
   "name": "sagemath"
  },
  "language_info": {
   "codemirror_mode": {
    "name": "ipython",
    "version": 3
   },
   "file_extension": ".py",
   "mimetype": "text/x-python",
   "name": "python",
   "nbconvert_exporter": "python",
   "pygments_lexer": "ipython3",
   "version": "3.8.10"
  }
 },
 "nbformat": 4,
 "nbformat_minor": 5
}
