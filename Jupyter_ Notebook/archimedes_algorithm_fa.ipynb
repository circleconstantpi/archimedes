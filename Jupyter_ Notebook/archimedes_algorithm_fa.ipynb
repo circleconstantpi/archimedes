
    "# -------------\n",
    "\n",
    "# Start values 6-gon (hexagon)\n",
    "AC = 1/sqrt(3)\n",
    "OA = 1\n",
    "OC = 2 / 3 * sqrt(3)\n",
    "\n",
    "# Number of iterations. 5 means up to a 96-gon.\n",
    "numiter = 5\n",
    "\n",
    "for i in range(0, numiter):\n",
    "    # Calculate number of edges.\n",
    "    n = 6 * 2^i\n",
    "    # Print number of edges.\n",
    "    print(n)\n",
    "    # No iteration on first loop.\n",
    "    if i == 0:\n",
    "        # Print value of Pi.\n",
    "        print(((AC * 2 * n)/2).n())\n",
    "    else:    \n",
    "        # Calculate hypotenuse and length of edge.\n",
    "        AD = AC / (OC + 1)\n",
    "        OD = sqrt(OA^2 + AD^2)\n",
    "        # Calculate Pi.\n",
    "        api = ((AD * 2 * n) / 2).n()\n",
    "        # Store values.\n",
    "        AC = AD\n",
    "        OC = OD\n",
    "        # Print value of Pi.\n",
    "        print(api)"
   ]
  }
 ],
 "metadata": {
  "kernelspec": {
   "display_name": "SageMath 10.1",
   "language": "sage",
   "name": "sagemath"
  },
  "language_info": {
   "codemirror_mode": {
    "name": "ipython",
    "version": 3
   },
   "file_extension": ".py",
   "mimetype": "text/x-python",
   "name": "python",
   "nbconvert_exporter": "python",
   "pygments_lexer": "ipython3",
   "version": "3.8.10"
  }
 },
 "nbformat": 4,
 "nbformat_minor": 5
}
