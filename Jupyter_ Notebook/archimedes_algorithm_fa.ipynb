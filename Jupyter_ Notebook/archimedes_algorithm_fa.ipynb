{
 "cells": [
  {
   "cell_type": "code",
   "execution_count": 2,
   "id": "1e461b76-b861-4fd9-8097-753a9b2dc176",
   "metadata": {},
   "outputs": [
    {
     "name": "stdout",
     "output_type": "stream",
     "text": [
      "6\n",
      "3.00000000000000\n",
      "12\n",
      "3.10582854123025\n",
      "24\n",
      "3.13262861328125\n",
      "48\n",
      "3.13935020304685\n",
      "96\n",
      "3.14103195089037\n"
     ]
    }
   ],
   "source": [
    "# Inner polygon\n",
    "AC = sqrt(3)\n",
    "AB = 2\n",
    "BC = 1\n",
    "numiter = 5\n",
    "for i in range(0,numiter):\n",
    "    n = 6 * 2^i\n",
    "    print(n)\n",
    "    if i == 0:\n",
    "        print(((BC * n)/2).n())\n",
    "    else:    \n",
    "        AD = AB / sqrt(((BC^2 + (AB + AC)^2))/(AB + AC)^2)\n",
    "        BD = sqrt(AB^2 - AD^2)\n",
    "        api = ((BD * n) / 2).n()\n",
    "        print(api)\n",
    "        BC = BD\n",
    "        AC = AD"
   ]
  },
  {
   "cell_type": "code",
   "execution_count": 3,
   "id": "59e0cd1d-8a16-4ef3-b94c-468c0d9e450c",
   "metadata": {},
   "outputs": [
    {
     "name": "stdout",
     "output_type": "stream",
     "text": [
      "6\n",
      "3.46410161513775\n",
      "12\n",
      "3.21539030917347\n",
      "24\n",
      "3.15965994209750\n",
      "48\n",
      "3.14608621513144\n",
      "96\n",
      "3.14271459964537\n"
     ]
    }
   ],
   "source": [
    "# Outer polygon    \n",
    "AC = 1/sqrt(3)\n",
    "OA = 1\n",
    "OC = 2 / 3 * sqrt(3)\n",
    "numiter = 5\n",
    "for i in range(0, numiter):\n",
    "    n = 6 * 2^i\n",
    "    print(n)\n",
    "    if i == 0:\n",
    "        print(((AC * 2 * n)/2).n())\n",
    "    else:    \n",
    "        AD = AC / (OC + 1)\n",
    "        OD = sqrt(OA^2 + AD^2)\n",
    "        api = ((AD * 2 * n) / 2).n()\n",
    "        print(api)\n",
    "        AC = AD\n",
    "        OC = OD    "
   ]
  }
 ],
 "metadata": {
  "kernelspec": {
   "display_name": "SageMath 10.1",
   "language": "sage",
   "name": "sagemath"
  },
  "language_info": {
   "codemirror_mode": {
    "name": "ipython",
    "version": 3
   },
   "file_extension": ".py",
   "mimetype": "text/x-python",
   "name": "python",
   "nbconvert_exporter": "python",
   "pygments_lexer": "ipython3",
   "version": "3.8.10"
  }
 },
 "nbformat": 4,
 "nbformat_minor": 5
}
