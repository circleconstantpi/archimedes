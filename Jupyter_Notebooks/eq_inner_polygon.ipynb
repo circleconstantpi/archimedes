{
 "cells": [
  {
   "cell_type": "code",
   "execution_count": 1,
   "id": "ee66c31c-6946-4c75-af91-e51002cf14f0",
   "metadata": {},
   "outputs": [],
   "source": [
    "# ##################################################################################\n",
    "# Archimedes, Measurement of a circle\n",
    "# ----------------------------------------------------------------------------------\n",
    "#\n",
    "# Development of the Archimedes equations for the inner polygon.\n",
    "# Version 0.2\n",
    "#\n",
    "# Archimedes, Measurement of a circle, Proposition 3 Part II contains the \n",
    "# solution for the calculation of an approximation of pi via inscribed inner \n",
    "# polygons. The derivation carried out by hand is checked below with SageMath \n",
    "# using a symbolic calculation. The derivation can be checked using an iterative \n",
    "# algorithm. \n",
    "#\n",
    "# The geometric relationships for the inscribed polygon are more difficult to \n",
    "# grasp than for the circumscribed polygon. Knowledge of the ray theorem, Thales'\n",
    "# theorem, Pythagoras' theorem and Euclid's theorems is necessary to understand\n",
    "# the derivation. \n",
    "#\n",
    "# ----------------------------------------------------------------------------------\n",
    "# References\n",
    "#\n",
    "# [1] T. L. HEATH, Sc.D., The Works of Archimedes, EDITED IN MODERN NOTATION, \n",
    "# WITH INTRODUCTORY CHAPTERS, CAMBRIDGE: AT THE UNIVERSITY PRESS, 1897\n",
    "# [2] Dr. Saskia Roos, Michael Jung, An Introductory Course on Sage, Lecture\n",
    "# Notes Summer Term 2020, University of Potsdam, Sep 30, 2020\n",
    "# [3] SageMath, The Sage Development Team, Symbolic Calculus, Release 10.1, \n",
    "# Aug 21, 2023\n",
    "# [4] SageMath, the Sage Mathematics Software System (Version 10.1), The Sage\n",
    "# Developers, https://www.sagemath.org, 2019\n",
    "# ##################################################################################"
   ]
  },
  {
   "cell_type": "code",
   "execution_count": 2,
   "id": "656cfc64-1d18-4fbd-9f4e-74f44c4cbf2a",
   "metadata": {},
   "outputs": [],
   "source": [
    "# User defined function println for printing lines.\n",
    "def println(exp):\n",
    "    '''Function for printing lines with line spacing in form of newlines before\n",
    "    and after the line. We have to take care that an SageMath expressions is \n",
    "    converted to a string before printing.'''\n",
    "    # Convert the type of line to a string.\n",
    "    line = str(exp)\n",
    "    # Print text, a line or a string to the notebook.\n",
    "    print(\"\\n\\n{0}\\n\".format(line))\n",
    "    # End of function. Return None.\n",
    "    return None\n",
    "\n",
    "# Initialise the global variable.\n",
    "eqno = 0\n",
    "\n",
    "# User defined function println_eqno for printing equations.\n",
    "def println_eqno(exp):\n",
    "    global eqno\n",
    "    '''Function for printing lines with line spacing in form of newlines before\n",
    "    and after the line.'''\n",
    "    # Convert the type of line to a string.\n",
    "    line = str(exp)\n",
    "    # Print text, a line or a string to the notebook.\n",
    "    eqno += 1\n",
    "    print(\"\\n(Equation {1})\\t{0}\\n\".format(line, eqno))\n",
    "    exp.show()\n",
    "    # End of function. Return None.\n",
    "    return None"
   ]
  },
  {
   "cell_type": "code",
   "execution_count": 3,
   "id": "64e7af59-5780-4870-89e6-cd5321c7d451",
   "metadata": {},
   "outputs": [
    {
     "data": {
      "text/html": [
       "<font color='blue'><b><H1>Archimedes, Measurement of a Circle<br>Construction of Figure 4</H1></b></font><br/>"
      ],
      "text/plain": [
       "<font color='blue'><b><H1>Archimedes, Measurement of a Circle<br>Construction of Figure 4</H1></b></font><br/>"
      ]
     },
     "execution_count": 3,
     "metadata": {},
     "output_type": "execute_result"
    }
   ],
   "source": [
    "html(\"\"\"<font color='blue'><b><H1>Archimedes, Measurement of a Circle<br>Construction of Figure 4</H1></b></font><br/>\"\"\")"
   ]
  },
  {
   "cell_type": "code",
   "execution_count": 4,
   "id": "d1338e7e-e445-43da-b678-ea0a01fdb9ae",
   "metadata": {
    "tags": []
   },
   "outputs": [],
   "source": [
    "# Radian to degree\n",
    "def rad2deg(rad):\n",
    "    '''Convert radian to degree'''\n",
    "    deg = (180 / pi) * rad\n",
    "    return deg\n",
    "\n",
    "# Degree to radian\n",
    "def deg2rad(deg):\n",
    "    '''Convert degree to radian'''\n",
    "    rad = (pi / 180) * deg\n",
    "    return rad"
   ]
  },
  {
   "cell_type": "code",
   "execution_count": 5,
   "id": "9139f523-d388-494e-aa10-e13e80c98078",
   "metadata": {
    "tags": []
   },
   "outputs": [],
   "source": [
    "def loc_calc(c0):\n",
    "    '''Calculate the co-ordinates.'''\n",
    "    p0 = c0^2 / 2\n",
    "    q0 = (2 - p0)\n",
    "    d0 = p0 - 1\n",
    "    h0 = sqrt(p0 * q0) \n",
    "    return d0, h0\n",
    "\n",
    "loc = []        \n",
    "ac = sqrt(3)\n",
    "ab = 2\n",
    "bc = 1\n",
    "num = 5\n",
    "for i in range(0, num):\n",
    "    if i == 0:\n",
    "        d0, h0 = loc_calc(ac)\n",
    "        loc.append((d0.n(), h0.n()))\n",
    "    else:    \n",
    "        ad = ab / sqrt(((bc^2 + (ab + ac)^2))/(ab + ac)^2)\n",
    "        bd = sqrt(ab^2 - ad^2)\n",
    "        d0, h0 = loc_calc(ad)\n",
    "        loc.append((d0.n(), h0.n()))\n",
    "        bc = bd\n",
    "        ac = ad\n",
    "        \n",
    "ang = []\n",
    "alpha = 30\n",
    "for i in range(0, num):\n",
    "    rad0 = deg2rad(alpha)\n",
    "    rad1 = -1/2*pi - rad0\n",
    "    ang.append((rad1, rad0))\n",
    "    alpha /= 2"
   ]
  },
  {
   "cell_type": "code",
   "execution_count": 6,
   "id": "60e5a563-0912-458b-9ff2-d9d524b58294",
   "metadata": {
    "tags": []
   },
   "outputs": [
    {
     "data": {
      "image/png": "[encoded data removed]",
      "text/plain": [
       "Graphics object consisting of 33 graphics primitives"
      ]
     },
     "execution_count": 6,
     "metadata": {},
     "output_type": "execute_result"
    }
   ],
   "source": [
    "# Plot a semi-circle with axes.\n",
    "r = 1\n",
    "p = plot(sqrt(r^2 - x^2),(x,-1, 1), thickness=1.0, color='magenta', xmin=-1.1, xmax=1.1, \n",
    "         ymin=-0.1, ymax=1.1, axes_labels=['$x$','$y$'], zorder=0, aspect_ratio=1)\n",
    "# Add hyphotenuse, edges and points.\n",
    "alpha = 30\n",
    "for i in range(0,5):\n",
    "    rad = deg2rad(alpha)\n",
    "    d0, h0 = loc[i][0], loc[i][1]\n",
    "    p += plot(-x*tan(rad)+tan(rad),(x,-d0,1), color='blue', zorder=1)\n",
    "    p += line([(-1.0, 0.0), (-d0, h0)], color='darkgreen', zorder=0)\n",
    "    p += point((-d0,h0), color='cyan', pointsize=20, zorder=3)\n",
    "    alpha /= 2\n",
    "# Add labeling.  \n",
    "label = {'$O$': (0.05, -0.05), '$B$': (-1.0, -0.12), '$A$': (1.0, -0.12), \n",
    "         '$C$': (-0.55, 0.90), '$D$': (-0.925, 0.51), '$E$': (-1.02, 0.27),\n",
    "         '$F$': (-1.045, 0.14), '$G$': (-1.05, 0.065), '$d$': (-0.725, 0.4)} \n",
    "for char, posi in label.items():\n",
    "    p += text(char, posi, fontsize=14, color='black', zorder=2)\n",
    "# Add points.\n",
    "p += point(((-1,0), (0,0), (1,0), (-0.729,0.465)), color='cyan', pointsize=20, zorder=3)\n",
    "# Add marker for the right angle.\n",
    "for i in range(0,5):\n",
    "    rad = deg2rad(alpha)\n",
    "    d0, h0 = loc[i][0], loc[i][1]\n",
    "    p += disk((-d0, h0), 0.05, (ang[i][0],-ang[i][1]), color='black', alpha=0.5, zorder=0)\n",
    "# Add angle.\n",
    "p += arc((1.0, 0.0), 0.30, r2=None, sector=(pi,5*pi/6), thickness=1, linestyle='solid', color='black', zorder=4) \n",
    "p += text('$30^{^o}$', (0.775,0.05), fontsize=14, color='black', zorder=4)\n",
    "# Draw the graph.    \n",
    "p.plot()\n",
    "# Save the grap as SVG file.\n",
    "#p.save('archimedes_figure4.svg')"
   ]
  },
  {
   "cell_type": "code",
   "execution_count": 7,
   "id": "098d6433-45e4-4d43-bc31-091839a2f9f6",
   "metadata": {},
   "outputs": [
    {
     "data": {
      "text/html": [
       "<font color='blue'><b><H1>Archimedes, Measurement of a Circle<br>\n",
       "Derivation of the iterative determination equations</H1></b></font><br/>"
      ],
      "text/plain": [
       "<font color='blue'><b><H1>Archimedes, Measurement of a Circle<br>\n",
       "Derivation of the iterative determination equations</H1></b></font><br/>"
      ]
     },
     "execution_count": 7,
     "metadata": {},
     "output_type": "execute_result"
    }
   ],
   "source": [
    "html(\"\"\"<font color='blue'><b><H1>Archimedes, Measurement of a Circle<br>\n",
    "Derivation of the iterative determination equations</H1></b></font><br/>\"\"\")"
   ]
  },
  {
   "cell_type": "code",
   "execution_count": 8,
   "id": "10a4bcde-57e9-4c9f-9f8e-4cb57ff99492",
   "metadata": {},
   "outputs": [
    {
     "name": "stdout",
     "output_type": "stream",
     "text": [
      "\n",
      "(Equation 1)\tAC/Cd == AB/Bd\n",
      "\n"
     ]
    },
    {
     "data": {
      "text/html": [
       "<html>\\(\\displaystyle \\frac{\\mathit{AC}}{\\mathit{Cd}} = \\frac{\\mathit{AB}}{\\mathit{Bd}}\\)</html>"
      ],
      "text/latex": [
       "$\\displaystyle \\frac{\\mathit{AC}}{\\mathit{Cd}} = \\frac{\\mathit{AB}}{\\mathit{Bd}}$"
      ],
      "text/plain": [
       "AC/Cd == AB/Bd"
      ]
     },
     "metadata": {},
     "output_type": "display_data"
    }
   ],
   "source": [
    "# Define the variables. Keep in Mind, that AB (diameter of the circle) is a constant.\n",
    "var('AC Cd AB Bd')\n",
    "# Euclid Book VI Proposition 3.\n",
    "eq0 = AC / Cd == AB / Bd\n",
    "println_eqno(eq0)"
   ]
  },
  {
   "cell_type": "code",
   "execution_count": 9,
   "id": "3002ffaa-2245-4204-898e-5e81397df242",
   "metadata": {},
   "outputs": [
    {
     "name": "stdout",
     "output_type": "stream",
     "text": [
      "\n",
      "(Equation 2)\tAC/(BC*Cd) == AB/(BC*Bd)\n",
      "\n"
     ]
    },
    {
     "data": {
      "text/html": [
       "<html>\\(\\displaystyle \\frac{\\mathit{AC}}{\\mathit{BC} \\mathit{Cd}} = \\frac{\\mathit{AB}}{\\mathit{BC} \\mathit{Bd}}\\)</html>"
      ],
      "text/latex": [
       "$\\displaystyle \\frac{\\mathit{AC}}{\\mathit{BC} \\mathit{Cd}} = \\frac{\\mathit{AB}}{\\mathit{BC} \\mathit{Bd}}$"
      ],
      "text/plain": [
       "AC/(BC*Cd) == AB/(BC*Bd)"
      ]
     },
     "metadata": {},
     "output_type": "display_data"
    },
    {
     "name": "stdout",
     "output_type": "stream",
     "text": [
      "\n",
      "(Equation 3)\tAC/BC == AB*Cd/(BC*Bd)\n",
      "\n"
     ]
    },
    {
     "data": {
      "text/html": [
       "<html>\\(\\displaystyle \\frac{\\mathit{AC}}{\\mathit{BC}} = \\frac{\\mathit{AB} \\mathit{Cd}}{\\mathit{BC} \\mathit{Bd}}\\)</html>"
      ],
      "text/latex": [
       "$\\displaystyle \\frac{\\mathit{AC}}{\\mathit{BC}} = \\frac{\\mathit{AB} \\mathit{Cd}}{\\mathit{BC} \\mathit{Bd}}$"
      ],
      "text/plain": [
       "AC/BC == AB*Cd/(BC*Bd)"
      ]
     },
     "metadata": {},
     "output_type": "display_data"
    },
    {
     "name": "stdout",
     "output_type": "stream",
     "text": [
      "\n",
      "(Equation 4)\tAC*Bd/BC == AB*Cd/BC\n",
      "\n"
     ]
    },
    {
     "data": {
      "text/html": [
       "<html>\\(\\displaystyle \\frac{\\mathit{AC} \\mathit{Bd}}{\\mathit{BC}} = \\frac{\\mathit{AB} \\mathit{Cd}}{\\mathit{BC}}\\)</html>"
      ],
      "text/latex": [
       "$\\displaystyle \\frac{\\mathit{AC} \\mathit{Bd}}{\\mathit{BC}} = \\frac{\\mathit{AB} \\mathit{Cd}}{\\mathit{BC}}$"
      ],
      "text/plain": [
       "AC*Bd/BC == AB*Cd/BC"
      ]
     },
     "metadata": {},
     "output_type": "display_data"
    }
   ],
   "source": [
    "var('BC')\n",
    "# Devide Equation 1 by BC.\n",
    "eq1 = eq0 * 1/BC\n",
    "println_eqno(eq1)\n",
    "# Multiply Equation 2 with Cd.\n",
    "eq2 = eq1 * Cd \n",
    "println_eqno(eq2)\n",
    "# Multiply Equation 3 with Bd.\n",
    "eq3 = eq2 * Bd\n",
    "println_eqno(eq3)"
   ]
  },
  {
   "cell_type": "code",
   "execution_count": 10,
   "id": "978c247b-c324-486d-9e45-7e5dcc592557",
   "metadata": {},
   "outputs": [
    {
     "name": "stdout",
     "output_type": "stream",
     "text": [
      "\n",
      "(Equation 5)\tAB*Bd/BC + AC*Bd/BC == AB*Bd/BC + AB*Cd/BC\n",
      "\n"
     ]
    },
    {
     "data": {
      "text/html": [
       "<html>\\(\\displaystyle \\frac{\\mathit{AB} \\mathit{Bd}}{\\mathit{BC}} + \\frac{\\mathit{AC} \\mathit{Bd}}{\\mathit{BC}} = \\frac{\\mathit{AB} \\mathit{Bd}}{\\mathit{BC}} + \\frac{\\mathit{AB} \\mathit{Cd}}{\\mathit{BC}}\\)</html>"
      ],
      "text/latex": [
       "$\\displaystyle \\frac{\\mathit{AB} \\mathit{Bd}}{\\mathit{BC}} + \\frac{\\mathit{AC} \\mathit{Bd}}{\\mathit{BC}} = \\frac{\\mathit{AB} \\mathit{Bd}}{\\mathit{BC}} + \\frac{\\mathit{AB} \\mathit{Cd}}{\\mathit{BC}}$"
      ],
      "text/plain": [
       "AB*Bd/BC + AC*Bd/BC == AB*Bd/BC + AB*Cd/BC"
      ]
     },
     "metadata": {},
     "output_type": "display_data"
    }
   ],
   "source": [
    "# Add a term on left and right hand side to Equation 4.\n",
    "eq4 = eq3 + (Bd*AB)/BC\n",
    "println_eqno(eq4)"
   ]
  },
  {
   "cell_type": "code",
   "execution_count": 11,
   "id": "e772f1ad-1de7-4ba7-bbd4-f5f24e230f09",
   "metadata": {},
   "outputs": [
    {
     "name": "stdout",
     "output_type": "stream",
     "text": [
      "\n",
      "(Equation 6)\t(AB + AC)*Bd/BC == AB*(Bd + Cd)/BC\n",
      "\n"
     ]
    },
    {
     "data": {
      "text/html": [
       "<html>\\(\\displaystyle \\frac{{\\left(\\mathit{AB} + \\mathit{AC}\\right)} \\mathit{Bd}}{\\mathit{BC}} = \\frac{\\mathit{AB} {\\left(\\mathit{Bd} + \\mathit{Cd}\\right)}}{\\mathit{BC}}\\)</html>"
      ],
      "text/latex": [
       "$\\displaystyle \\frac{{\\left(\\mathit{AB} + \\mathit{AC}\\right)} \\mathit{Bd}}{\\mathit{BC}} = \\frac{\\mathit{AB} {\\left(\\mathit{Bd} + \\mathit{Cd}\\right)}}{\\mathit{BC}}$"
      ],
      "text/plain": [
       "(AB + AC)*Bd/BC == AB*(Bd + Cd)/BC"
      ]
     },
     "metadata": {},
     "output_type": "display_data"
    },
    {
     "name": "stdout",
     "output_type": "stream",
     "text": [
      "\n",
      "(Equation 7)\t(AB + AC)/BC == AB*(Bd + Cd)/(BC*Bd)\n",
      "\n"
     ]
    },
    {
     "data": {
      "text/html": [
       "<html>\\(\\displaystyle \\frac{\\mathit{AB} + \\mathit{AC}}{\\mathit{BC}} = \\frac{\\mathit{AB} {\\left(\\mathit{Bd} + \\mathit{Cd}\\right)}}{\\mathit{BC} \\mathit{Bd}}\\)</html>"
      ],
      "text/latex": [
       "$\\displaystyle \\frac{\\mathit{AB} + \\mathit{AC}}{\\mathit{BC}} = \\frac{\\mathit{AB} {\\left(\\mathit{Bd} + \\mathit{Cd}\\right)}}{\\mathit{BC} \\mathit{Bd}}$"
      ],
      "text/plain": [
       "(AB + AC)/BC == AB*(Bd + Cd)/(BC*Bd)"
      ]
     },
     "metadata": {},
     "output_type": "display_data"
    }
   ],
   "source": [
    "# Simplify Equation 5.\n",
    "eq5 = eq4.full_simplify().factor()\n",
    "println_eqno(eq5)\n",
    "# Devide Equation 6 by Bd.\n",
    "eq6 = eq5 / Bd\n",
    "println_eqno(eq6)"
   ]
  },
  {
   "cell_type": "code",
   "execution_count": 12,
   "id": "3c762593-289e-457e-b7cc-c9bf8b1b2cdc",
   "metadata": {},
   "outputs": [
    {
     "name": "stdout",
     "output_type": "stream",
     "text": [
      "\n",
      "(Equation 8)\t(AB + AC)/BC == AB/Bd\n",
      "\n"
     ]
    },
    {
     "data": {
      "text/html": [
       "<html>\\(\\displaystyle \\frac{\\mathit{AB} + \\mathit{AC}}{\\mathit{BC}} = \\frac{\\mathit{AB}}{\\mathit{Bd}}\\)</html>"
      ],
      "text/latex": [
       "$\\displaystyle \\frac{\\mathit{AB} + \\mathit{AC}}{\\mathit{BC}} = \\frac{\\mathit{AB}}{\\mathit{Bd}}$"
      ],
      "text/plain": [
       "(AB + AC)/BC == AB/Bd"
      ]
     },
     "metadata": {},
     "output_type": "display_data"
    }
   ],
   "source": [
    "# We know, that BC = Bd + Cd is.\n",
    "# We know also that (AB*Bd + AB*Cd) = AB*(Bd + Cd).\n",
    "# So we rewrite Equation 7.\n",
    "eq7 = (AB + AC)/BC == AB*BC/(BC*Bd)\n",
    "println_eqno(eq7)"
   ]
  },
  {
   "cell_type": "code",
   "execution_count": 13,
   "id": "bfd5517b-462f-49c0-8b78-55b7acefce74",
   "metadata": {},
   "outputs": [
    {
     "name": "stdout",
     "output_type": "stream",
     "text": [
      "\n",
      "(Equation 9)\tAD/BD == (AB + AC)/BC\n",
      "\n"
     ]
    },
    {
     "data": {
      "text/html": [
       "<html>\\(\\displaystyle \\frac{\\mathit{AD}}{\\mathit{BD}} = \\frac{\\mathit{AB} + \\mathit{AC}}{\\mathit{BC}}\\)</html>"
      ],
      "text/latex": [
       "$\\displaystyle \\frac{\\mathit{AD}}{\\mathit{BD}} = \\frac{\\mathit{AB} + \\mathit{AC}}{\\mathit{BC}}$"
      ],
      "text/plain": [
       "AD/BD == (AB + AC)/BC"
      ]
     },
     "metadata": {},
     "output_type": "display_data"
    }
   ],
   "source": [
    "var('AD BD')\n",
    "# And now we consider AD/BD and\n",
    "# use AB/Bd = AC/Cd = AD/BD.\n",
    "eq9 = AD/BD == (AB + AC)/BC\n",
    "println_eqno(eq9)"
   ]
  },
  {
   "cell_type": "code",
   "execution_count": 14,
   "id": "82903cc5-d8ae-46ce-8b02-42529cb99a14",
   "metadata": {},
   "outputs": [
    {
     "name": "stdout",
     "output_type": "stream",
     "text": [
      "\n",
      "(Equation 10)\tAD^2/BD^2 == (AB + AC)^2/BC^2\n",
      "\n"
     ]
    },
    {
     "data": {
      "text/html": [
       "<html>\\(\\displaystyle \\frac{\\mathit{AD}^{2}}{\\mathit{BD}^{2}} = \\frac{{\\left(\\mathit{AB} + \\mathit{AC}\\right)}^{2}}{\\mathit{BC}^{2}}\\)</html>"
      ],
      "text/latex": [
       "$\\displaystyle \\frac{\\mathit{AD}^{2}}{\\mathit{BD}^{2}} = \\frac{{\\left(\\mathit{AB} + \\mathit{AC}\\right)}^{2}}{\\mathit{BC}^{2}}$"
      ],
      "text/plain": [
       "AD^2/BD^2 == (AB + AC)^2/BC^2"
      ]
     },
     "metadata": {},
     "output_type": "display_data"
    }
   ],
   "source": [
    "# Square Equation 9.\n",
    "eq10 = eq9^2\n",
    "println_eqno(eq10)"
   ]
  },
  {
   "cell_type": "code",
   "execution_count": 15,
   "id": "dd6009a1-2717-4386-ae04-4abe1e4553a3",
   "metadata": {},
   "outputs": [
    {
     "name": "stdout",
     "output_type": "stream",
     "text": [
      "\n",
      "(Equation 11)\tAD^2 == (AB^2 + 2*AB*AC + AC^2)*BD^2/BC^2\n",
      "\n"
     ]
    },
    {
     "data": {
      "text/html": [
       "<html>\\(\\displaystyle \\mathit{AD}^{2} = \\frac{{\\left(\\mathit{AB}^{2} + 2 \\, \\mathit{AB} \\mathit{AC} + \\mathit{AC}^{2}\\right)} \\mathit{BD}^{2}}{\\mathit{BC}^{2}}\\)</html>"
      ],
      "text/latex": [
       "$\\displaystyle \\mathit{AD}^{2} = \\frac{{\\left(\\mathit{AB}^{2} + 2 \\, \\mathit{AB} \\mathit{AC} + \\mathit{AC}^{2}\\right)} \\mathit{BD}^{2}}{\\mathit{BC}^{2}}$"
      ],
      "text/plain": [
       "AD^2 == (AB^2 + 2*AB*AC + AC^2)*BD^2/BC^2"
      ]
     },
     "metadata": {},
     "output_type": "display_data"
    }
   ],
   "source": [
    "# Solve Equation 10 for AD^2.\n",
    "eq11 = solve(eq10, AD^2)\n",
    "println_eqno(eq11[0])"
   ]
  },
  {
   "cell_type": "code",
   "execution_count": 16,
   "id": "45cc599e-b467-422e-9063-3973023652e0",
   "metadata": {},
   "outputs": [
    {
     "name": "stdout",
     "output_type": "stream",
     "text": [
      "\n",
      "(Equation 12)\tAD^2 == (AB + AC)^2*BD^2/BC^2\n",
      "\n"
     ]
    },
    {
     "data": {
      "text/html": [
       "<html>\\(\\displaystyle \\mathit{AD}^{2} = \\frac{{\\left(\\mathit{AB} + \\mathit{AC}\\right)}^{2} \\mathit{BD}^{2}}{\\mathit{BC}^{2}}\\)</html>"
      ],
      "text/latex": [
       "$\\displaystyle \\mathit{AD}^{2} = \\frac{{\\left(\\mathit{AB} + \\mathit{AC}\\right)}^{2} \\mathit{BD}^{2}}{\\mathit{BC}^{2}}$"
      ],
      "text/plain": [
       "AD^2 == (AB + AC)^2*BD^2/BC^2"
      ]
     },
     "metadata": {},
     "output_type": "display_data"
    }
   ],
   "source": [
    "# Try to factorise Equation 11. \n",
    "eq12 = eq11[0].factor()\n",
    "println_eqno(eq12)"
   ]
  },
  {
   "cell_type": "code",
   "execution_count": 17,
   "id": "e251d760-c32d-44ec-ad5d-9a1561d58ad7",
   "metadata": {},
   "outputs": [
    {
     "name": "stdout",
     "output_type": "stream",
     "text": [
      "\n",
      "(Equation 13)\tAD^2 == AB^2 - BD^2\n",
      "\n"
     ]
    },
    {
     "data": {
      "text/html": [
       "<html>\\(\\displaystyle \\mathit{AD}^{2} = \\mathit{AB}^{2} - \\mathit{BD}^{2}\\)</html>"
      ],
      "text/latex": [
       "$\\displaystyle \\mathit{AD}^{2} = \\mathit{AB}^{2} - \\mathit{BD}^{2}$"
      ],
      "text/plain": [
       "AD^2 == AB^2 - BD^2"
      ]
     },
     "metadata": {},
     "output_type": "display_data"
    }
   ],
   "source": [
    "# Get the determination equation for AD^2.\n",
    "eq13 = AD^2 == AB^2 - BD^2\n",
    "println_eqno(eq13)"
   ]
  },
  {
   "cell_type": "code",
   "execution_count": 18,
   "id": "4e8215ef-e117-4b17-ba59-2a4c802d14f9",
   "metadata": {},
   "outputs": [
    {
     "name": "stdout",
     "output_type": "stream",
     "text": [
      "\n",
      "(Equation 14)\tBD^2 == AB^2*BC^2/(AB^2 + 2*AB*AC + AC^2 + BC^2)\n",
      "\n"
     ]
    },
    {
     "data": {
      "text/html": [
       "<html>\\(\\displaystyle \\mathit{BD}^{2} = \\frac{\\mathit{AB}^{2} \\mathit{BC}^{2}}{\\mathit{AB}^{2} + 2 \\, \\mathit{AB} \\mathit{AC} + \\mathit{AC}^{2} + \\mathit{BC}^{2}}\\)</html>"
      ],
      "text/latex": [
       "$\\displaystyle \\mathit{BD}^{2} = \\frac{\\mathit{AB}^{2} \\mathit{BC}^{2}}{\\mathit{AB}^{2} + 2 \\, \\mathit{AB} \\mathit{AC} + \\mathit{AC}^{2} + \\mathit{BC}^{2}}$"
      ],
      "text/plain": [
       "BD^2 == AB^2*BC^2/(AB^2 + 2*AB*AC + AC^2 + BC^2)"
      ]
     },
     "metadata": {},
     "output_type": "display_data"
    }
   ],
   "source": [
    "# We are looking for the edge length BD.\n",
    "eq14 = solve((AB + AC)^2*BD^2/BC^2 == AB^2 - BD^2, BD^2)\n",
    "println_eqno(eq14[0])"
   ]
  },
  {
   "cell_type": "code",
   "execution_count": 19,
   "id": "df02bf7e-b42a-4ac6-91b3-d77fc2d0e602",
   "metadata": {},
   "outputs": [
    {
     "name": "stdout",
     "output_type": "stream",
     "text": [
      "\n",
      "(Equation 15)\tBD^2 == AB^2*BC^2/((AB + AC)^2 + BC^2)\n",
      "\n"
     ]
    },
    {
     "data": {
      "text/html": [
       "<html>\\(\\displaystyle \\mathit{BD}^{2} = \\frac{\\mathit{AB}^{2} \\mathit{BC}^{2}}{{\\left(\\mathit{AB} + \\mathit{AC}\\right)}^{2} + \\mathit{BC}^{2}}\\)</html>"
      ],
      "text/latex": [
       "$\\displaystyle \\mathit{BD}^{2} = \\frac{\\mathit{AB}^{2} \\mathit{BC}^{2}}{{\\left(\\mathit{AB} + \\mathit{AC}\\right)}^{2} + \\mathit{BC}^{2}}$"
      ],
      "text/plain": [
       "BD^2 == AB^2*BC^2/((AB + AC)^2 + BC^2)"
      ]
     },
     "metadata": {},
     "output_type": "display_data"
    }
   ],
   "source": [
    "# Factorise Equation 14.\n",
    "eq15 = BD^2 == AB^2*BC^2/((AB^2 + 2*AB*AC + AC^2).factor() + BC^2)\n",
    "println_eqno(eq15)"
   ]
  },
  {
   "cell_type": "code",
   "execution_count": 20,
   "id": "861578ca-d504-4370-9c97-31179579c380",
   "metadata": {},
   "outputs": [
    {
     "name": "stdout",
     "output_type": "stream",
     "text": [
      "\n",
      "(Equation 16)\tAD^2 == -AB^2*BC^2/((AB + AC)^2 + BC^2) + AB^2\n",
      "\n"
     ]
    },
    {
     "data": {
      "text/html": [
       "<html>\\(\\displaystyle \\mathit{AD}^{2} = -\\frac{\\mathit{AB}^{2} \\mathit{BC}^{2}}{{\\left(\\mathit{AB} + \\mathit{AC}\\right)}^{2} + \\mathit{BC}^{2}} + \\mathit{AB}^{2}\\)</html>"
      ],
      "text/latex": [
       "$\\displaystyle \\mathit{AD}^{2} = -\\frac{\\mathit{AB}^{2} \\mathit{BC}^{2}}{{\\left(\\mathit{AB} + \\mathit{AC}\\right)}^{2} + \\mathit{BC}^{2}} + \\mathit{AB}^{2}$"
      ],
      "text/plain": [
       "AD^2 == -AB^2*BC^2/((AB + AC)^2 + BC^2) + AB^2"
      ]
     },
     "metadata": {},
     "output_type": "display_data"
    }
   ],
   "source": [
    "# Get the determination equation for AD^2.\n",
    "eq16 = AD^2 == AB^2 - AB^2*BC^2/((AB + AC)^2 + BC^2)\n",
    "println_eqno(eq16)"
   ]
  },
  {
   "cell_type": "code",
   "execution_count": 21,
   "id": "e5392de9-2353-4d66-89b9-b14e961b0c83",
   "metadata": {},
   "outputs": [
    {
     "name": "stdout",
     "output_type": "stream",
     "text": [
      "\n",
      "(Equation 17)\tAD^2 == (AB + AC)^2*AB^2/(AB^2 + 2*AB*AC + AC^2 + BC^2)\n",
      "\n"
     ]
    },
    {
     "data": {
      "text/html": [
       "<html>\\(\\displaystyle \\mathit{AD}^{2} = \\frac{{\\left(\\mathit{AB} + \\mathit{AC}\\right)}^{2} \\mathit{AB}^{2}}{\\mathit{AB}^{2} + 2 \\, \\mathit{AB} \\mathit{AC} + \\mathit{AC}^{2} + \\mathit{BC}^{2}}\\)</html>"
      ],
      "text/latex": [
       "$\\displaystyle \\mathit{AD}^{2} = \\frac{{\\left(\\mathit{AB} + \\mathit{AC}\\right)}^{2} \\mathit{AB}^{2}}{\\mathit{AB}^{2} + 2 \\, \\mathit{AB} \\mathit{AC} + \\mathit{AC}^{2} + \\mathit{BC}^{2}}$"
      ],
      "text/plain": [
       "AD^2 == (AB + AC)^2*AB^2/(AB^2 + 2*AB*AC + AC^2 + BC^2)"
      ]
     },
     "metadata": {},
     "output_type": "display_data"
    }
   ],
   "source": [
    "# Simplify Equation 16.\n",
    "eq16a = eq16.full_simplify().factor()\n",
    "println_eqno(eq16a)"
   ]
  },
  {
   "cell_type": "code",
   "execution_count": 22,
   "id": "b1f00c49-584d-4206-9dc3-01481496aa03",
   "metadata": {},
   "outputs": [
    {
     "name": "stdout",
     "output_type": "stream",
     "text": [
      "\n",
      "(Equation 18)\tAD^2 == (AB + AC)^2*AB^2/((AB + AC)^2 + BC^2)\n",
      "\n"
     ]
    },
    {
     "data": {
      "text/html": [
       "<html>\\(\\displaystyle \\mathit{AD}^{2} = \\frac{{\\left(\\mathit{AB} + \\mathit{AC}\\right)}^{2} \\mathit{AB}^{2}}{{\\left(\\mathit{AB} + \\mathit{AC}\\right)}^{2} + \\mathit{BC}^{2}}\\)</html>"
      ],
      "text/latex": [
       "$\\displaystyle \\mathit{AD}^{2} = \\frac{{\\left(\\mathit{AB} + \\mathit{AC}\\right)}^{2} \\mathit{AB}^{2}}{{\\left(\\mathit{AB} + \\mathit{AC}\\right)}^{2} + \\mathit{BC}^{2}}$"
      ],
      "text/plain": [
       "AD^2 == (AB + AC)^2*AB^2/((AB + AC)^2 + BC^2)"
      ]
     },
     "metadata": {},
     "output_type": "display_data"
    }
   ],
   "source": [
    "# Simplify Equation 17.\n",
    "eq17 = AD^2 == (AB^4 + 2*AB^3*AC + AB^2*AC^2).factor()/((AB^2 + 2*AB*AC + AC^2).factor() + BC^2)\n",
    "println_eqno(eq17)"
   ]
  },
  {
   "cell_type": "code",
   "execution_count": 23,
   "id": "01c3b097-dbab-4bd9-a07e-312742a29453",
   "metadata": {},
   "outputs": [
    {
     "name": "stdout",
     "output_type": "stream",
     "text": [
      "\n",
      "(Equation 19)\tAD == (AB + AC)*AB/sqrt(AB^2 + 2*AB*AC + AC^2 + BC^2)\n",
      "\n"
     ]
    },
    {
     "data": {
      "text/html": [
       "<html>\\(\\displaystyle \\mathit{AD} = \\frac{{\\left(\\mathit{AB} + \\mathit{AC}\\right)} \\mathit{AB}}{\\sqrt{\\mathit{AB}^{2} + 2 \\, \\mathit{AB} \\mathit{AC} + \\mathit{AC}^{2} + \\mathit{BC}^{2}}}\\)</html>"
      ],
      "text/latex": [
       "$\\displaystyle \\mathit{AD} = \\frac{{\\left(\\mathit{AB} + \\mathit{AC}\\right)} \\mathit{AB}}{\\sqrt{\\mathit{AB}^{2} + 2 \\, \\mathit{AB} \\mathit{AC} + \\mathit{AC}^{2} + \\mathit{BC}^{2}}}$"
      ],
      "text/plain": [
       "AD == (AB + AC)*AB/sqrt(AB^2 + 2*AB*AC + AC^2 + BC^2)"
      ]
     },
     "metadata": {},
     "output_type": "display_data"
    }
   ],
   "source": [
    "# Simplify the square roots.\n",
    "eq18 = (eq17^(1/2)).canonicalize_radical().factor()\n",
    "println_eqno(eq18)"
   ]
  },
  {
   "cell_type": "code",
   "execution_count": 24,
   "id": "a32e6c85-030d-46bd-92db-c629c94b63f5",
   "metadata": {},
   "outputs": [
    {
     "data": {
      "text/html": [
       "<font color='green'><b><H1>Determination equations</H1></b></font><br/>"
      ],
      "text/plain": [
       "<font color='green'><b><H1>Determination equations</H1></b></font><br/>"
      ]
     },
     "execution_count": 24,
     "metadata": {},
     "output_type": "execute_result"
    }
   ],
   "source": [
    "html(\"\"\"<font color='green'><b><H1>Determination equations</H1></b></font><br/>\"\"\")"
   ]
  },
  {
   "cell_type": "code",
   "execution_count": 25,
   "id": "20bdc9ec-1025-420d-8283-5fdb5d883965",
   "metadata": {},
   "outputs": [
    {
     "name": "stdout",
     "output_type": "stream",
     "text": [
      "\n",
      "(Equation 20)\tAD == AB/sqrt(BC^2/(AB + AC)^2 + 1)\n",
      "\n"
     ]
    },
    {
     "data": {
      "text/html": [
       "<html>\\(\\displaystyle \\mathit{AD} = \\frac{\\mathit{AB}}{\\sqrt{\\frac{\\mathit{BC}^{2}}{{\\left(\\mathit{AB} + \\mathit{AC}\\right)}^{2}} + 1}}\\)</html>"
      ],
      "text/latex": [
       "$\\displaystyle \\mathit{AD} = \\frac{\\mathit{AB}}{\\sqrt{\\frac{\\mathit{BC}^{2}}{{\\left(\\mathit{AB} + \\mathit{AC}\\right)}^{2}} + 1}}$"
      ],
      "text/plain": [
       "AD == AB/sqrt(BC^2/(AB + AC)^2 + 1)"
      ]
     },
     "metadata": {},
     "output_type": "display_data"
    }
   ],
   "source": [
    "# First Archimedes determination equation.\n",
    "Eq1 = AD == AB/sqrt(1+(BC^2/(AB+AC)^2))\n",
    "println_eqno(Eq1)"
   ]
  },
  {
   "cell_type": "code",
   "execution_count": 26,
   "id": "0cac5ba0-cc63-4725-8e06-a0dde4e6d55d",
   "metadata": {
    "tags": []
   },
   "outputs": [
    {
     "name": "stdout",
     "output_type": "stream",
     "text": [
      "\n",
      "(Equation 21)\tBD == sqrt(AB^2 - AD^2)\n",
      "\n"
     ]
    },
    {
     "data": {
      "text/html": [
       "<html>\\(\\displaystyle \\mathit{BD} = \\sqrt{\\mathit{AB}^{2} - \\mathit{AD}^{2}}\\)</html>"
      ],
      "text/latex": [
       "$\\displaystyle \\mathit{BD} = \\sqrt{\\mathit{AB}^{2} - \\mathit{AD}^{2}}$"
      ],
      "text/plain": [
       "BD == sqrt(AB^2 - AD^2)"
      ]
     },
     "metadata": {},
     "output_type": "display_data"
    }
   ],
   "source": [
    "# Second Archimedes determination equation.\n",
    "Eq2 = BD == sqrt(AB^2 - AD^2)\n",
    "println_eqno(Eq2)"
   ]
  },
  {
   "cell_type": "code",
   "execution_count": 27,
   "id": "1316ca72-8807-4a0f-b940-57d2056e378e",
   "metadata": {
    "tags": []
   },
   "outputs": [],
   "source": [
    "# After the first iteration Eq. 1 and Eq. 2 are the start values for the\n",
    "# next iteration. Eq. 1 is the new length of the hypothenuse and Eq. 2 is\n",
    "# the new length of the edge. Archimedes did this for (6), 12, 24, 48 and\n",
    "# 96 edges."
   ]
  }
 ],
 "metadata": {
  "kernelspec": {
   "display_name": "SageMath 10.1",
   "language": "sage",
   "name": "sagemath"
  },
  "language_info": {
   "codemirror_mode": {
    "name": "ipython",
    "version": 3
   },
   "file_extension": ".py",
   "mimetype": "text/x-python",
   "name": "python",
   "nbconvert_exporter": "python",
   "pygments_lexer": "ipython3",
   "version": "3.8.10"
  }
 },
 "nbformat": 4,
 "nbformat_minor": 5
}
