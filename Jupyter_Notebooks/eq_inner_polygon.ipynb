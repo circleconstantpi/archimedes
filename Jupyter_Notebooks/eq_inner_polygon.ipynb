{
 "cells": [
  {
   "cell_type": "code",
   "execution_count": 1,
   "id": "ee66c31c-6946-4c75-af91-e51002cf14f0",
   "metadata": {},
   "outputs": [],
   "source": [
    "# ##################################################################################\n",
    "# Archimedes, Measurement of a circle\n",
    "# ----------------------------------------------------------------------------------\n",
    "#\n",
    "# Development of the Archimedes equations for the inner polygon.\n",
    "# Version 0.3\n",
    "#\n",
    "# Archimedes, Measurement of a circle, Proposition 3 Part II contains the \n",
    "# solution for the calculation of an approximation of pi via inscribed inner \n",
    "# polygons. The derivation carried out by hand is checked below with SageMath \n",
    "# using a symbolic calculation. The derivation can be checked using an iterative \n",
    "# algorithm. \n",
    "#\n",
    "# The geometric relationships for the inscribed polygon are more difficult to \n",
    "# grasp than for the circumscribed polygon. Knowledge of the ray theorem, Thales'\n",
    "# theorem, Pythagoras' theorem and Euclid's theorems is necessary to understand\n",
    "# the derivation. \n",
    "#\n",
    "# The following derivations are almost completely automated, so that errors can be \n",
    "# avoided. Some terms had to be used and edited by copy and paste in order to use \n",
    "# them specifically.\n",
    "# \n",
    "# Open issues are:\n",
    "# 1. How can an expression be extracted from a square root.\n",
    "#\n",
    "# ----------------------------------------------------------------------------------\n",
    "# References\n",
    "#\n",
    "# [1] T. L. HEATH, Sc.D., The Works of Archimedes, EDITED IN MODERN NOTATION, \n",
    "# WITH INTRODUCTORY CHAPTERS, CAMBRIDGE: AT THE UNIVERSITY PRESS, 1897\n",
    "# [2] Dr. Saskia Roos, Michael Jung, An Introductory Course on Sage, Lecture\n",
    "# Notes Summer Term 2020, University of Potsdam, Sep 30, 2020\n",
    "# [3] SageMath, The Sage Development Team, Symbolic Calculus, Release 10.1, \n",
    "# Aug 21, 2023\n",
    "# [4] SageMath, the Sage Mathematics Software System (Version 10.1), The Sage\n",
    "# Developers, https://www.sagemath.org, 2019\n",
    "# ##################################################################################"
   ]
  },
  {
   "cell_type": "code",
   "execution_count": 2,
   "id": "e996aaf2-4394-4db9-88fd-19094a5e71b0",
   "metadata": {},
   "outputs": [
    {
     "data": {
      "text/html": [
       "<font color='purple'><b><H1>User defined functions</H1></b></font><br/>"
      ],
      "text/plain": [
       "<font color='purple'><b><H1>User defined functions</H1></b></font><br/>"
      ]
     },
     "execution_count": 2,
     "metadata": {},
     "output_type": "execute_result"
    }
   ],
   "source": [
    "html(\"\"\"<font color='purple'><b><H1>User defined functions</H1></b></font><br/>\"\"\")"
   ]
  },
  {
   "cell_type": "code",
   "execution_count": 3,
   "id": "be7c31cc-1d2a-4ba1-acea-d5e114b83b86",
   "metadata": {},
   "outputs": [],
   "source": [
    "# User defined function println for printing lines.\n",
    "def println(exp):\n",
    "    '''Function for printing lines with line spacing in form of newlines before\n",
    "    and after the line. We have to take care that an SageMath expressions is \n",
    "    converted to a string before printing.'''\n",
    "    # Convert the type of line to a string.\n",
    "    line = str(exp)\n",
    "    # Print text, a line or a string to the notebook.\n",
    "    print(\"\\n{0}\\n\".format(line))\n",
    "    # End of function. Return None.\n",
    "    return None"
   ]
  },
  {
   "cell_type": "code",
   "execution_count": 4,
   "id": "656cfc64-1d18-4fbd-9f4e-74f44c4cbf2a",
   "metadata": {},
   "outputs": [],
   "source": [
    "# Initialise the global variables.\n",
    "EqNo = 0\n",
    "LnLen = 80\n",
    "# LnLen = -1 <- Disabled global LnLen\n",
    "\n",
    "# User defined function println_eqno for printing equations.\n",
    "def println_eqno(exp, lnlen=80):\n",
    "    '''Function for printing lines with line spacing in form of newlines before\n",
    "    and after the line.'''\n",
    "    global EqNo, LnLen\n",
    "    if LnLen != -1:\n",
    "        lnlen = LnLen\n",
    "    # Convert the type of line to a string.\n",
    "    line = str(exp)\n",
    "    # Calculate the necessary number of spaces. \n",
    "    spclen = lnlen - len(line)\n",
    "    # Create the string with the spaces.\n",
    "    space = \"\".join(u'\\u0020' for i in range(spclen))\n",
    "    # Print text, a line or a string to the notebook.\n",
    "    EqNo += 1\n",
    "    print(\"\\n{0}{1}(Equation {2})\\n\".format(line, space, EqNo))\n",
    "    exp.show()\n",
    "    # End of function. Return None.\n",
    "    return None"
   ]
  },
  {
   "cell_type": "code",
   "execution_count": 5,
   "id": "1eee82fe-5aa7-4169-a5fd-df6a7b5b762a",
   "metadata": {},
   "outputs": [],
   "source": [
    "def plot_figure(imgfn, xsize=8, ysize=8):\n",
    "    '''Use matlibplot to show an image.'''\n",
    "    # Import the matplotlib modules by name.\n",
    "    import matplotlib.pyplot as plt\n",
    "    import matplotlib.image as img\n",
    "    import matplotlib.image as figure\n",
    "    # Read the PNG graphic file.\n",
    "    img = img.imread(imgfn) \n",
    "    # Do not show axes and frame.\n",
    "    plt.axis('off')\n",
    "    # Scale the image on the notebook.\n",
    "    # plt.rcdefaults() resets the image size.\n",
    "    plt.rcParams['figure.figsize'] = [xsize, ysize]\n",
    "    # Change the paramter for a larger or a smaller graphic.   \n",
    "    # plt.title('Title of the graphic') adds a title to the image.\n",
    "    plt.imshow(img)\n",
    "    plt.show()\n",
    "    # End of function. Return None.\n",
    "    return None"
   ]
  },
  {
   "cell_type": "code",
   "execution_count": 6,
   "id": "64e7af59-5780-4870-89e6-cd5321c7d451",
   "metadata": {},
   "outputs": [
    {
     "data": {
      "text/html": [
       "<font color='blue'><b><H1>Archimedes, Measurement of a Circle<br>Construction of Figure 4</H1></b></font><br/>"
      ],
      "text/plain": [
       "<font color='blue'><b><H1>Archimedes, Measurement of a Circle<br>Construction of Figure 4</H1></b></font><br/>"
      ]
     },
     "execution_count": 6,
     "metadata": {},
     "output_type": "execute_result"
    }
   ],
   "source": [
    "html(\"\"\"<font color='blue'><b><H1>Archimedes, Measurement of a Circle<br>Construction of Figure 4</H1></b></font><br/>\"\"\")"
   ]
  },
  {
   "cell_type": "code",
   "execution_count": 7,
   "id": "af6282ff-1a06-4cd0-b27c-0513c3e77493",
   "metadata": {},
   "outputs": [
    {
     "data": {
      "image/png": "[encoded data removed]",
      "text/plain": [
       "<Figure size 640x480 with 1 Axes>"
      ]
     },
     "metadata": {},
     "output_type": "display_data"
    }
   ],
   "source": [
    "plot_figure(\"archimedes_figure4.png\")"
   ]
  },
  {
   "cell_type": "code",
   "execution_count": 8,
   "id": "098d6433-45e4-4d43-bc31-091839a2f9f6",
   "metadata": {},
   "outputs": [
    {
     "data": {
      "text/html": [
       "<font color='blue'><b><H1>Archimedes, Measurement of a Circle<br>\n",
       "Derivation of the iterative determination equations</H1></b></font><br/>"
      ],
      "text/plain": [
       "<font color='blue'><b><H1>Archimedes, Measurement of a Circle<br>\n",
       "Derivation of the iterative determination equations</H1></b></font><br/>"
      ]
     },
     "execution_count": 8,
     "metadata": {},
     "output_type": "execute_result"
    }
   ],
   "source": [
    "html(\"\"\"<font color='blue'><b><H1>Archimedes, Measurement of a Circle<br>\n",
    "Derivation of the iterative determination equations</H1></b></font><br/>\"\"\")"
   ]
  },
  {
   "cell_type": "code",
   "execution_count": 9,
   "id": "473758ad-3c9e-4e72-92f9-80cb0ee66d50",
   "metadata": {},
   "outputs": [],
   "source": [
    "# For the hexagon AB, AC and BC are known. AB is the diameter of the circle.\n",
    "# AB is constand, while AC and BC are used to calculate AD and BD and so on.\n",
    "# \n",
    "# AC = sqrt(3)\n",
    "# AB = 2\n",
    "# BC = 1"
   ]
  },
  {
   "cell_type": "code",
   "execution_count": 10,
   "id": "10a4bcde-57e9-4c9f-9f8e-4cb57ff99492",
   "metadata": {},
   "outputs": [
    {
     "name": "stdout",
     "output_type": "stream",
     "text": [
      "Euclid Book VI Proposition 3:\n",
      "\n",
      "AC/Cd == AB/Bd                                                                  (Equation 1)\n",
      "\n"
     ]
    },
    {
     "data": {
      "text/html": [
       "<html>\\(\\displaystyle \\frac{\\mathit{AC}}{\\mathit{Cd}} = \\frac{\\mathit{AB}}{\\mathit{Bd}}\\)</html>"
      ],
      "text/latex": [
       "$\\displaystyle \\frac{\\mathit{AC}}{\\mathit{Cd}} = \\frac{\\mathit{AB}}{\\mathit{Bd}}$"
      ],
      "text/plain": [
       "AC/Cd == AB/Bd"
      ]
     },
     "metadata": {},
     "output_type": "display_data"
    }
   ],
   "source": [
    "# Define the variables. Keep in Mind, that AB (diameter of the circle) is a constant.\n",
    "var('AC Cd AB Bd')\n",
    "# Euclid Book VI Proposition 3.\n",
    "print(\"Euclid Book VI Proposition 3:\")\n",
    "eq0 = AC / Cd == AB / Bd\n",
    "println_eqno(eq0)"
   ]
  },
  {
   "cell_type": "code",
   "execution_count": 11,
   "id": "67f2f9f2-ed9a-4b53-974e-2cdac8eaa1b2",
   "metadata": {},
   "outputs": [
    {
     "name": "stdout",
     "output_type": "stream",
     "text": [
      "Devide Equation 1 by BC:\n",
      "\n",
      "AC/(BC*Cd) == AB/(BC*Bd)                                                        (Equation 2)\n",
      "\n"
     ]
    },
    {
     "data": {
      "text/html": [
       "<html>\\(\\displaystyle \\frac{\\mathit{AC}}{\\mathit{BC} \\mathit{Cd}} = \\frac{\\mathit{AB}}{\\mathit{BC} \\mathit{Bd}}\\)</html>"
      ],
      "text/latex": [
       "$\\displaystyle \\frac{\\mathit{AC}}{\\mathit{BC} \\mathit{Cd}} = \\frac{\\mathit{AB}}{\\mathit{BC} \\mathit{Bd}}$"
      ],
      "text/plain": [
       "AC/(BC*Cd) == AB/(BC*Bd)"
      ]
     },
     "metadata": {},
     "output_type": "display_data"
    }
   ],
   "source": [
    "var('BC')\n",
    "# Devide Equation 1 by BC.\n",
    "print(\"Devide Equation 1 by BC:\")\n",
    "eq1 = eq0 * 1/BC\n",
    "println_eqno(eq1)"
   ]
  },
  {
   "cell_type": "code",
   "execution_count": 12,
   "id": "59ac2230-32e0-4565-8a7a-46711670364b",
   "metadata": {
    "tags": []
   },
   "outputs": [
    {
     "name": "stdout",
     "output_type": "stream",
     "text": [
      "Multiply Equation 2 by Cd:\n",
      "\n",
      "AC/BC == AB*Cd/(BC*Bd)                                                          (Equation 3)\n",
      "\n"
     ]
    },
    {
     "data": {
      "text/html": [
       "<html>\\(\\displaystyle \\frac{\\mathit{AC}}{\\mathit{BC}} = \\frac{\\mathit{AB} \\mathit{Cd}}{\\mathit{BC} \\mathit{Bd}}\\)</html>"
      ],
      "text/latex": [
       "$\\displaystyle \\frac{\\mathit{AC}}{\\mathit{BC}} = \\frac{\\mathit{AB} \\mathit{Cd}}{\\mathit{BC} \\mathit{Bd}}$"
      ],
      "text/plain": [
       "AC/BC == AB*Cd/(BC*Bd)"
      ]
     },
     "metadata": {},
     "output_type": "display_data"
    }
   ],
   "source": [
    "# Multiply Equation 2 with Cd.\n",
    "print(\"Multiply Equation 2 by Cd:\")\n",
    "eq2 = eq1 * Cd \n",
    "println_eqno(eq2)"
   ]
  },
  {
   "cell_type": "code",
   "execution_count": 13,
   "id": "3002ffaa-2245-4204-898e-5e81397df242",
   "metadata": {},
   "outputs": [
    {
     "name": "stdout",
     "output_type": "stream",
     "text": [
      "Multiply Equation 3 by Bd:\n",
      "\n",
      "AC*Bd/BC == AB*Cd/BC                                                            (Equation 4)\n",
      "\n"
     ]
    },
    {
     "data": {
      "text/html": [
       "<html>\\(\\displaystyle \\frac{\\mathit{AC} \\mathit{Bd}}{\\mathit{BC}} = \\frac{\\mathit{AB} \\mathit{Cd}}{\\mathit{BC}}\\)</html>"
      ],
      "text/latex": [
       "$\\displaystyle \\frac{\\mathit{AC} \\mathit{Bd}}{\\mathit{BC}} = \\frac{\\mathit{AB} \\mathit{Cd}}{\\mathit{BC}}$"
      ],
      "text/plain": [
       "AC*Bd/BC == AB*Cd/BC"
      ]
     },
     "metadata": {},
     "output_type": "display_data"
    }
   ],
   "source": [
    "# Multiply Equation 3 with Bd.\n",
    "print(\"Multiply Equation 3 by Bd:\")\n",
    "eq3 = eq2 * Bd\n",
    "println_eqno(eq3)"
   ]
  },
  {
   "cell_type": "code",
   "execution_count": 14,
   "id": "978c247b-c324-486d-9e45-7e5dcc592557",
   "metadata": {
    "tags": []
   },
   "outputs": [
    {
     "name": "stdout",
     "output_type": "stream",
     "text": [
      "Add the term (Bd*AB)/BC on left and right hand side:\n",
      "\n",
      "AB*Bd/BC + AC*Bd/BC == AB*Bd/BC + AB*Cd/BC                                      (Equation 5)\n",
      "\n"
     ]
    },
    {
     "data": {
      "text/html": [
       "<html>\\(\\displaystyle \\frac{\\mathit{AB} \\mathit{Bd}}{\\mathit{BC}} + \\frac{\\mathit{AC} \\mathit{Bd}}{\\mathit{BC}} = \\frac{\\mathit{AB} \\mathit{Bd}}{\\mathit{BC}} + \\frac{\\mathit{AB} \\mathit{Cd}}{\\mathit{BC}}\\)</html>"
      ],
      "text/latex": [
       "$\\displaystyle \\frac{\\mathit{AB} \\mathit{Bd}}{\\mathit{BC}} + \\frac{\\mathit{AC} \\mathit{Bd}}{\\mathit{BC}} = \\frac{\\mathit{AB} \\mathit{Bd}}{\\mathit{BC}} + \\frac{\\mathit{AB} \\mathit{Cd}}{\\mathit{BC}}$"
      ],
      "text/plain": [
       "AB*Bd/BC + AC*Bd/BC == AB*Bd/BC + AB*Cd/BC"
      ]
     },
     "metadata": {},
     "output_type": "display_data"
    }
   ],
   "source": [
    "# Add a term on left and right hand side to Equation 4.\n",
    "print(\"Add the term (Bd*AB)/BC on left and right hand side:\")\n",
    "eq4 = eq3 + (Bd*AB)/BC\n",
    "println_eqno(eq4)"
   ]
  },
  {
   "cell_type": "code",
   "execution_count": 15,
   "id": "5d71167d-a3a9-4c12-835f-13aaddd83fd8",
   "metadata": {
    "tags": []
   },
   "outputs": [
    {
     "name": "stdout",
     "output_type": "stream",
     "text": [
      "Simplify Equation 5:\n",
      "\n",
      "(AB + AC)*Bd/BC == (AB*Bd + AB*Cd)/BC\n",
      "\n"
     ]
    },
    {
     "data": {
      "text/html": [
       "<html>\\(\\displaystyle \\frac{{\\left(\\mathit{AB} + \\mathit{AC}\\right)} \\mathit{Bd}}{\\mathit{BC}} = \\frac{\\mathit{AB} \\mathit{Bd} + \\mathit{AB} \\mathit{Cd}}{\\mathit{BC}}\\)</html>"
      ],
      "text/latex": [
       "$\\displaystyle \\frac{{\\left(\\mathit{AB} + \\mathit{AC}\\right)} \\mathit{Bd}}{\\mathit{BC}} = \\frac{\\mathit{AB} \\mathit{Bd} + \\mathit{AB} \\mathit{Cd}}{\\mathit{BC}}$"
      ],
      "text/plain": [
       "(AB + AC)*Bd/BC == (AB*Bd + AB*Cd)/BC"
      ]
     },
     "metadata": {},
     "output_type": "display_data"
    }
   ],
   "source": [
    "# Simplify Equation 5.\n",
    "print(\"Simplify Equation 5:\")\n",
    "eq5a = eq4.full_simplify()\n",
    "println(eq5a); eq5a.show()"
   ]
  },
  {
   "cell_type": "code",
   "execution_count": 16,
   "id": "12348a35-b526-4551-b4af-dc5fd4a4873d",
   "metadata": {},
   "outputs": [
    {
     "name": "stdout",
     "output_type": "stream",
     "text": [
      "Simplify and factorise Equation 5:\n",
      "\n",
      "(AB + AC)*Bd/BC == AB*(Bd + Cd)/BC                                              (Equation 6)\n",
      "\n"
     ]
    },
    {
     "data": {
      "text/html": [
       "<html>\\(\\displaystyle \\frac{{\\left(\\mathit{AB} + \\mathit{AC}\\right)} \\mathit{Bd}}{\\mathit{BC}} = \\frac{\\mathit{AB} {\\left(\\mathit{Bd} + \\mathit{Cd}\\right)}}{\\mathit{BC}}\\)</html>"
      ],
      "text/latex": [
       "$\\displaystyle \\frac{{\\left(\\mathit{AB} + \\mathit{AC}\\right)} \\mathit{Bd}}{\\mathit{BC}} = \\frac{\\mathit{AB} {\\left(\\mathit{Bd} + \\mathit{Cd}\\right)}}{\\mathit{BC}}$"
      ],
      "text/plain": [
       "(AB + AC)*Bd/BC == AB*(Bd + Cd)/BC"
      ]
     },
     "metadata": {},
     "output_type": "display_data"
    }
   ],
   "source": [
    "# Simplify and factorise Equation 5.\n",
    "print(\"Simplify and factorise Equation 5:\")\n",
    "eq5 = eq4.full_simplify().factor()\n",
    "println_eqno(eq5)"
   ]
  },
  {
   "cell_type": "code",
   "execution_count": 17,
   "id": "e772f1ad-1de7-4ba7-bbd4-f5f24e230f09",
   "metadata": {},
   "outputs": [
    {
     "name": "stdout",
     "output_type": "stream",
     "text": [
      "Divide Equation 6 by Bd:\n",
      "\n",
      "(AB + AC)/BC == AB*(Bd + Cd)/(BC*Bd)                                            (Equation 7)\n",
      "\n"
     ]
    },
    {
     "data": {
      "text/html": [
       "<html>\\(\\displaystyle \\frac{\\mathit{AB} + \\mathit{AC}}{\\mathit{BC}} = \\frac{\\mathit{AB} {\\left(\\mathit{Bd} + \\mathit{Cd}\\right)}}{\\mathit{BC} \\mathit{Bd}}\\)</html>"
      ],
      "text/latex": [
       "$\\displaystyle \\frac{\\mathit{AB} + \\mathit{AC}}{\\mathit{BC}} = \\frac{\\mathit{AB} {\\left(\\mathit{Bd} + \\mathit{Cd}\\right)}}{\\mathit{BC} \\mathit{Bd}}$"
      ],
      "text/plain": [
       "(AB + AC)/BC == AB*(Bd + Cd)/(BC*Bd)"
      ]
     },
     "metadata": {},
     "output_type": "display_data"
    }
   ],
   "source": [
    "# Devide Equation 6 by Bd.\n",
    "print(\"Divide Equation 6 by Bd:\")\n",
    "eq6 = eq5 / Bd\n",
    "println_eqno(eq6)"
   ]
  },
  {
   "cell_type": "code",
   "execution_count": 18,
   "id": "3c762593-289e-457e-b7cc-c9bf8b1b2cdc",
   "metadata": {},
   "outputs": [
    {
     "name": "stdout",
     "output_type": "stream",
     "text": [
      "Equation 7 rewritten by hand:\n",
      "\n",
      "(AB + AC)/BC == AB/Bd                                                           (Equation 8)\n",
      "\n"
     ]
    },
    {
     "data": {
      "text/html": [
       "<html>\\(\\displaystyle \\frac{\\mathit{AB} + \\mathit{AC}}{\\mathit{BC}} = \\frac{\\mathit{AB}}{\\mathit{Bd}}\\)</html>"
      ],
      "text/latex": [
       "$\\displaystyle \\frac{\\mathit{AB} + \\mathit{AC}}{\\mathit{BC}} = \\frac{\\mathit{AB}}{\\mathit{Bd}}$"
      ],
      "text/plain": [
       "(AB + AC)/BC == AB/Bd"
      ]
     },
     "metadata": {},
     "output_type": "display_data"
    }
   ],
   "source": [
    "# We know, that BC = Bd + Cd is.\n",
    "# We know also that (AB*Bd + AB*Cd) = AB*(Bd + Cd).\n",
    "# So we rewrite Equation 7.\n",
    "print(\"Equation 7 rewritten by hand:\")\n",
    "eq7 = (AB + AC)/BC == AB*BC/(BC*Bd)\n",
    "println_eqno(eq7)"
   ]
  },
  {
   "cell_type": "code",
   "execution_count": 19,
   "id": "bfd5517b-462f-49c0-8b78-55b7acefce74",
   "metadata": {},
   "outputs": [
    {
     "name": "stdout",
     "output_type": "stream",
     "text": [
      "Make use of AD/BD = AB/Bd:\n",
      "\n",
      "AD/BD == (AB + AC)/BC                                                           (Equation 9)\n",
      "\n"
     ]
    },
    {
     "data": {
      "text/html": [
       "<html>\\(\\displaystyle \\frac{\\mathit{AD}}{\\mathit{BD}} = \\frac{\\mathit{AB} + \\mathit{AC}}{\\mathit{BC}}\\)</html>"
      ],
      "text/latex": [
       "$\\displaystyle \\frac{\\mathit{AD}}{\\mathit{BD}} = \\frac{\\mathit{AB} + \\mathit{AC}}{\\mathit{BC}}$"
      ],
      "text/plain": [
       "AD/BD == (AB + AC)/BC"
      ]
     },
     "metadata": {},
     "output_type": "display_data"
    }
   ],
   "source": [
    "var('AD BD')\n",
    "# And now we consider AD/BD and\n",
    "# use AB/Bd = AC/Cd = AD/BD.\n",
    "print(\"Make use of AD/BD = AB/Bd:\")\n",
    "eq9 = AD/BD == (AB + AC)/BC\n",
    "println_eqno(eq9)"
   ]
  },
  {
   "cell_type": "code",
   "execution_count": 20,
   "id": "82903cc5-d8ae-46ce-8b02-42529cb99a14",
   "metadata": {},
   "outputs": [
    {
     "name": "stdout",
     "output_type": "stream",
     "text": [
      "Square Equation 9:\n",
      "\n",
      "AD^2/BD^2 == (AB + AC)^2/BC^2                                                   (Equation 10)\n",
      "\n"
     ]
    },
    {
     "data": {
      "text/html": [
       "<html>\\(\\displaystyle \\frac{\\mathit{AD}^{2}}{\\mathit{BD}^{2}} = \\frac{{\\left(\\mathit{AB} + \\mathit{AC}\\right)}^{2}}{\\mathit{BC}^{2}}\\)</html>"
      ],
      "text/latex": [
       "$\\displaystyle \\frac{\\mathit{AD}^{2}}{\\mathit{BD}^{2}} = \\frac{{\\left(\\mathit{AB} + \\mathit{AC}\\right)}^{2}}{\\mathit{BC}^{2}}$"
      ],
      "text/plain": [
       "AD^2/BD^2 == (AB + AC)^2/BC^2"
      ]
     },
     "metadata": {},
     "output_type": "display_data"
    }
   ],
   "source": [
    "# Square Equation 9.\n",
    "print(\"Square Equation 9:\")\n",
    "eq10 = eq9^2\n",
    "println_eqno(eq10)"
   ]
  },
  {
   "cell_type": "code",
   "execution_count": 21,
   "id": "dd6009a1-2717-4386-ae04-4abe1e4553a3",
   "metadata": {},
   "outputs": [
    {
     "name": "stdout",
     "output_type": "stream",
     "text": [
      "Solve the equation for AD^2:\n",
      "\n",
      "AD^2 == (AB^2 + 2*AB*AC + AC^2)*BD^2/BC^2                                       (Equation 11)\n",
      "\n"
     ]
    },
    {
     "data": {
      "text/html": [
       "<html>\\(\\displaystyle \\mathit{AD}^{2} = \\frac{{\\left(\\mathit{AB}^{2} + 2 \\, \\mathit{AB} \\mathit{AC} + \\mathit{AC}^{2}\\right)} \\mathit{BD}^{2}}{\\mathit{BC}^{2}}\\)</html>"
      ],
      "text/latex": [
       "$\\displaystyle \\mathit{AD}^{2} = \\frac{{\\left(\\mathit{AB}^{2} + 2 \\, \\mathit{AB} \\mathit{AC} + \\mathit{AC}^{2}\\right)} \\mathit{BD}^{2}}{\\mathit{BC}^{2}}$"
      ],
      "text/plain": [
       "AD^2 == (AB^2 + 2*AB*AC + AC^2)*BD^2/BC^2"
      ]
     },
     "metadata": {},
     "output_type": "display_data"
    }
   ],
   "source": [
    "# Solve Equation 10 for AD^2.\n",
    "print(\"Solve the equation for AD^2:\")\n",
    "eq11 = solve(eq10, AD^2)\n",
    "println_eqno(eq11[0])"
   ]
  },
  {
   "cell_type": "code",
   "execution_count": 22,
   "id": "45cc599e-b467-422e-9063-3973023652e0",
   "metadata": {},
   "outputs": [
    {
     "name": "stdout",
     "output_type": "stream",
     "text": [
      "Factorise the equation:\n",
      "\n",
      "AD^2 == (AB + AC)^2*BD^2/BC^2                                                   (Equation 12)\n",
      "\n"
     ]
    },
    {
     "data": {
      "text/html": [
       "<html>\\(\\displaystyle \\mathit{AD}^{2} = \\frac{{\\left(\\mathit{AB} + \\mathit{AC}\\right)}^{2} \\mathit{BD}^{2}}{\\mathit{BC}^{2}}\\)</html>"
      ],
      "text/latex": [
       "$\\displaystyle \\mathit{AD}^{2} = \\frac{{\\left(\\mathit{AB} + \\mathit{AC}\\right)}^{2} \\mathit{BD}^{2}}{\\mathit{BC}^{2}}$"
      ],
      "text/plain": [
       "AD^2 == (AB + AC)^2*BD^2/BC^2"
      ]
     },
     "metadata": {},
     "output_type": "display_data"
    }
   ],
   "source": [
    "# Try to factorise Equation 11. \n",
    "print(\"Factorise the equation:\")\n",
    "eq12 = eq11[0].factor()\n",
    "println_eqno(eq12)"
   ]
  },
  {
   "cell_type": "code",
   "execution_count": 23,
   "id": "e251d760-c32d-44ec-ad5d-9a1561d58ad7",
   "metadata": {},
   "outputs": [
    {
     "name": "stdout",
     "output_type": "stream",
     "text": [
      "Apply the Pythagorean theorem:\n",
      "\n",
      "AD^2 == AB^2 - BD^2                                                             (Equation 13)\n",
      "\n"
     ]
    },
    {
     "data": {
      "text/html": [
       "<html>\\(\\displaystyle \\mathit{AD}^{2} = \\mathit{AB}^{2} - \\mathit{BD}^{2}\\)</html>"
      ],
      "text/latex": [
       "$\\displaystyle \\mathit{AD}^{2} = \\mathit{AB}^{2} - \\mathit{BD}^{2}$"
      ],
      "text/plain": [
       "AD^2 == AB^2 - BD^2"
      ]
     },
     "metadata": {},
     "output_type": "display_data"
    }
   ],
   "source": [
    "# Get the determination equation for AD^2.\n",
    "print(\"Apply the Pythagorean theorem:\")\n",
    "eq13 = AD^2 == AB^2 - BD^2\n",
    "println_eqno(eq13)"
   ]
  },
  {
   "cell_type": "code",
   "execution_count": 24,
   "id": "4e8215ef-e117-4b17-ba59-2a4c802d14f9",
   "metadata": {},
   "outputs": [
    {
     "name": "stdout",
     "output_type": "stream",
     "text": [
      "Combine RHS of Equation 12 and RHS of Equation 13:\n",
      "\n",
      "(AB + AC)^2*BD^2/BC^2 == AB^2 - BD^2\n",
      "\n"
     ]
    },
    {
     "data": {
      "text/html": [
       "<html>\\(\\displaystyle \\frac{{\\left(\\mathit{AB} + \\mathit{AC}\\right)}^{2} \\mathit{BD}^{2}}{\\mathit{BC}^{2}} = \\mathit{AB}^{2} - \\mathit{BD}^{2}\\)</html>"
      ],
      "text/latex": [
       "$\\displaystyle \\frac{{\\left(\\mathit{AB} + \\mathit{AC}\\right)}^{2} \\mathit{BD}^{2}}{\\mathit{BC}^{2}} = \\mathit{AB}^{2} - \\mathit{BD}^{2}$"
      ],
      "text/plain": [
       "(AB + AC)^2*BD^2/BC^2 == AB^2 - BD^2"
      ]
     },
     "metadata": {},
     "output_type": "display_data"
    },
    {
     "name": "stdout",
     "output_type": "stream",
     "text": [
      "\n",
      "\n",
      "Solve the equation for BD^2:\n",
      "\n",
      "BD^2 == AB^2*BC^2/(AB^2 + 2*AB*AC + AC^2 + BC^2)                                (Equation 14)\n",
      "\n"
     ]
    },
    {
     "data": {
      "text/html": [
       "<html>\\(\\displaystyle \\mathit{BD}^{2} = \\frac{\\mathit{AB}^{2} \\mathit{BC}^{2}}{\\mathit{AB}^{2} + 2 \\, \\mathit{AB} \\mathit{AC} + \\mathit{AC}^{2} + \\mathit{BC}^{2}}\\)</html>"
      ],
      "text/latex": [
       "$\\displaystyle \\mathit{BD}^{2} = \\frac{\\mathit{AB}^{2} \\mathit{BC}^{2}}{\\mathit{AB}^{2} + 2 \\, \\mathit{AB} \\mathit{AC} + \\mathit{AC}^{2} + \\mathit{BC}^{2}}$"
      ],
      "text/plain": [
       "BD^2 == AB^2*BC^2/(AB^2 + 2*AB*AC + AC^2 + BC^2)"
      ]
     },
     "metadata": {},
     "output_type": "display_data"
    }
   ],
   "source": [
    "# We are looking for the edge length BD.\n",
    "print(\"Combine RHS of Equation 12 and RHS of Equation 13:\")\n",
    "eq14a = eq12.rhs() == eq13.rhs() \n",
    "println(eq14a); eq14a.show(); print(\"\\n\")\n",
    "print(\"Solve the equation for BD^2:\")\n",
    "eq14 = solve(eq14a, BD^2)\n",
    "println_eqno(eq14[0])"
   ]
  },
  {
   "cell_type": "code",
   "execution_count": 25,
   "id": "df02bf7e-b42a-4ac6-91b3-d77fc2d0e602",
   "metadata": {},
   "outputs": [
    {
     "name": "stdout",
     "output_type": "stream",
     "text": [
      "Factorise the equation:\n",
      "\n",
      "BD^2 == AB^2*BC^2/((AB + AC)^2 + BC^2)                                          (Equation 15)\n",
      "\n"
     ]
    },
    {
     "data": {
      "text/html": [
       "<html>\\(\\displaystyle \\mathit{BD}^{2} = \\frac{\\mathit{AB}^{2} \\mathit{BC}^{2}}{{\\left(\\mathit{AB} + \\mathit{AC}\\right)}^{2} + \\mathit{BC}^{2}}\\)</html>"
      ],
      "text/latex": [
       "$\\displaystyle \\mathit{BD}^{2} = \\frac{\\mathit{AB}^{2} \\mathit{BC}^{2}}{{\\left(\\mathit{AB} + \\mathit{AC}\\right)}^{2} + \\mathit{BC}^{2}}$"
      ],
      "text/plain": [
       "BD^2 == AB^2*BC^2/((AB + AC)^2 + BC^2)"
      ]
     },
     "metadata": {},
     "output_type": "display_data"
    }
   ],
   "source": [
    "# Factorise Equation 14.\n",
    "print(\"Factorise the equation:\")\n",
    "eq15 = BD^2 == AB^2*BC^2/((AB^2 + 2*AB*AC + AC^2).factor() + BC^2)\n",
    "println_eqno(eq15)"
   ]
  },
  {
   "cell_type": "code",
   "execution_count": 26,
   "id": "861578ca-d504-4370-9c97-31179579c380",
   "metadata": {},
   "outputs": [
    {
     "name": "stdout",
     "output_type": "stream",
     "text": [
      "Apply the Pythagorean theorem:\n",
      "\n",
      "AD^2 == -AB^2*BC^2/((AB + AC)^2 + BC^2) + AB^2                                  (Equation 16)\n",
      "\n"
     ]
    },
    {
     "data": {
      "text/html": [
       "<html>\\(\\displaystyle \\mathit{AD}^{2} = -\\frac{\\mathit{AB}^{2} \\mathit{BC}^{2}}{{\\left(\\mathit{AB} + \\mathit{AC}\\right)}^{2} + \\mathit{BC}^{2}} + \\mathit{AB}^{2}\\)</html>"
      ],
      "text/latex": [
       "$\\displaystyle \\mathit{AD}^{2} = -\\frac{\\mathit{AB}^{2} \\mathit{BC}^{2}}{{\\left(\\mathit{AB} + \\mathit{AC}\\right)}^{2} + \\mathit{BC}^{2}} + \\mathit{AB}^{2}$"
      ],
      "text/plain": [
       "AD^2 == -AB^2*BC^2/((AB + AC)^2 + BC^2) + AB^2"
      ]
     },
     "metadata": {},
     "output_type": "display_data"
    }
   ],
   "source": [
    "# Get the determination equation for AD^2.\n",
    "print(\"Apply the Pythagorean theorem:\")\n",
    "eq16 = AD^2 == AB^2 - eq15.rhs()\n",
    "println_eqno(eq16)"
   ]
  },
  {
   "cell_type": "code",
   "execution_count": 27,
   "id": "e5392de9-2353-4d66-89b9-b14e961b0c83",
   "metadata": {},
   "outputs": [
    {
     "name": "stdout",
     "output_type": "stream",
     "text": [
      "Full simplify and factorise:\n",
      "\n",
      "AD^2 == (AB + AC)^2*AB^2/(AB^2 + 2*AB*AC + AC^2 + BC^2)                         (Equation 17)\n",
      "\n"
     ]
    },
    {
     "data": {
      "text/html": [
       "<html>\\(\\displaystyle \\mathit{AD}^{2} = \\frac{{\\left(\\mathit{AB} + \\mathit{AC}\\right)}^{2} \\mathit{AB}^{2}}{\\mathit{AB}^{2} + 2 \\, \\mathit{AB} \\mathit{AC} + \\mathit{AC}^{2} + \\mathit{BC}^{2}}\\)</html>"
      ],
      "text/latex": [
       "$\\displaystyle \\mathit{AD}^{2} = \\frac{{\\left(\\mathit{AB} + \\mathit{AC}\\right)}^{2} \\mathit{AB}^{2}}{\\mathit{AB}^{2} + 2 \\, \\mathit{AB} \\mathit{AC} + \\mathit{AC}^{2} + \\mathit{BC}^{2}}$"
      ],
      "text/plain": [
       "AD^2 == (AB + AC)^2*AB^2/(AB^2 + 2*AB*AC + AC^2 + BC^2)"
      ]
     },
     "metadata": {},
     "output_type": "display_data"
    }
   ],
   "source": [
    "# Simplify Equation 16.\n",
    "print(\"Full simplify and factorise:\")\n",
    "eq16a = eq16.full_simplify().factor()\n",
    "println_eqno(eq16a)"
   ]
  },
  {
   "cell_type": "code",
   "execution_count": 28,
   "id": "b1f00c49-584d-4206-9dc3-01481496aa03",
   "metadata": {},
   "outputs": [
    {
     "name": "stdout",
     "output_type": "stream",
     "text": [
      "Rewrite the equation by hand and factorise them:\n",
      "\n",
      "AD^2 == (AB + AC)^2*AB^2/((AB + AC)^2 + BC^2)                                   (Equation 18)\n",
      "\n"
     ]
    },
    {
     "data": {
      "text/html": [
       "<html>\\(\\displaystyle \\mathit{AD}^{2} = \\frac{{\\left(\\mathit{AB} + \\mathit{AC}\\right)}^{2} \\mathit{AB}^{2}}{{\\left(\\mathit{AB} + \\mathit{AC}\\right)}^{2} + \\mathit{BC}^{2}}\\)</html>"
      ],
      "text/latex": [
       "$\\displaystyle \\mathit{AD}^{2} = \\frac{{\\left(\\mathit{AB} + \\mathit{AC}\\right)}^{2} \\mathit{AB}^{2}}{{\\left(\\mathit{AB} + \\mathit{AC}\\right)}^{2} + \\mathit{BC}^{2}}$"
      ],
      "text/plain": [
       "AD^2 == (AB + AC)^2*AB^2/((AB + AC)^2 + BC^2)"
      ]
     },
     "metadata": {},
     "output_type": "display_data"
    }
   ],
   "source": [
    "# Simplify Equation 17.\n",
    "print(\"Rewrite the equation by hand and factorise them:\")\n",
    "eq17 = AD^2 == (AB^4 + 2*AB^3*AC + AB^2*AC^2).factor()/((AB^2 + 2*AB*AC + AC^2).factor() + BC^2)\n",
    "println_eqno(eq17)"
   ]
  },
  {
   "cell_type": "code",
   "execution_count": 29,
   "id": "01c3b097-dbab-4bd9-a07e-312742a29453",
   "metadata": {},
   "outputs": [
    {
     "name": "stdout",
     "output_type": "stream",
     "text": [
      "Canonicalise the radicals and factorise the equation:\n",
      "\n",
      "AD == (AB + AC)*AB/sqrt(AB^2 + 2*AB*AC + AC^2 + BC^2)                           (Equation 19)\n",
      "\n"
     ]
    },
    {
     "data": {
      "text/html": [
       "<html>\\(\\displaystyle \\mathit{AD} = \\frac{{\\left(\\mathit{AB} + \\mathit{AC}\\right)} \\mathit{AB}}{\\sqrt{\\mathit{AB}^{2} + 2 \\, \\mathit{AB} \\mathit{AC} + \\mathit{AC}^{2} + \\mathit{BC}^{2}}}\\)</html>"
      ],
      "text/latex": [
       "$\\displaystyle \\mathit{AD} = \\frac{{\\left(\\mathit{AB} + \\mathit{AC}\\right)} \\mathit{AB}}{\\sqrt{\\mathit{AB}^{2} + 2 \\, \\mathit{AB} \\mathit{AC} + \\mathit{AC}^{2} + \\mathit{BC}^{2}}}$"
      ],
      "text/plain": [
       "AD == (AB + AC)*AB/sqrt(AB^2 + 2*AB*AC + AC^2 + BC^2)"
      ]
     },
     "metadata": {},
     "output_type": "display_data"
    }
   ],
   "source": [
    "# Simplify the square roots.\n",
    "print(\"Canonicalise the radicals and factorise the equation:\")\n",
    "eq18 = (eq17^(1/2)).canonicalize_radical().factor()\n",
    "println_eqno(eq18)"
   ]
  },
  {
   "cell_type": "code",
   "execution_count": 30,
   "id": "c1a6b065-e713-4c80-acf9-f2c56c9aa6c7",
   "metadata": {},
   "outputs": [
    {
     "name": "stdout",
     "output_type": "stream",
     "text": [
      "Factorise the term in the square root of the denominator:\n",
      "\n",
      "AD == (AB + AC)*AB/sqrt(AB^2 + 2*AB*AC + AC^2 + BC^2)\n",
      "\n"
     ]
    },
    {
     "data": {
      "text/html": [
       "<html>\\(\\displaystyle \\mathit{AD} = \\frac{{\\left(\\mathit{AB} + \\mathit{AC}\\right)} \\mathit{AB}}{\\sqrt{{\\left(\\mathit{AB} + \\mathit{AC}\\right)}^{2} + \\mathit{BC}^{2}}}\\)</html>"
      ],
      "text/latex": [
       "$\\displaystyle \\mathit{AD} = \\frac{{\\left(\\mathit{AB} + \\mathit{AC}\\right)} \\mathit{AB}}{\\sqrt{{\\left(\\mathit{AB} + \\mathit{AC}\\right)}^{2} + \\mathit{BC}^{2}}}$"
      ],
      "text/plain": [
       "AD == (AB + AC)*AB/sqrt((AB + AC)^2 + BC^2)"
      ]
     },
     "metadata": {},
     "output_type": "display_data"
    }
   ],
   "source": [
    "# Copy and past last raw equation and factorise the radical.\n",
    "print(\"Factorise the term in the square root of the denominator:\")\n",
    "eq18a = AD == (AB + AC)*AB/sqrt((AB^2 + 2*AB*AC + AC^2).factor() + BC^2) \n",
    "println(eq18); eq18a.show()"
   ]
  },
  {
   "cell_type": "code",
   "execution_count": 31,
   "id": "ce764a5c-508f-44d8-969d-6a4cb4f16df2",
   "metadata": {},
   "outputs": [],
   "source": [
    "# For simplification purposes, the term (AB+AC)^2 can be factored out of the equation."
   ]
  },
  {
   "cell_type": "code",
   "execution_count": 32,
   "id": "c0e18a08-b01d-4613-b9ae-e7efb8880bbf",
   "metadata": {},
   "outputs": [
    {
     "name": "stdout",
     "output_type": "stream",
     "text": [
      "Equation decomposition for testing purposes.\n",
      "RHS: \n"
     ]
    },
    {
     "data": {
      "text/html": [
       "<html>\\(\\displaystyle \\frac{{\\left(\\mathit{AB} + \\mathit{AC}\\right)} \\mathit{AB}}{\\sqrt{{\\left(\\mathit{AB} + \\mathit{AC}\\right)}^{2} + \\mathit{BC}^{2}}}\\)</html>"
      ],
      "text/latex": [
       "$\\displaystyle \\frac{{\\left(\\mathit{AB} + \\mathit{AC}\\right)} \\mathit{AB}}{\\sqrt{{\\left(\\mathit{AB} + \\mathit{AC}\\right)}^{2} + \\mathit{BC}^{2}}}$"
      ],
      "text/plain": [
       "(AB + AC)*AB/sqrt((AB + AC)^2 + BC^2)"
      ]
     },
     "metadata": {},
     "output_type": "display_data"
    },
    {
     "name": "stdout",
     "output_type": "stream",
     "text": [
      "Numerator:\n"
     ]
    },
    {
     "data": {
      "text/html": [
       "<html>\\(\\displaystyle {\\left(\\mathit{AB} + \\mathit{AC}\\right)} \\mathit{AB}\\)</html>"
      ],
      "text/latex": [
       "$\\displaystyle {\\left(\\mathit{AB} + \\mathit{AC}\\right)} \\mathit{AB}$"
      ],
      "text/plain": [
       "(AB + AC)*AB"
      ]
     },
     "metadata": {},
     "output_type": "display_data"
    },
    {
     "name": "stdout",
     "output_type": "stream",
     "text": [
      "Denominator:\n"
     ]
    },
    {
     "data": {
      "text/html": [
       "<html>\\(\\displaystyle \\sqrt{\\mathit{AB}^{2} + 2 \\, \\mathit{AB} \\mathit{AC} + \\mathit{AC}^{2} + \\mathit{BC}^{2}}\\)</html>"
      ],
      "text/latex": [
       "$\\displaystyle \\sqrt{\\mathit{AB}^{2} + 2 \\, \\mathit{AB} \\mathit{AC} + \\mathit{AC}^{2} + \\mathit{BC}^{2}}$"
      ],
      "text/plain": [
       "sqrt(AB^2 + 2*AB*AC + AC^2 + BC^2)"
      ]
     },
     "metadata": {},
     "output_type": "display_data"
    },
    {
     "name": "stdout",
     "output_type": "stream",
     "text": [
      "Operands:  [AB^2 + 2*AB*AC + AC^2 + BC^2, 1/2]\n"
     ]
    }
   ],
   "source": [
    "print(\"Equation decomposition for testing purposes.\")\n",
    "rhs = eq18a.rhs(); nr = rhs().numerator(); dr = rhs().denominator()\n",
    "print(\"RHS: \"); rhs.show()\n",
    "print(\"Numerator:\"); nr.show()\n",
    "print(\"Denominator:\"); dr.show()\n",
    "ops = dr.operands()\n",
    "print(\"Operands: \", ops)"
   ]
  },
  {
   "cell_type": "code",
   "execution_count": 33,
   "id": "a32e6c85-030d-46bd-92db-c629c94b63f5",
   "metadata": {},
   "outputs": [
    {
     "data": {
      "text/html": [
       "<font color='green'><b><H1>Archimedes, Measurement of a Circle<br>Determination equations</H1></b></font><br/>"
      ],
      "text/plain": [
       "<font color='green'><b><H1>Archimedes, Measurement of a Circle<br>Determination equations</H1></b></font><br/>"
      ]
     },
     "execution_count": 33,
     "metadata": {},
     "output_type": "execute_result"
    }
   ],
   "source": [
    "html(\"\"\"<font color='green'><b><H1>Archimedes, Measurement of a Circle<br>Determination equations</H1></b></font><br/>\"\"\")"
   ]
  },
  {
   "cell_type": "code",
   "execution_count": 34,
   "id": "20bdc9ec-1025-420d-8283-5fdb5d883965",
   "metadata": {},
   "outputs": [
    {
     "name": "stdout",
     "output_type": "stream",
     "text": [
      "\n",
      "AD == AB/sqrt(BC^2/(AB + AC)^2 + 1)                                             (Equation 20)\n",
      "\n"
     ]
    },
    {
     "data": {
      "text/html": [
       "<html>\\(\\displaystyle \\mathit{AD} = \\frac{\\mathit{AB}}{\\sqrt{\\frac{\\mathit{BC}^{2}}{{\\left(\\mathit{AB} + \\mathit{AC}\\right)}^{2}} + 1}}\\)</html>"
      ],
      "text/latex": [
       "$\\displaystyle \\mathit{AD} = \\frac{\\mathit{AB}}{\\sqrt{\\frac{\\mathit{BC}^{2}}{{\\left(\\mathit{AB} + \\mathit{AC}\\right)}^{2}} + 1}}$"
      ],
      "text/plain": [
       "AD == AB/sqrt(BC^2/(AB + AC)^2 + 1)"
      ]
     },
     "metadata": {},
     "output_type": "display_data"
    }
   ],
   "source": [
    "# First Archimedes determination equation.\n",
    "Eq1 = AD == AB/sqrt(1+(BC^2/(AB+AC)^2))\n",
    "println_eqno(Eq1)"
   ]
  },
  {
   "cell_type": "code",
   "execution_count": 35,
   "id": "0cac5ba0-cc63-4725-8e06-a0dde4e6d55d",
   "metadata": {
    "tags": []
   },
   "outputs": [
    {
     "name": "stdout",
     "output_type": "stream",
     "text": [
      "\n",
      "BD == sqrt(AB^2 - AD^2)                                                         (Equation 21)\n",
      "\n"
     ]
    },
    {
     "data": {
      "text/html": [
       "<html>\\(\\displaystyle \\mathit{BD} = \\sqrt{\\mathit{AB}^{2} - \\mathit{AD}^{2}}\\)</html>"
      ],
      "text/latex": [
       "$\\displaystyle \\mathit{BD} = \\sqrt{\\mathit{AB}^{2} - \\mathit{AD}^{2}}$"
      ],
      "text/plain": [
       "BD == sqrt(AB^2 - AD^2)"
      ]
     },
     "metadata": {},
     "output_type": "display_data"
    }
   ],
   "source": [
    "# Second Archimedes determination equation.\n",
    "Eq2 = BD == sqrt(AB^2 - AD^2)\n",
    "println_eqno(Eq2)"
   ]
  },
  {
   "cell_type": "code",
   "execution_count": 36,
   "id": "1316ca72-8807-4a0f-b940-57d2056e378e",
   "metadata": {
    "tags": []
   },
   "outputs": [],
   "source": [
    "# After the first iteration Eq. 1 and Eq. 2 are the start values for the\n",
    "# next iteration. Eq. 1 is the new length of the hypothenuse and Eq. 2 is\n",
    "# the new length of the edge. Archimedes did this for (6), 12, 24, 48 and\n",
    "# 96 edges."
   ]
  },
  {
   "cell_type": "code",
   "execution_count": 37,
   "id": "7637ea7f-491f-43e3-90e5-5d91f4b39c37",
   "metadata": {},
   "outputs": [
    {
     "data": {
      "text/html": [
       "<font color='orangered'><b><H1>Archimedes, Measurement of a Circle<br>Algorithmus</H1></b></font><br/>"
      ],
      "text/plain": [
       "<font color='orangered'><b><H1>Archimedes, Measurement of a Circle<br>Algorithmus</H1></b></font><br/>"
      ]
     },
     "execution_count": 37,
     "metadata": {},
     "output_type": "execute_result"
    }
   ],
   "source": [
    "html(\"\"\"<font color='orangered'><b><H1>Archimedes, Measurement of a Circle<br>Algorithmus</H1></b></font><br/>\"\"\")"
   ]
  },
  {
   "cell_type": "code",
   "execution_count": 38,
   "id": "8741aae9-6166-434c-bf12-451c3c1e232f",
   "metadata": {},
   "outputs": [],
   "source": [
    "# Delete all user-defined variables, reset all global variables back to their\n",
    "# default states, and reset all interfaces to other computer algebra systems.\n",
    "reset()"
   ]
  },
  {
   "cell_type": "code",
   "execution_count": 39,
   "id": "aa1d3f56-1e53-4668-bd93-9cb89688d6d7",
   "metadata": {},
   "outputs": [
    {
     "name": "stdout",
     "output_type": "stream",
     "text": [
      "6\n",
      "3.00000000000000\n",
      "12\n",
      "3.10582854123025\n",
      "24\n",
      "3.13262861328123\n",
      "48\n",
      "3.13935020304685\n",
      "96\n",
      "3.14103195089037\n"
     ]
    }
   ],
   "source": [
    "# We are using Eq1 and Eq2 for testing purposes.\n",
    "\n",
    "# Start values 6-gon (hexagon)\n",
    "AC = sqrt(3)\n",
    "AB = 2\n",
    "BC = 1\n",
    "\n",
    "# Number of iterations. 5 means up to a 96-gon.\n",
    "numiter = 5\n",
    "\n",
    "for i in range(0, numiter):\n",
    "    # Calculate number of edges.\n",
    "    n = 6 * 2^i\n",
    "    # Print number of edges.\n",
    "    print(n)\n",
    "    # No iteration on first loop.\n",
    "    if i == 0:\n",
    "        # Print value of Pi.\n",
    "        print(((BC * n)/2).n())\n",
    "    else:    \n",
    "        # Calculate hypotenuse and length of edge.\n",
    "        AD = AB/sqrt(BC^2/(AB + AC)^2 + 1)\n",
    "        BD = sqrt(AB^2 - AD^2)\n",
    "        # Calculate approximation for pi.\n",
    "        api = ((BD * n) / 2).n()\n",
    "        # Store values.\n",
    "        BC = BD\n",
    "        AC = AD\n",
    "        # Print value of Pi.\n",
    "        print(api)"
   ]
  }
 ],
 "metadata": {
  "kernelspec": {
   "display_name": "SageMath 10.1",
   "language": "sage",
   "name": "sagemath"
  },
  "language_info": {
   "codemirror_mode": {
    "name": "ipython",
    "version": 3
   },
   "file_extension": ".py",
   "mimetype": "text/x-python",
   "name": "python",
   "nbconvert_exporter": "python",
   "pygments_lexer": "ipython3",
   "version": "3.8.10"
  }
 },
 "nbformat": 4,
 "nbformat_minor": 5
}
