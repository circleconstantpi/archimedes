{
 "cells": [
  {
   "cell_type": "code",
   "execution_count": 1,
   "id": "ee66c31c-6946-4c75-af91-e51002cf14f0",
   "metadata": {},
   "outputs": [],
   "source": [
    "# Archimedes, Measurement of a circle\n",
    "# -----------------------------------\n",
    "#\n",
    "# Development of the Archimedes equations for the inner polygon \n",
    "#\n",
    "# Theorem 3 Part II contains the solution for the inner polygon. The derivation \n",
    "# created by hand is checked symbolically below using SageMath (Quick and dirty).  "
   ]
  },
  {
   "cell_type": "code",
   "execution_count": 2,
   "id": "e772f1ad-1de7-4ba7-bbd4-f5f24e230f09",
   "metadata": {},
   "outputs": [
    {
     "name": "stdout",
     "output_type": "stream",
     "text": [
      "AC/Cd == AB/Bd\n",
      "AC/(BC*Cd) == AB/(BC*Bd)\n",
      "AC/BC == AB*Cd/(BC*Bd)\n",
      "AC*Bd/BC == AB*Cd/BC\n",
      "AB*Bd/BC + AC*Bd/BC == AB*Bd/BC + AB*Cd/BC\n",
      "(AB + AC)*Bd/BC == (AB*Bd + AB*Cd)/BC\n",
      "(AB + AC)/BC == (AB*Bd + AB*Cd)/(BC*Bd)\n"
     ]
    }
   ],
   "source": [
    "var('BC AC AB Bd Cd')\n",
    "# Euclid Book VI Proposition 3.\n",
    "eq0 = AC / Cd == AB / Bd\n",
    "eq1 = eq0 * 1/BC \n",
    "eq2 = eq1 * Cd \n",
    "eq3 = eq2 * Bd\n",
    "eq4 = eq3 + (Bd*AB)/BC\n",
    "eq5 = eq4.full_simplify()\n",
    "eq6 = eq5 / Bd\n",
    "eq7 = eq6 \n",
    "print(eq0)\n",
    "print(eq1)\n",
    "print(eq2)\n",
    "print(eq3)\n",
    "print(eq4)\n",
    "print(eq5)\n",
    "print(eq7)"
   ]
  },
  {
   "cell_type": "code",
   "execution_count": 3,
   "id": "3c762593-289e-457e-b7cc-c9bf8b1b2cdc",
   "metadata": {},
   "outputs": [
    {
     "name": "stdout",
     "output_type": "stream",
     "text": [
      "(AB + AC)/(Bd + Cd) == AB/Bd\n"
     ]
    }
   ],
   "source": [
    "BC = Bd + Cd\n",
    "eq8 = (AB + AC)/BC == AB*(Bd + Cd)/(BC*Bd)\n",
    "print(eq8)\n",
    "var('AB AC Bd Cd')\n",
    "Bd = BC - Cd\n",
    "eq9 = (AB + AC)/(Bd + Cd) == AB/Bd"
   ]
  },
  {
   "cell_type": "code",
   "execution_count": 4,
   "id": "e77f02de-28de-4434-adeb-324ca4becc4f",
   "metadata": {},
   "outputs": [
    {
     "name": "stdout",
     "output_type": "stream",
     "text": [
      "(AB + AC)/(Bd + Cd) == AB/Bd\n"
     ]
    }
   ],
   "source": [
    "var('AB AC AB')\n",
    "Bd = BC - Cd\n",
    "eq11 = (AB + AC)/(Bd + Cd) == AB/Bd\n",
    "print(eq11)"
   ]
  },
  {
   "cell_type": "code",
   "execution_count": 5,
   "id": "7bacada7-584d-4db1-b424-0b820cf0ebc1",
   "metadata": {},
   "outputs": [],
   "source": [
    "Eq1 = AB/Bd == (AB + AC)/BC"
   ]
  },
  {
   "cell_type": "code",
   "execution_count": 6,
   "id": "bfd5517b-462f-49c0-8b78-55b7acefce74",
   "metadata": {},
   "outputs": [
    {
     "data": {
      "text/plain": [
       "[BD == AD*BC/(AB + AC)]"
      ]
     },
     "execution_count": 6,
     "metadata": {},
     "output_type": "execute_result"
    }
   ],
   "source": [
    "var('AD BD AB AC BC')\n",
    "eq13 = AD/BD == (AB + AC)/BC\n",
    "solve(eq13, BD)"
   ]
  },
  {
   "cell_type": "code",
   "execution_count": 7,
   "id": "82903cc5-d8ae-46ce-8b02-42529cb99a14",
   "metadata": {},
   "outputs": [
    {
     "name": "stdout",
     "output_type": "stream",
     "text": [
      "AD^2/BD^2 == (AB + AC)^2/BC^2\n"
     ]
    }
   ],
   "source": [
    "eq14 = eq13^2\n",
    "print(eq14)"
   ]
  },
  {
   "cell_type": "code",
   "execution_count": 8,
   "id": "dd6009a1-2717-4386-ae04-4abe1e4553a3",
   "metadata": {},
   "outputs": [
    {
     "name": "stdout",
     "output_type": "stream",
     "text": [
      "[\n",
      "BD^2 == AD^2*BC^2/(AB^2 + 2*AB*AC + AC^2)\n",
      "]\n"
     ]
    }
   ],
   "source": [
    "eqA = solve(AD^2/BD^2 == (AB + AC)^2/BC^2, BD^2)\n",
    "print(eqA)"
   ]
  },
  {
   "cell_type": "code",
   "execution_count": 9,
   "id": "afd8c4ae-5e18-4508-af81-3a4cb4f0b6d1",
   "metadata": {},
   "outputs": [
    {
     "data": {
      "text/plain": [
       "AD^2*BC^2/(AB^2 + 2*AB*AC + AC^2)"
      ]
     },
     "execution_count": 9,
     "metadata": {},
     "output_type": "execute_result"
    }
   ],
   "source": [
    "(AD^2*BC^2/(AB^2 + 2*AB*AC + AC^2)).full_simplify()"
   ]
  },
  {
   "cell_type": "code",
   "execution_count": 10,
   "id": "45cc599e-b467-422e-9063-3973023652e0",
   "metadata": {},
   "outputs": [],
   "source": [
    "eqB = BD^2 == AD^2*BC^2/(AB + AC)^2"
   ]
  },
  {
   "cell_type": "code",
   "execution_count": 27,
   "id": "a2328326-18f0-49f4-965f-f906a28d9c3b",
   "metadata": {},
   "outputs": [
    {
     "name": "stdout",
     "output_type": "stream",
     "text": [
      "BD^2 == (AB^2 - BD^2)*BC^2/(AB + AC)^2\n"
     ]
    }
   ],
   "source": [
    "var('BD AD AB AC BC')\n",
    "AD = sqrt(AB^2 - BD^2)\n",
    "eqB = BD^2 == AD^2*BC^2/(AB + AC)^2\n",
    "eqC = eqB\n",
    "print(eqC)"
   ]
  },
  {
   "cell_type": "code",
   "execution_count": 28,
   "id": "4e8215ef-e117-4b17-ba59-2a4c802d14f9",
   "metadata": {},
   "outputs": [
    {
     "data": {
      "text/plain": [
       "[BD == -AB*BC/sqrt(AB^2 + 2*AB*AC + AC^2 + BC^2), BD == AB*BC/sqrt(AB^2 + 2*AB*AC + AC^2 + BC^2)]"
      ]
     },
     "execution_count": 28,
     "metadata": {},
     "output_type": "execute_result"
    }
   ],
   "source": [
    "solve(eqC, BD)"
   ]
  },
  {
   "cell_type": "code",
   "execution_count": 20,
   "id": "20bdc9ec-1025-420d-8283-5fdb5d883965",
   "metadata": {},
   "outputs": [],
   "source": [
    "Eq1 = BD == AB*BC/sqrt((AB+AC)^2 + BC^2)"
   ]
  },
  {
   "cell_type": "code",
   "execution_count": 14,
   "id": "0cac5ba0-cc63-4725-8e06-a0dde4e6d55d",
   "metadata": {},
   "outputs": [],
   "source": [
    "Eq2 = AD = sqrt(AB^2 - BD^2)"
   ]
  },
  {
   "cell_type": "code",
   "execution_count": 15,
   "id": "1316ca72-8807-4a0f-b940-57d2056e378e",
   "metadata": {},
   "outputs": [],
   "source": [
    "# After the first iteration Eq. 1 and Eq. 2 are the start values for the\n",
    "# next iteration. Eq. 1 is the new length of the hypothenuse and Eq. 2 is\n",
    "# the new length of the edge. Archimedes did this for (6), 12, 24, 48 and\n",
    "# 96 edges."
   ]
  }
 ],
 "metadata": {
  "kernelspec": {
   "display_name": "SageMath 10.1",
   "language": "sage",
   "name": "sagemath"
  },
  "language_info": {
   "codemirror_mode": {
    "name": "ipython",
    "version": 3
   },
   "file_extension": ".py",
   "mimetype": "text/x-python",
   "name": "python",
   "nbconvert_exporter": "python",
   "pygments_lexer": "ipython3",
   "version": "3.8.10"
  }
 },
 "nbformat": 4,
 "nbformat_minor": 5
}
