{
 "cells": [
  {
   "cell_type": "code",
   "execution_count": null,
   "id": "ee66c31c-6946-4c75-af91-e51002cf14f0",
   "metadata": {},
   "outputs": [],
   "source": [
    "# Archimedes, Measurement of a circle\n",
    "# -----------------------------------\n",
    "#\n",
    "# Development of the Archimedes equations for the inner polygon.\n",
    "#\n",
    "# Theorem 3 Part II contains the solution for the inner polygon. The derivation \n",
    "# created by hand is checked symbolically below using SageMath (Quick and dirty).  "
   ]
  },
  {
   "cell_type": "code",
   "execution_count": null,
   "id": "656cfc64-1d18-4fbd-9f4e-74f44c4cbf2a",
   "metadata": {},
   "outputs": [],
   "source": [
    "# User defined function for printing lines.\n",
    "def println(line):\n",
    "    '''Function for printing lines with line spacing in form of newlines before\n",
    "    and after the line.'''\n",
    "    # Convert the type of line to a string.\n",
    "    line = str(line)\n",
    "    # Print text, a line or a string to the notebook.\n",
    "    print(\"\\n\\n{0}\\n\".format(line))\n",
    "    # End of function. Return None.\n",
    "    return None\n",
    "\n",
    "eqno = 0\n",
    "\n",
    "def println_eqno(exp):\n",
    "    global eqno\n",
    "    '''Function for printing lines with line spacing in form of newlines before\n",
    "    and after the line.'''\n",
    "    # Convert the type of line to a string.\n",
    "    line = str(exp)\n",
    "    # Print text, a line or a string to the notebook.\n",
    "    eqno += 1\n",
    "    print(\"\\n(Equation {1})\\t{0}\\n\".format(line, eqno))\n",
    "    exp.show()\n",
    "    # End of function. Return None.\n",
    "    return None"
   ]
  },
  {
   "cell_type": "code",
   "execution_count": null,
   "id": "10a4bcde-57e9-4c9f-9f8e-4cb57ff99492",
   "metadata": {},
   "outputs": [],
   "source": [
    "# Define the variables. Keep in Mind, that AB (diameter of the circle) is a constant.\n",
    "var('AC Cd AB Bd')\n",
    "# Euclid Book VI Proposition 3.\n",
    "eq0 = AC / Cd == AB / Bd\n",
    "println_eqno(eq0)"
   ]
  },
  {
   "cell_type": "code",
   "execution_count": null,
   "id": "3002ffaa-2245-4204-898e-5e81397df242",
   "metadata": {},
   "outputs": [],
   "source": [
    "var('BC')\n",
    "# Devide equation by BC.\n",
    "eq1 = eq0 * 1/BC\n",
    "println_eqno(eq1)\n",
    "# Multiply equation with Cd\n",
    "eq2 = eq1 * Cd \n",
    "println_eqno(eq2)\n",
    "# Multiply equation with Bd.\n",
    "eq3 = eq2 * Bd\n",
    "println_eqno(eq3)"
   ]
  },
  {
   "cell_type": "code",
   "execution_count": null,
   "id": "978c247b-c324-486d-9e45-7e5dcc592557",
   "metadata": {},
   "outputs": [],
   "source": [
    "# Add a term on left and right hand side.\n",
    "eq4 = eq3 + (Bd*AB)/BC\n",
    "println_eqno(eq4)"
   ]
  },
  {
   "cell_type": "code",
   "execution_count": null,
   "id": "e772f1ad-1de7-4ba7-bbd4-f5f24e230f09",
   "metadata": {},
   "outputs": [],
   "source": [
    "eq5 = eq4.full_simplify().factor()\n",
    "println_eqno(eq5)\n",
    "eq6 = eq5 / Bd\n",
    "println_eqno(eq6)"
   ]
  },
  {
   "cell_type": "code",
   "execution_count": null,
   "id": "3c762593-289e-457e-b7cc-c9bf8b1b2cdc",
   "metadata": {},
   "outputs": [],
   "source": [
    "# We know, that BC = Bd + Cd is.\n",
    "# We know that (AB*Bd + AB*Cd) = AB*(Bd + Cd)\n",
    "eq8 = (AB + AC)/BC == AB*BC/(BC*Bd)\n",
    "println_eqno(eq8)"
   ]
  },
  {
   "cell_type": "code",
   "execution_count": null,
   "id": "bfd5517b-462f-49c0-8b78-55b7acefce74",
   "metadata": {},
   "outputs": [],
   "source": [
    "var('AD BD')\n",
    "# And now we consider AD/BD.\n",
    "# Use AB/Bd = AC/Cd = AD/BD.\n",
    "eq9 = AD/BD == (AB + AC)/BC\n",
    "println_eqno(eq9)"
   ]
  },
  {
   "cell_type": "code",
   "execution_count": null,
   "id": "82903cc5-d8ae-46ce-8b02-42529cb99a14",
   "metadata": {},
   "outputs": [],
   "source": [
    "# Square expression.\n",
    "eq10 = eq9^2\n",
    "println_eqno(eq10)"
   ]
  },
  {
   "cell_type": "code",
   "execution_count": null,
   "id": "dd6009a1-2717-4386-ae04-4abe1e4553a3",
   "metadata": {},
   "outputs": [],
   "source": [
    "eq11 = solve(eq10, AD^2)\n",
    "println_eqno(eq11[0])"
   ]
  },
  {
   "cell_type": "code",
   "execution_count": null,
   "id": "45cc599e-b467-422e-9063-3973023652e0",
   "metadata": {},
   "outputs": [],
   "source": [
    "eq12 = eq11[0].factor()\n",
    "println_eqno(eq12)"
   ]
  },
  {
   "cell_type": "code",
   "execution_count": null,
   "id": "e251d760-c32d-44ec-ad5d-9a1561d58ad7",
   "metadata": {},
   "outputs": [],
   "source": [
    "eq13 = AD^2 == AB^2 - BD^2\n",
    "println_eqno(eq13)"
   ]
  },
  {
   "cell_type": "code",
   "execution_count": null,
   "id": "4e8215ef-e117-4b17-ba59-2a4c802d14f9",
   "metadata": {},
   "outputs": [],
   "source": [
    "# We are looking for the edge length BD.\n",
    "eq14 = solve((AB + AC)^2*BD^2/BC^2 == AB^2 - BD^2, BD^2)\n",
    "println_eqno(eq14[0])"
   ]
  },
  {
   "cell_type": "code",
   "execution_count": null,
   "id": "df02bf7e-b42a-4ac6-91b3-d77fc2d0e602",
   "metadata": {},
   "outputs": [],
   "source": [
    "eq15 = BD^2 == AB^2*BC^2/((AB^2 + 2*AB*AC + AC^2).factor() + BC^2)\n",
    "println_eqno(eq15)"
   ]
  },
  {
   "cell_type": "code",
   "execution_count": null,
   "id": "861578ca-d504-4370-9c97-31179579c380",
   "metadata": {},
   "outputs": [],
   "source": [
    "eq16 = AD^2 == AB^2 - AB^2*BC^2/((AB + AC)^2 + BC^2)\n",
    "println_eqno(eq16)"
   ]
  },
  {
   "cell_type": "code",
   "execution_count": null,
   "id": "e5392de9-2353-4d66-89b9-b14e961b0c83",
   "metadata": {},
   "outputs": [],
   "source": [
    "eq16.full_simplify()"
   ]
  },
  {
   "cell_type": "code",
   "execution_count": null,
   "id": "b1f00c49-584d-4206-9dc3-01481496aa03",
   "metadata": {},
   "outputs": [],
   "source": [
    "eq17 = AD^2 == (AB^4 + 2*AB^3*AC + AB^2*AC^2).factor()/((AB^2 + 2*AB*AC + AC^2).factor() + BC^2)\n",
    "println_eqno(eq17)"
   ]
  },
  {
   "cell_type": "code",
   "execution_count": null,
   "id": "01c3b097-dbab-4bd9-a07e-312742a29453",
   "metadata": {},
   "outputs": [],
   "source": [
    "eq18 = (eq17^(1/2)).canonicalize_radical().factor()\n",
    "println_eqno(eq18)"
   ]
  },
  {
   "cell_type": "code",
   "execution_count": null,
   "id": "20bdc9ec-1025-420d-8283-5fdb5d883965",
   "metadata": {},
   "outputs": [],
   "source": [
    "Eq1 = AD == AB/sqrt(1+(BC^2/(AB+AC)^2))\n",
    "println_eqno(Eq1)"
   ]
  },
  {
   "cell_type": "code",
   "execution_count": null,
   "id": "0cac5ba0-cc63-4725-8e06-a0dde4e6d55d",
   "metadata": {
    "tags": []
   },
   "outputs": [],
   "source": [
    "Eq2 = BD == sqrt(AB^2 - AD^2)\n",
    "println_eqno(Eq2)"
   ]
  },
  {
   "cell_type": "code",
   "execution_count": null,
   "id": "1316ca72-8807-4a0f-b940-57d2056e378e",
   "metadata": {},
   "outputs": [],
   "source": [
    "# After the first iteration Eq. 1 and Eq. 2 are the start values for the\n",
    "# next iteration. Eq. 1 is the new length of the hypothenuse and Eq. 2 is\n",
    "# the new length of the edge. Archimedes did this for (6), 12, 24, 48 and\n",
    "# 96 edges."
   ]
  }
 ],
 "metadata": {
  "kernelspec": {
   "display_name": "SageMath 10.1",
   "language": "sage",
   "name": "sagemath"
  },
  "language_info": {
   "codemirror_mode": {
    "name": "ipython",
    "version": 3
   },
   "file_extension": ".py",
   "mimetype": "text/x-python",
   "name": "python",
   "nbconvert_exporter": "python",
   "pygments_lexer": "ipython3",
   "version": "3.8.10"
  }
 },
 "nbformat": 4,
 "nbformat_minor": 5
}
