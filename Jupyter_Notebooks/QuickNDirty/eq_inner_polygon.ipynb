{
 "cells": [
  {
   "cell_type": "code",
   "execution_count": 1,
   "id": "ee66c31c-6946-4c75-af91-e51002cf14f0",
   "metadata": {},
   "outputs": [],
   "source": [
    "# Archimedes, Measurement of a circle\n",
    "# -----------------------------------\n",
    "#\n",
    "# Development of the Archimedes equations for the inner polygon.\n",
    "#\n",
    "# Theorem 3 Part II contains the solution for the inner polygon. The derivation \n",
    "# created by hand is checked symbolically below using SageMath (Quick and dirty).  "
   ]
  },
  {
   "cell_type": "code",
   "execution_count": 2,
   "id": "656cfc64-1d18-4fbd-9f4e-74f44c4cbf2a",
   "metadata": {},
   "outputs": [],
   "source": [
    "# User defined function for printing lines.\n",
    "def println(line):\n",
    "    '''Function for printing lines with line spacing in form of newlines before\n",
    "    and after the line.'''\n",
    "    # Convert the type of line to a string.\n",
    "    line = str(line)\n",
    "    # Print text, a line or a string to the notebook.\n",
    "    print(\"\\n\\n{0}\\n\".format(line))\n",
    "    # End of function. Return None.\n",
    "    return None\n",
    "\n",
    "eqno = 0\n",
    "\n",
    "def println_eqno(exp):\n",
    "    global eqno\n",
    "    '''Function for printing lines with line spacing in form of newlines before\n",
    "    and after the line.'''\n",
    "    # Convert the type of line to a string.\n",
    "    line = str(exp)\n",
    "    # Print text, a line or a string to the notebook.\n",
    "    eqno += 1\n",
    "    print(\"\\n(Equation {1})\\t{0}\\n\".format(line, eqno))\n",
    "    exp.show()\n",
    "    # End of function. Return None.\n",
    "    return None"
   ]
  },
  {
   "cell_type": "code",
   "execution_count": 3,
   "id": "10a4bcde-57e9-4c9f-9f8e-4cb57ff99492",
   "metadata": {},
   "outputs": [
    {
     "name": "stdout",
     "output_type": "stream",
     "text": [
      "\n",
      "(Equation 1)\tAC/Cd == AB/Bd\n",
      "\n"
     ]
    },
    {
     "data": {
      "text/html": [
       "<html>\\(\\displaystyle \\frac{\\mathit{AC}}{\\mathit{Cd}} = \\frac{\\mathit{AB}}{\\mathit{Bd}}\\)</html>"
      ],
      "text/latex": [
       "$\\displaystyle \\frac{\\mathit{AC}}{\\mathit{Cd}} = \\frac{\\mathit{AB}}{\\mathit{Bd}}$"
      ],
      "text/plain": [
       "AC/Cd == AB/Bd"
      ]
     },
     "metadata": {},
     "output_type": "display_data"
    }
   ],
   "source": [
    "# Define the variables. Keep in Mind, that AB (diameter of the circle) is a constant.\n",
    "var('AC Cd AB Bd')\n",
    "# Euclid Book VI Proposition 3.\n",
    "eq0 = AC / Cd == AB / Bd\n",
    "println_eqno(eq0)"
   ]
  },
  {
   "cell_type": "code",
   "execution_count": 4,
   "id": "3002ffaa-2245-4204-898e-5e81397df242",
   "metadata": {},
   "outputs": [
    {
     "name": "stdout",
     "output_type": "stream",
     "text": [
      "\n",
      "(Equation 2)\tAC/(BC*Cd) == AB/(BC*Bd)\n",
      "\n"
     ]
    },
    {
     "data": {
      "text/html": [
       "<html>\\(\\displaystyle \\frac{\\mathit{AC}}{\\mathit{BC} \\mathit{Cd}} = \\frac{\\mathit{AB}}{\\mathit{BC} \\mathit{Bd}}\\)</html>"
      ],
      "text/latex": [
       "$\\displaystyle \\frac{\\mathit{AC}}{\\mathit{BC} \\mathit{Cd}} = \\frac{\\mathit{AB}}{\\mathit{BC} \\mathit{Bd}}$"
      ],
      "text/plain": [
       "AC/(BC*Cd) == AB/(BC*Bd)"
      ]
     },
     "metadata": {},
     "output_type": "display_data"
    },
    {
     "name": "stdout",
     "output_type": "stream",
     "text": [
      "\n",
      "(Equation 3)\tAC/BC == AB*Cd/(BC*Bd)\n",
      "\n"
     ]
    },
    {
     "data": {
      "text/html": [
       "<html>\\(\\displaystyle \\frac{\\mathit{AC}}{\\mathit{BC}} = \\frac{\\mathit{AB} \\mathit{Cd}}{\\mathit{BC} \\mathit{Bd}}\\)</html>"
      ],
      "text/latex": [
       "$\\displaystyle \\frac{\\mathit{AC}}{\\mathit{BC}} = \\frac{\\mathit{AB} \\mathit{Cd}}{\\mathit{BC} \\mathit{Bd}}$"
      ],
      "text/plain": [
       "AC/BC == AB*Cd/(BC*Bd)"
      ]
     },
     "metadata": {},
     "output_type": "display_data"
    },
    {
     "name": "stdout",
     "output_type": "stream",
     "text": [
      "\n",
      "(Equation 4)\tAC*Bd/BC == AB*Cd/BC\n",
      "\n"
     ]
    },
    {
     "data": {
      "text/html": [
       "<html>\\(\\displaystyle \\frac{\\mathit{AC} \\mathit{Bd}}{\\mathit{BC}} = \\frac{\\mathit{AB} \\mathit{Cd}}{\\mathit{BC}}\\)</html>"
      ],
      "text/latex": [
       "$\\displaystyle \\frac{\\mathit{AC} \\mathit{Bd}}{\\mathit{BC}} = \\frac{\\mathit{AB} \\mathit{Cd}}{\\mathit{BC}}$"
      ],
      "text/plain": [
       "AC*Bd/BC == AB*Cd/BC"
      ]
     },
     "metadata": {},
     "output_type": "display_data"
    }
   ],
   "source": [
    "var('BC')\n",
    "# Devide equation by BC.\n",
    "eq1 = eq0 * 1/BC\n",
    "println_eqno(eq1)\n",
    "# Multiply equation with Cd\n",
    "eq2 = eq1 * Cd \n",
    "println_eqno(eq2)\n",
    "# Multiply equation with Bd.\n",
    "eq3 = eq2 * Bd\n",
    "println_eqno(eq3)"
   ]
  },
  {
   "cell_type": "code",
   "execution_count": 5,
   "id": "978c247b-c324-486d-9e45-7e5dcc592557",
   "metadata": {},
   "outputs": [
    {
     "name": "stdout",
     "output_type": "stream",
     "text": [
      "\n",
      "(Equation 5)\tAB*Bd/BC + AC*Bd/BC == AB*Bd/BC + AB*Cd/BC\n",
      "\n"
     ]
    },
    {
     "data": {
      "text/html": [
       "<html>\\(\\displaystyle \\frac{\\mathit{AB} \\mathit{Bd}}{\\mathit{BC}} + \\frac{\\mathit{AC} \\mathit{Bd}}{\\mathit{BC}} = \\frac{\\mathit{AB} \\mathit{Bd}}{\\mathit{BC}} + \\frac{\\mathit{AB} \\mathit{Cd}}{\\mathit{BC}}\\)</html>"
      ],
      "text/latex": [
       "$\\displaystyle \\frac{\\mathit{AB} \\mathit{Bd}}{\\mathit{BC}} + \\frac{\\mathit{AC} \\mathit{Bd}}{\\mathit{BC}} = \\frac{\\mathit{AB} \\mathit{Bd}}{\\mathit{BC}} + \\frac{\\mathit{AB} \\mathit{Cd}}{\\mathit{BC}}$"
      ],
      "text/plain": [
       "AB*Bd/BC + AC*Bd/BC == AB*Bd/BC + AB*Cd/BC"
      ]
     },
     "metadata": {},
     "output_type": "display_data"
    }
   ],
   "source": [
    "# Add a term on left and right hand side.\n",
    "eq4 = eq3 + (Bd*AB)/BC\n",
    "println_eqno(eq4)"
   ]
  },
  {
   "cell_type": "code",
   "execution_count": 6,
   "id": "e772f1ad-1de7-4ba7-bbd4-f5f24e230f09",
   "metadata": {},
   "outputs": [
    {
     "name": "stdout",
     "output_type": "stream",
     "text": [
      "\n",
      "(Equation 6)\t(AB + AC)*Bd/BC == AB*(Bd + Cd)/BC\n",
      "\n"
     ]
    },
    {
     "data": {
      "text/html": [
       "<html>\\(\\displaystyle \\frac{{\\left(\\mathit{AB} + \\mathit{AC}\\right)} \\mathit{Bd}}{\\mathit{BC}} = \\frac{\\mathit{AB} {\\left(\\mathit{Bd} + \\mathit{Cd}\\right)}}{\\mathit{BC}}\\)</html>"
      ],
      "text/latex": [
       "$\\displaystyle \\frac{{\\left(\\mathit{AB} + \\mathit{AC}\\right)} \\mathit{Bd}}{\\mathit{BC}} = \\frac{\\mathit{AB} {\\left(\\mathit{Bd} + \\mathit{Cd}\\right)}}{\\mathit{BC}}$"
      ],
      "text/plain": [
       "(AB + AC)*Bd/BC == AB*(Bd + Cd)/BC"
      ]
     },
     "metadata": {},
     "output_type": "display_data"
    },
    {
     "name": "stdout",
     "output_type": "stream",
     "text": [
      "\n",
      "(Equation 7)\t(AB + AC)/BC == AB*(Bd + Cd)/(BC*Bd)\n",
      "\n"
     ]
    },
    {
     "data": {
      "text/html": [
       "<html>\\(\\displaystyle \\frac{\\mathit{AB} + \\mathit{AC}}{\\mathit{BC}} = \\frac{\\mathit{AB} {\\left(\\mathit{Bd} + \\mathit{Cd}\\right)}}{\\mathit{BC} \\mathit{Bd}}\\)</html>"
      ],
      "text/latex": [
       "$\\displaystyle \\frac{\\mathit{AB} + \\mathit{AC}}{\\mathit{BC}} = \\frac{\\mathit{AB} {\\left(\\mathit{Bd} + \\mathit{Cd}\\right)}}{\\mathit{BC} \\mathit{Bd}}$"
      ],
      "text/plain": [
       "(AB + AC)/BC == AB*(Bd + Cd)/(BC*Bd)"
      ]
     },
     "metadata": {},
     "output_type": "display_data"
    }
   ],
   "source": [
    "eq5 = eq4.full_simplify().factor()\n",
    "println_eqno(eq5)\n",
    "eq6 = eq5 / Bd\n",
    "println_eqno(eq6)"
   ]
  },
  {
   "cell_type": "code",
   "execution_count": 7,
   "id": "3c762593-289e-457e-b7cc-c9bf8b1b2cdc",
   "metadata": {},
   "outputs": [
    {
     "name": "stdout",
     "output_type": "stream",
     "text": [
      "\n",
      "(Equation 8)\t(AB + AC)/BC == AB/Bd\n",
      "\n"
     ]
    },
    {
     "data": {
      "text/html": [
       "<html>\\(\\displaystyle \\frac{\\mathit{AB} + \\mathit{AC}}{\\mathit{BC}} = \\frac{\\mathit{AB}}{\\mathit{Bd}}\\)</html>"
      ],
      "text/latex": [
       "$\\displaystyle \\frac{\\mathit{AB} + \\mathit{AC}}{\\mathit{BC}} = \\frac{\\mathit{AB}}{\\mathit{Bd}}$"
      ],
      "text/plain": [
       "(AB + AC)/BC == AB/Bd"
      ]
     },
     "metadata": {},
     "output_type": "display_data"
    }
   ],
   "source": [
    "# We know, that BC = Bd + Cd is.\n",
    "# We know that (AB*Bd + AB*Cd) = AB*(Bd + Cd)\n",
    "eq8 = (AB + AC)/BC == AB*BC/(BC*Bd)\n",
    "println_eqno(eq8)"
   ]
  },
  {
   "cell_type": "code",
   "execution_count": 8,
   "id": "bfd5517b-462f-49c0-8b78-55b7acefce74",
   "metadata": {},
   "outputs": [
    {
     "name": "stdout",
     "output_type": "stream",
     "text": [
      "\n",
      "(Equation 9)\tAD/BD == (AB + AC)/BC\n",
      "\n"
     ]
    },
    {
     "data": {
      "text/html": [
       "<html>\\(\\displaystyle \\frac{\\mathit{AD}}{\\mathit{BD}} = \\frac{\\mathit{AB} + \\mathit{AC}}{\\mathit{BC}}\\)</html>"
      ],
      "text/latex": [
       "$\\displaystyle \\frac{\\mathit{AD}}{\\mathit{BD}} = \\frac{\\mathit{AB} + \\mathit{AC}}{\\mathit{BC}}$"
      ],
      "text/plain": [
       "AD/BD == (AB + AC)/BC"
      ]
     },
     "metadata": {},
     "output_type": "display_data"
    }
   ],
   "source": [
    "var('AD BD')\n",
    "# And now we consider AD/BD.\n",
    "# Use AB/Bd = AC/Cd = AD/BD.\n",
    "eq9 = AD/BD == (AB + AC)/BC\n",
    "println_eqno(eq9)"
   ]
  },
  {
   "cell_type": "code",
   "execution_count": 9,
   "id": "82903cc5-d8ae-46ce-8b02-42529cb99a14",
   "metadata": {},
   "outputs": [
    {
     "name": "stdout",
     "output_type": "stream",
     "text": [
      "\n",
      "(Equation 10)\tAD^2/BD^2 == (AB + AC)^2/BC^2\n",
      "\n"
     ]
    },
    {
     "data": {
      "text/html": [
       "<html>\\(\\displaystyle \\frac{\\mathit{AD}^{2}}{\\mathit{BD}^{2}} = \\frac{{\\left(\\mathit{AB} + \\mathit{AC}\\right)}^{2}}{\\mathit{BC}^{2}}\\)</html>"
      ],
      "text/latex": [
       "$\\displaystyle \\frac{\\mathit{AD}^{2}}{\\mathit{BD}^{2}} = \\frac{{\\left(\\mathit{AB} + \\mathit{AC}\\right)}^{2}}{\\mathit{BC}^{2}}$"
      ],
      "text/plain": [
       "AD^2/BD^2 == (AB + AC)^2/BC^2"
      ]
     },
     "metadata": {},
     "output_type": "display_data"
    }
   ],
   "source": [
    "# Square expression.\n",
    "eq10 = eq9^2\n",
    "println_eqno(eq10)"
   ]
  },
  {
   "cell_type": "code",
   "execution_count": 10,
   "id": "dd6009a1-2717-4386-ae04-4abe1e4553a3",
   "metadata": {},
   "outputs": [
    {
     "name": "stdout",
     "output_type": "stream",
     "text": [
      "\n",
      "(Equation 11)\tAD^2 == (AB^2 + 2*AB*AC + AC^2)*BD^2/BC^2\n",
      "\n"
     ]
    },
    {
     "data": {
      "text/html": [
       "<html>\\(\\displaystyle \\mathit{AD}^{2} = \\frac{{\\left(\\mathit{AB}^{2} + 2 \\, \\mathit{AB} \\mathit{AC} + \\mathit{AC}^{2}\\right)} \\mathit{BD}^{2}}{\\mathit{BC}^{2}}\\)</html>"
      ],
      "text/latex": [
       "$\\displaystyle \\mathit{AD}^{2} = \\frac{{\\left(\\mathit{AB}^{2} + 2 \\, \\mathit{AB} \\mathit{AC} + \\mathit{AC}^{2}\\right)} \\mathit{BD}^{2}}{\\mathit{BC}^{2}}$"
      ],
      "text/plain": [
       "AD^2 == (AB^2 + 2*AB*AC + AC^2)*BD^2/BC^2"
      ]
     },
     "metadata": {},
     "output_type": "display_data"
    }
   ],
   "source": [
    "eq11 = solve(eq10, AD^2)\n",
    "println_eqno(eq11[0])"
   ]
  },
  {
   "cell_type": "code",
   "execution_count": 11,
   "id": "45cc599e-b467-422e-9063-3973023652e0",
   "metadata": {},
   "outputs": [
    {
     "name": "stdout",
     "output_type": "stream",
     "text": [
      "\n",
      "(Equation 12)\tAD^2 == (AB + AC)^2*BD^2/BC^2\n",
      "\n"
     ]
    },
    {
     "data": {
      "text/html": [
       "<html>\\(\\displaystyle \\mathit{AD}^{2} = \\frac{{\\left(\\mathit{AB} + \\mathit{AC}\\right)}^{2} \\mathit{BD}^{2}}{\\mathit{BC}^{2}}\\)</html>"
      ],
      "text/latex": [
       "$\\displaystyle \\mathit{AD}^{2} = \\frac{{\\left(\\mathit{AB} + \\mathit{AC}\\right)}^{2} \\mathit{BD}^{2}}{\\mathit{BC}^{2}}$"
      ],
      "text/plain": [
       "AD^2 == (AB + AC)^2*BD^2/BC^2"
      ]
     },
     "metadata": {},
     "output_type": "display_data"
    }
   ],
   "source": [
    "eq12 = eq11[0].factor()\n",
    "println_eqno(eq12)"
   ]
  },
  {
   "cell_type": "code",
   "execution_count": 12,
   "id": "e251d760-c32d-44ec-ad5d-9a1561d58ad7",
   "metadata": {},
   "outputs": [
    {
     "name": "stdout",
     "output_type": "stream",
     "text": [
      "\n",
      "(Equation 13)\tAD^2 == AB^2 - BD^2\n",
      "\n"
     ]
    },
    {
     "data": {
      "text/html": [
       "<html>\\(\\displaystyle \\mathit{AD}^{2} = \\mathit{AB}^{2} - \\mathit{BD}^{2}\\)</html>"
      ],
      "text/latex": [
       "$\\displaystyle \\mathit{AD}^{2} = \\mathit{AB}^{2} - \\mathit{BD}^{2}$"
      ],
      "text/plain": [
       "AD^2 == AB^2 - BD^2"
      ]
     },
     "metadata": {},
     "output_type": "display_data"
    }
   ],
   "source": [
    "eq13 = AD^2 == AB^2 - BD^2\n",
    "println_eqno(eq13)"
   ]
  },
  {
   "cell_type": "code",
   "execution_count": 13,
   "id": "4e8215ef-e117-4b17-ba59-2a4c802d14f9",
   "metadata": {},
   "outputs": [
    {
     "name": "stdout",
     "output_type": "stream",
     "text": [
      "\n",
      "(Equation 14)\tBD^2 == AB^2*BC^2/(AB^2 + 2*AB*AC + AC^2 + BC^2)\n",
      "\n"
     ]
    },
    {
     "data": {
      "text/html": [
       "<html>\\(\\displaystyle \\mathit{BD}^{2} = \\frac{\\mathit{AB}^{2} \\mathit{BC}^{2}}{\\mathit{AB}^{2} + 2 \\, \\mathit{AB} \\mathit{AC} + \\mathit{AC}^{2} + \\mathit{BC}^{2}}\\)</html>"
      ],
      "text/latex": [
       "$\\displaystyle \\mathit{BD}^{2} = \\frac{\\mathit{AB}^{2} \\mathit{BC}^{2}}{\\mathit{AB}^{2} + 2 \\, \\mathit{AB} \\mathit{AC} + \\mathit{AC}^{2} + \\mathit{BC}^{2}}$"
      ],
      "text/plain": [
       "BD^2 == AB^2*BC^2/(AB^2 + 2*AB*AC + AC^2 + BC^2)"
      ]
     },
     "metadata": {},
     "output_type": "display_data"
    }
   ],
   "source": [
    "# We are looking for the edge length BD.\n",
    "eq14 = solve((AB + AC)^2*BD^2/BC^2 == AB^2 - BD^2, BD^2)\n",
    "println_eqno(eq14[0])"
   ]
  },
  {
   "cell_type": "code",
   "execution_count": 14,
   "id": "df02bf7e-b42a-4ac6-91b3-d77fc2d0e602",
   "metadata": {},
   "outputs": [
    {
     "name": "stdout",
     "output_type": "stream",
     "text": [
      "\n",
      "(Equation 15)\tBD^2 == AB^2*BC^2/((AB + AC)^2 + BC^2)\n",
      "\n"
     ]
    },
    {
     "data": {
      "text/html": [
       "<html>\\(\\displaystyle \\mathit{BD}^{2} = \\frac{\\mathit{AB}^{2} \\mathit{BC}^{2}}{{\\left(\\mathit{AB} + \\mathit{AC}\\right)}^{2} + \\mathit{BC}^{2}}\\)</html>"
      ],
      "text/latex": [
       "$\\displaystyle \\mathit{BD}^{2} = \\frac{\\mathit{AB}^{2} \\mathit{BC}^{2}}{{\\left(\\mathit{AB} + \\mathit{AC}\\right)}^{2} + \\mathit{BC}^{2}}$"
      ],
      "text/plain": [
       "BD^2 == AB^2*BC^2/((AB + AC)^2 + BC^2)"
      ]
     },
     "metadata": {},
     "output_type": "display_data"
    }
   ],
   "source": [
    "eq15 = BD^2 == AB^2*BC^2/((AB^2 + 2*AB*AC + AC^2).factor() + BC^2)\n",
    "println_eqno(eq15)"
   ]
  },
  {
   "cell_type": "code",
   "execution_count": 15,
   "id": "861578ca-d504-4370-9c97-31179579c380",
   "metadata": {},
   "outputs": [
    {
     "name": "stdout",
     "output_type": "stream",
     "text": [
      "\n",
      "(Equation 16)\tAD^2 == -AB^2*BC^2/((AB + AC)^2 + BC^2) + AB^2\n",
      "\n"
     ]
    },
    {
     "data": {
      "text/html": [
       "<html>\\(\\displaystyle \\mathit{AD}^{2} = -\\frac{\\mathit{AB}^{2} \\mathit{BC}^{2}}{{\\left(\\mathit{AB} + \\mathit{AC}\\right)}^{2} + \\mathit{BC}^{2}} + \\mathit{AB}^{2}\\)</html>"
      ],
      "text/latex": [
       "$\\displaystyle \\mathit{AD}^{2} = -\\frac{\\mathit{AB}^{2} \\mathit{BC}^{2}}{{\\left(\\mathit{AB} + \\mathit{AC}\\right)}^{2} + \\mathit{BC}^{2}} + \\mathit{AB}^{2}$"
      ],
      "text/plain": [
       "AD^2 == -AB^2*BC^2/((AB + AC)^2 + BC^2) + AB^2"
      ]
     },
     "metadata": {},
     "output_type": "display_data"
    }
   ],
   "source": [
    "eq16 = AD^2 == AB^2 - AB^2*BC^2/((AB + AC)^2 + BC^2)\n",
    "println_eqno(eq16)"
   ]
  },
  {
   "cell_type": "code",
   "execution_count": 16,
   "id": "e5392de9-2353-4d66-89b9-b14e961b0c83",
   "metadata": {},
   "outputs": [
    {
     "data": {
      "text/plain": [
       "AD^2 == (AB^4 + 2*AB^3*AC + AB^2*AC^2)/(AB^2 + 2*AB*AC + AC^2 + BC^2)"
      ]
     },
     "execution_count": 16,
     "metadata": {},
     "output_type": "execute_result"
    }
   ],
   "source": [
    "eq16.full_simplify()"
   ]
  },
  {
   "cell_type": "code",
   "execution_count": 17,
   "id": "b1f00c49-584d-4206-9dc3-01481496aa03",
   "metadata": {},
   "outputs": [
    {
     "name": "stdout",
     "output_type": "stream",
     "text": [
      "\n",
      "(Equation 17)\tAD^2 == (AB + AC)^2*AB^2/((AB + AC)^2 + BC^2)\n",
      "\n"
     ]
    },
    {
     "data": {
      "text/html": [
       "<html>\\(\\displaystyle \\mathit{AD}^{2} = \\frac{{\\left(\\mathit{AB} + \\mathit{AC}\\right)}^{2} \\mathit{AB}^{2}}{{\\left(\\mathit{AB} + \\mathit{AC}\\right)}^{2} + \\mathit{BC}^{2}}\\)</html>"
      ],
      "text/latex": [
       "$\\displaystyle \\mathit{AD}^{2} = \\frac{{\\left(\\mathit{AB} + \\mathit{AC}\\right)}^{2} \\mathit{AB}^{2}}{{\\left(\\mathit{AB} + \\mathit{AC}\\right)}^{2} + \\mathit{BC}^{2}}$"
      ],
      "text/plain": [
       "AD^2 == (AB + AC)^2*AB^2/((AB + AC)^2 + BC^2)"
      ]
     },
     "metadata": {},
     "output_type": "display_data"
    }
   ],
   "source": [
    "eq17 = AD^2 == (AB^4 + 2*AB^3*AC + AB^2*AC^2).factor()/((AB^2 + 2*AB*AC + AC^2).factor() + BC^2)\n",
    "println_eqno(eq17)"
   ]
  },
  {
   "cell_type": "code",
   "execution_count": 18,
   "id": "01c3b097-dbab-4bd9-a07e-312742a29453",
   "metadata": {},
   "outputs": [
    {
     "name": "stdout",
     "output_type": "stream",
     "text": [
      "\n",
      "(Equation 18)\tAD == (AB + AC)*AB/sqrt(AB^2 + 2*AB*AC + AC^2 + BC^2)\n",
      "\n"
     ]
    },
    {
     "data": {
      "text/html": [
       "<html>\\(\\displaystyle \\mathit{AD} = \\frac{{\\left(\\mathit{AB} + \\mathit{AC}\\right)} \\mathit{AB}}{\\sqrt{\\mathit{AB}^{2} + 2 \\, \\mathit{AB} \\mathit{AC} + \\mathit{AC}^{2} + \\mathit{BC}^{2}}}\\)</html>"
      ],
      "text/latex": [
       "$\\displaystyle \\mathit{AD} = \\frac{{\\left(\\mathit{AB} + \\mathit{AC}\\right)} \\mathit{AB}}{\\sqrt{\\mathit{AB}^{2} + 2 \\, \\mathit{AB} \\mathit{AC} + \\mathit{AC}^{2} + \\mathit{BC}^{2}}}$"
      ],
      "text/plain": [
       "AD == (AB + AC)*AB/sqrt(AB^2 + 2*AB*AC + AC^2 + BC^2)"
      ]
     },
     "metadata": {},
     "output_type": "display_data"
    }
   ],
   "source": [
    "eq18 = (eq17^(1/2)).canonicalize_radical().factor()\n",
    "println_eqno(eq18)"
   ]
  },
  {
   "cell_type": "code",
   "execution_count": 19,
   "id": "20bdc9ec-1025-420d-8283-5fdb5d883965",
   "metadata": {},
   "outputs": [
    {
     "name": "stdout",
     "output_type": "stream",
     "text": [
      "\n",
      "(Equation 19)\tAD == AB/sqrt(BC^2/(AB + AC)^2 + 1)\n",
      "\n"
     ]
    },
    {
     "data": {
      "text/html": [
       "<html>\\(\\displaystyle \\mathit{AD} = \\frac{\\mathit{AB}}{\\sqrt{\\frac{\\mathit{BC}^{2}}{{\\left(\\mathit{AB} + \\mathit{AC}\\right)}^{2}} + 1}}\\)</html>"
      ],
      "text/latex": [
       "$\\displaystyle \\mathit{AD} = \\frac{\\mathit{AB}}{\\sqrt{\\frac{\\mathit{BC}^{2}}{{\\left(\\mathit{AB} + \\mathit{AC}\\right)}^{2}} + 1}}$"
      ],
      "text/plain": [
       "AD == AB/sqrt(BC^2/(AB + AC)^2 + 1)"
      ]
     },
     "metadata": {},
     "output_type": "display_data"
    }
   ],
   "source": [
    "Eq1 = AD == AB/sqrt(1+(BC^2/(AB+AC)^2))\n",
    "println_eqno(Eq1)"
   ]
  },
  {
   "cell_type": "code",
   "execution_count": 20,
   "id": "0cac5ba0-cc63-4725-8e06-a0dde4e6d55d",
   "metadata": {
    "tags": []
   },
   "outputs": [
    {
     "name": "stdout",
     "output_type": "stream",
     "text": [
      "\n",
      "(Equation 20)\tBD == sqrt(AB^2 - AD^2)\n",
      "\n"
     ]
    },
    {
     "data": {
      "text/html": [
       "<html>\\(\\displaystyle \\mathit{BD} = \\sqrt{\\mathit{AB}^{2} - \\mathit{AD}^{2}}\\)</html>"
      ],
      "text/latex": [
       "$\\displaystyle \\mathit{BD} = \\sqrt{\\mathit{AB}^{2} - \\mathit{AD}^{2}}$"
      ],
      "text/plain": [
       "BD == sqrt(AB^2 - AD^2)"
      ]
     },
     "metadata": {},
     "output_type": "display_data"
    }
   ],
   "source": [
    "Eq2 = BD == sqrt(AB^2 - AD^2)\n",
    "println_eqno(Eq2)"
   ]
  },
  {
   "cell_type": "code",
   "execution_count": 21,
   "id": "1316ca72-8807-4a0f-b940-57d2056e378e",
   "metadata": {},
   "outputs": [],
   "source": [
    "# After the first iteration Eq. 1 and Eq. 2 are the start values for the\n",
    "# next iteration. Eq. 1 is the new length of the hypothenuse and Eq. 2 is\n",
    "# the new length of the edge. Archimedes did this for (6), 12, 24, 48 and\n",
    "# 96 edges."
   ]
  }
 ],
 "metadata": {
  "kernelspec": {
   "display_name": "SageMath 10.1",
   "language": "sage",
   "name": "sagemath"
  },
  "language_info": {
   "codemirror_mode": {
    "name": "ipython",
    "version": 3
   },
   "file_extension": ".py",
   "mimetype": "text/x-python",
   "name": "python",
   "nbconvert_exporter": "python",
   "pygments_lexer": "ipython3",
   "version": "3.8.10"
  }
 },
 "nbformat": 4,
 "nbformat_minor": 5
}
