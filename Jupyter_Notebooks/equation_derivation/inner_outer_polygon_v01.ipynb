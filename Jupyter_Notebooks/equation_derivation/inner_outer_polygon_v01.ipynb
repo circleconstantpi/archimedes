{
 "cells": [
  {
   "cell_type": "code",
   "execution_count": 1,
   "id": "c98c023c-df9f-4737-aa80-5dfe1adbafc1",
   "metadata": {},
   "outputs": [],
   "source": [
    "# ##################################################################################\n",
    "# Archimedes, Measurement of a circle\n",
    "# ----------------------------------------------------------------------------------\n",
    "#\n",
    "# Development of the Archimedes equations for inner and outer polygon.\n",
    "# Version 0.1\n",
    "# \n",
    "# developed, written and tested in 2023 by Dr. Peter Netz\n",
    "#\n",
    "# Published under the MIT-Licence.\n",
    "# Copyright (c) 2023, Dr. Peter Netz\n",
    "#\n",
    "# I would be pleased to be mentioned if this work is useful and used for further\n",
    "# studies.\n",
    "#\n",
    "# This is the complete theory of the inscribed and circumscribed polygon for\n",
    "# calculating pi based on the theory of Archimedes (plus algorithms).\n",
    "#\n",
    "# Archimedes, Measurement of a circle, Proposition 3 Part I contains the \n",
    "# solution for the calculation of an approximation of pi via circumscribed outer \n",
    "# polygons. The derivation carried out by hand is checked below with SageMath \n",
    "# using a symbolic calculation. The derivation can be checked using an iterative \n",
    "# algorithm. \n",
    "#\n",
    "# The following derivations are almost completely automated, so that errors can be \n",
    "# avoided. Some terms had to be used and edited by copy and paste in order to use \n",
    "# them specifically.\n",
    "# \n",
    "# Open issues are:\n",
    "# How can an expression be extracted from a square root in symbolic calculus.\n",
    "#\n",
    "# To-Do: \n",
    "# Carry out further calculations. Improvement of the documentation. Optimisation \n",
    "# and improvement of the derivations. Check the influence of square roots on the\n",
    "# calculations  \n",
    "# \n",
    "# ----------------------------------------------------------------------------------\n",
    "# References\n",
    "#\n",
    "# [1] T. L. HEATH, Sc.D., The Works of Archimedes, EDITED IN MODERN NOTATION, \n",
    "# WITH INTRODUCTORY CHAPTERS, CAMBRIDGE: AT THE UNIVERSITY PRESS, 1897\n",
    "# [2] Dr. Saskia Roos, Michael Jung, An Introductory Course on Sage, Lecture\n",
    "# Notes Summer Term 2020, University of Potsdam, Sep 30, 2020\n",
    "# [3] SageMath, The Sage Development Team, Symbolic Calculus, Release 10.1, \n",
    "# Aug 21, 2023\n",
    "# [4] SageMath, the Sage Mathematics Software System (Version 10.1), The Sage\n",
    "# Developers, https://www.sagemath.org, 2019\n",
    "# [5] mathworld.wolfram.com/ArchimedesAlgorithm.html\n",
    "# ##################################################################################"
   ]
  },
  {
   "cell_type": "code",
   "execution_count": 2,
   "id": "44a487b3-4786-4465-8877-2a024f905b4a",
   "metadata": {},
   "outputs": [
    {
     "data": {
      "text/html": [
       "<font color='purple'><b><H1>User defined functions</H1></b></font><br/>"
      ],
      "text/plain": [
       "<font color='purple'><b><H1>User defined functions</H1></b></font><br/>"
      ]
     },
     "execution_count": 2,
     "metadata": {},
     "output_type": "execute_result"
    }
   ],
   "source": [
    "html(\"\"\"<font color='purple'><b><H1>User defined functions</H1></b></font><br/>\"\"\")"
   ]
  },
  {
   "cell_type": "code",
   "execution_count": 3,
   "id": "22dada08-cae9-4c5b-bc55-32eee641ebae",
   "metadata": {},
   "outputs": [],
   "source": [
    "# User defined function println for printing lines.\n",
    "def println(exp):\n",
    "    '''Function for printing lines with line spacing in form of newlines before\n",
    "    and after the line. We have to take care that an SageMath expressions is \n",
    "    converted to a string before printing.'''\n",
    "    # Convert the type of line to a string.\n",
    "    line = str(exp)\n",
    "    # Print text, a line or a string to the notebook.\n",
    "    print(\"\\n{0}\\n\".format(line))\n",
    "    # End of func"
   ]
  },
  {
   "cell_type": "code",
   "execution_count": 4,
   "id": "77f2947b-5cda-4815-af9f-dee7ab209d95",
   "metadata": {},
   "outputs": [],
   "source": [
    "# Initialise the global variables.\n",
    "EqNo = 0\n",
    "LnLen = 80\n",
    "# LnLen = -1 <- Disabled global LnLen\n",
    "\n",
    "# User defined function println_eqno for printing equations.\n",
    "def println_eqno(exp, lnlen=80):\n",
    "    '''Function for printing lines with line spacing in form of newlines before\n",
    "    and after the line.'''\n",
    "    global EqNo, LnLen\n",
    "    if LnLen != -1:\n",
    "        lnlen = LnLen\n",
    "    # Convert the type of line to a string.\n",
    "    line = str(exp)\n",
    "    # Calculate the necessary number of spaces. \n",
    "    spclen = lnlen - len(line)\n",
    "    # Create the string with the spaces.\n",
    "    space = \"\".join(u'\\u0020' for i in range(spclen))\n",
    "    # Print text, a line or a string to the notebook.\n",
    "    EqNo += 1\n",
    "    print(\"\\n{0}{1}(Equation {2})\\n\".format(line, space, EqNo))\n",
    "    exp.show()\n",
    "    # End of function. Return None.\n",
    "    return None"
   ]
  },
  {
   "cell_type": "code",
   "execution_count": 5,
   "id": "36713892-2077-405e-9a63-6f70afc6e5f1",
   "metadata": {},
   "outputs": [],
   "source": [
    "def plot_figure(imgfn, xsize=8, ysize=8):\n",
    "    '''Use matlibplot to show an image.'''\n",
    "    # Import the matplotlib modules by name.\n",
    "    import matplotlib.pyplot as plt\n",
    "    import matplotlib.image as img\n",
    "    import matplotlib.image as figure\n",
    "    # Read the PNG graphic file.\n",
    "    img = img.imread(imgfn) \n",
    "    # Do not show axes and frame.\n",
    "    plt.axis('off')\n",
    "    # Scale the image on the notebook.\n",
    "    # plt.rcdefaults() resets the image size.\n",
    "    plt.rcParams['figure.figsize'] = [xsize, ysize]\n",
    "    # Change the paramter for a larger or a smaller graphic.   \n",
    "    # plt.title('Title of the graphic') adds a title to the image.\n",
    "    plt.imshow(img)\n",
    "    plt.show()\n",
    "    # End of function. Return None.\n",
    "    return None"
   ]
  },
  {
   "cell_type": "code",
   "execution_count": 6,
   "id": "437466bc-dd01-4dd0-b4f4-a85d076b6f85",
   "metadata": {},
   "outputs": [],
   "source": [
    "# User defined function fractional number.\n",
    "def fractional_number(decnum, maxexp, ROUND=True):\n",
    "    '''Generator for calculating a fractional number from a given decimal \n",
    "    number. The generator can run infinite. Rounding to the correct value\n",
    "    is done by the Python function round().'''\n",
    "    # Initialise the counter for the exponent to base 10.\n",
    "    exp = 0\n",
    "    # Initialise numerator and denominator.\n",
    "    nr = ''\n",
    "    dr = ''\n",
    "    # Initialise the potential value.\n",
    "    potval = 0\n",
    "    if ROUND is True:\n",
    "        decnum = str(round(decnum, maxexp))\n",
    "    # Run an infinite loop.\n",
    "    while exp <= maxexp:\n",
    "        decnum = float(decnum)\n",
    "        # Cut off the decimal places.\n",
    "        bd = str(decnum).split('.')[0]\n",
    "        ad = str(decnum).split('.')[1]\n",
    "        decpls = float(\"0.\" + ad)\n",
    "        # Cut off the number before the decimal point.\n",
    "        decnum = int(decnum)\n",
    "        # Join the integer numbers.\n",
    "        dr = dr + str(decnum)\n",
    "        # Calculate the denominator.\n",
    "        potval = 10^exp\n",
    "        # Get the denominator number.\n",
    "        nr = str(potval)\n",
    "        # Multiply the decimal places with 10.\n",
    "        decpls *= 10\n",
    "        # Store the new decimal number.\n",
    "        decnum = decpls\n",
    "        # Increment the exponential counter.\n",
    "        exp += 1\n",
    "        # Return the numerator and the denominator.\n",
    "    return nr, dr"
   ]
  },
  {
   "cell_type": "code",
   "execution_count": 7,
   "id": "212d4490-1a52-4223-bed5-6aed4acf03e4",
   "metadata": {},
   "outputs": [
    {
     "data": {
      "text/html": [
       "<font color='blue'><b><H1>Archimedes, Measurement of a Circle<br>Construction of the related Figure</H1></b></font><br/>"
      ],
      "text/plain": [
       "<font color='blue'><b><H1>Archimedes, Measurement of a Circle<br>Construction of the related Figure</H1></b></font><br/>"
      ]
     },
     "execution_count": 7,
     "metadata": {},
     "output_type": "execute_result"
    }
   ],
   "source": [
    "html(\"\"\"<font color='blue'><b><H1>Archimedes, Measurement of a Circle<br>Construction of the related Figure</H1></b></font><br/>\"\"\")"
   ]
  },
  {
   "cell_type": "code",
   "execution_count": 8,
   "id": "f5990c1b-0986-4105-ac0e-30a58d29c6cb",
   "metadata": {},
   "outputs": [
    {
     "data": {
      "image/png": "[encoded data removed]",
      "text/plain": [
       "<Figure size 640x480 with 1 Axes>"
      ]
     },
     "metadata": {},
     "output_type": "display_data"
    }
   ],
   "source": [
    "plot_figure(\"archimedes_figure_alt.png\")"
   ]
  },
  {
   "cell_type": "code",
   "execution_count": 9,
   "id": "cf889a32-455a-4a1d-8a9a-0214e40d0749",
   "metadata": {},
   "outputs": [
    {
     "data": {
      "text/html": [
       "<font color='blue'><b><H1>Archimedes, Measurement of a Circle<br>\n",
       "Derivation of the iterative determination equations</H1></b></font><br/>"
      ],
      "text/plain": [
       "<font color='blue'><b><H1>Archimedes, Measurement of a Circle<br>\n",
       "Derivation of the iterative determination equations</H1></b></font><br/>"
      ]
     },
     "execution_count": 9,
     "metadata": {},
     "output_type": "execute_result"
    }
   ],
   "source": [
    "html(\"\"\"<font color='blue'><b><H1>Archimedes, Measurement of a Circle<br>\n",
    "Derivation of the iterative determination equations</H1></b></font><br/>\"\"\")"
   ]
  },
  {
   "cell_type": "code",
   "execution_count": 10,
   "id": "27c31c89-ada5-4e51-9234-308e86c25c62",
   "metadata": {},
   "outputs": [],
   "source": [
    "# The derivation based on Archimedes for the inner and outer polygon are \n",
    "# exactly the same at first glance. The difference with the inner polygon\n",
    "# lies in the consideration of the triangle FGH. This is done at the end \n",
    "# of the derivation."
   ]
  },
  {
   "cell_type": "code",
   "execution_count": 11,
   "id": "cbcb445c-3e0b-44e6-9935-0f1150a530c0",
   "metadata": {},
   "outputs": [
    {
     "name": "stdout",
     "output_type": "stream",
     "text": [
      "\n",
      "The straight line AC can be divided in point D:\n",
      "\n",
      "\n",
      "AC == AD + CD\n",
      "\n",
      "\n",
      "The straight line BE can be divided in point F:\n",
      "\n",
      "\n",
      "BE == BF + EF\n",
      "\n"
     ]
    }
   ],
   "source": [
    "# Introduce a simple relation from the given figure.\n",
    "var('AD AC CD BE EF BF')\n",
    "eq0 = AC == CD + AD\n",
    "eq0a = BE == EF + BF\n",
    "println(\"The straight line AC can be divided in point D:\")\n",
    "println(eq0)\n",
    "println(\"The straight line BE can be divided in point F:\")\n",
    "println(eq0a)"
   ]
  },
  {
   "cell_type": "code",
   "execution_count": 12,
   "id": "fede0c25-7946-4afb-8d1f-16025b13364b",
   "metadata": {},
   "outputs": [
    {
     "name": "stdout",
     "output_type": "stream",
     "text": [
      "\n",
      "Applying Euclid Book VI Proposition 3 results in (outer polygon):\n",
      "\n",
      "\n",
      "OC/OA == CD/AD                                                                  (Equation 1)\n",
      "\n"
     ]
    },
    {
     "data": {
      "text/html": [
       "<html>\\(\\displaystyle \\frac{\\mathit{OC}}{\\mathit{OA}} = \\frac{\\mathit{CD}}{\\mathit{AD}}\\)</html>"
      ],
      "text/latex": [
       "$\\displaystyle \\frac{\\mathit{OC}}{\\mathit{OA}} = \\frac{\\mathit{CD}}{\\mathit{AD}}$"
      ],
      "text/plain": [
       "OC/OA == CD/AD"
      ]
     },
     "metadata": {},
     "output_type": "display_data"
    },
    {
     "name": "stdout",
     "output_type": "stream",
     "text": [
      "\n",
      "Applying Euclid Book VI Proposition 3 results in  (inner polygon):\n",
      "\n",
      "\n",
      "OE/OB == EF/BF                                                                  (Equation 2)\n",
      "\n"
     ]
    },
    {
     "data": {
      "text/html": [
       "<html>\\(\\displaystyle \\frac{\\mathit{OE}}{\\mathit{OB}} = \\frac{\\mathit{EF}}{\\mathit{BF}}\\)</html>"
      ],
      "text/latex": [
       "$\\displaystyle \\frac{\\mathit{OE}}{\\mathit{OB}} = \\frac{\\mathit{EF}}{\\mathit{BF}}$"
      ],
      "text/plain": [
       "OE/OB == EF/BF"
      ]
     },
     "metadata": {},
     "output_type": "display_data"
    }
   ],
   "source": [
    "# Apply Euclid Book VI Proposition 3.\n",
    "var('OC OA CD AD OE OB')\n",
    "println(\"Applying Euclid Book VI Proposition 3 results in (outer polygon):\")\n",
    "eq1 = OC / OA == CD / AD\n",
    "println_eqno(eq1)\n",
    "println(\"Applying Euclid Book VI Proposition 3 results in  (inner polygon):\")\n",
    "eq1a = OE / OB == EF / BF\n",
    "println_eqno(eq1a)"
   ]
  },
  {
   "cell_type": "code",
   "execution_count": 13,
   "id": "2ed052f2-f4e3-415b-b5dd-8fe8673cba8a",
   "metadata": {},
   "outputs": [
    {
     "name": "stdout",
     "output_type": "stream",
     "text": [
      "\n",
      "The equation is transformed according to AD:\n",
      "\n",
      "\n",
      "AD == CD*OA/OC                                                                  (Equation 3)\n",
      "\n"
     ]
    },
    {
     "data": {
      "text/html": [
       "<html>\\(\\displaystyle \\mathit{AD} = \\frac{\\mathit{CD} \\mathit{OA}}{\\mathit{OC}}\\)</html>"
      ],
      "text/latex": [
       "$\\displaystyle \\mathit{AD} = \\frac{\\mathit{CD} \\mathit{OA}}{\\mathit{OC}}$"
      ],
      "text/plain": [
       "AD == CD*OA/OC"
      ]
     },
     "metadata": {},
     "output_type": "display_data"
    },
    {
     "name": "stdout",
     "output_type": "stream",
     "text": [
      "\n",
      "The equation is transformed according to BF:\n",
      "\n",
      "\n",
      "BF == EF*OB/OE                                                                  (Equation 4)\n",
      "\n"
     ]
    },
    {
     "data": {
      "text/html": [
       "<html>\\(\\displaystyle \\mathit{BF} = \\frac{\\mathit{EF} \\mathit{OB}}{\\mathit{OE}}\\)</html>"
      ],
      "text/latex": [
       "$\\displaystyle \\mathit{BF} = \\frac{\\mathit{EF} \\mathit{OB}}{\\mathit{OE}}$"
      ],
      "text/plain": [
       "BF == EF*OB/OE"
      ]
     },
     "metadata": {},
     "output_type": "display_data"
    }
   ],
   "source": [
    "# Solve the equation for DA.\n",
    "eq2 = solve(eq1, AD)\n",
    "println(\"The equation is transformed according to AD:\")\n",
    "println_eqno(eq2[0])\n",
    "eq2a = solve(eq1a, BF)\n",
    "println(\"The equation is transformed according to BF:\")\n",
    "println_eqno(eq2a[0])"
   ]
  },
  {
   "cell_type": "code",
   "execution_count": 14,
   "id": "705ba295-1961-48c9-b917-fdad9ce58c6e",
   "metadata": {},
   "outputs": [
    {
     "name": "stdout",
     "output_type": "stream",
     "text": [
      "\n",
      "The equation AC = CD + AD is transformed according to CD:\n",
      "\n",
      "\n",
      "CD == AC - AD                                                                   (Equation 5)\n",
      "\n"
     ]
    },
    {
     "data": {
      "text/html": [
       "<html>\\(\\displaystyle \\mathit{CD} = \\mathit{AC} - \\mathit{AD}\\)</html>"
      ],
      "text/latex": [
       "$\\displaystyle \\mathit{CD} = \\mathit{AC} - \\mathit{AD}$"
      ],
      "text/plain": [
       "CD == AC - AD"
      ]
     },
     "metadata": {},
     "output_type": "display_data"
    },
    {
     "name": "stdout",
     "output_type": "stream",
     "text": [
      "\n",
      "The equation BE = EF + BF is transformed according to BF:\n",
      "\n",
      "\n",
      "BF == BE - EF                                                                   (Equation 6)\n",
      "\n"
     ]
    },
    {
     "data": {
      "text/html": [
       "<html>\\(\\displaystyle \\mathit{BF} = \\mathit{BE} - \\mathit{EF}\\)</html>"
      ],
      "text/latex": [
       "$\\displaystyle \\mathit{BF} = \\mathit{BE} - \\mathit{EF}$"
      ],
      "text/plain": [
       "BF == BE - EF"
      ]
     },
     "metadata": {},
     "output_type": "display_data"
    }
   ],
   "source": [
    "# Solve the equation for DA.\n",
    "println(\"The equation AC = CD + AD is transformed according to CD:\")\n",
    "eq3 = solve(eq0, CD)\n",
    "println_eqno(eq3[0])\n",
    "println(\"The equation BE = EF + BF is transformed according to BF:\")\n",
    "eq3a = solve(eq0a, BF)\n",
    "println_eqno(eq3a[0])"
   ]
  },
  {
   "cell_type": "code",
   "execution_count": 15,
   "id": "80db90a0-1e5e-401b-a02c-f49f38801a5f",
   "metadata": {},
   "outputs": [
    {
     "name": "stdout",
     "output_type": "stream",
     "text": [
      "\n",
      "We are using:\n",
      "\n",
      "\n",
      "CD == AC - AD\n",
      "\n",
      "\n",
      "And we are using:\n",
      "\n",
      "\n",
      "AD == CD*OA/OC\n",
      "\n",
      "\n",
      "Finally the relation AC = CD + AD is used in relation AD = CD*OA/OC:\n",
      "\n",
      "\n",
      "AD == (AC - AD)*OA/OC\n",
      "\n"
     ]
    }
   ],
   "source": [
    "eq3a = CD == AC - AD \n",
    "eq3b = AD == CD*OA/OC\n",
    "eq3c = eq3b.substitute(CD=AC-AD )\n",
    "println(\"We are using:\")\n",
    "println(eq3a)\n",
    "println(\"And we are using:\")\n",
    "println(eq3b)\n",
    "println(\"Finally the relation AC = CD + AD is used in relation AD = CD*OA/OC:\")\n",
    "println(eq3c)"
   ]
  },
  {
   "cell_type": "code",
   "execution_count": 16,
   "id": "57af46ca-40bc-4036-9680-67d7ce8cfc44",
   "metadata": {},
   "outputs": [
    {
     "name": "stdout",
     "output_type": "stream",
     "text": [
      "\n",
      "We are using:\n",
      "\n",
      "\n",
      "EF == BE - BF\n",
      "\n",
      "\n",
      "And we are using:\n",
      "\n",
      "\n",
      "BF == EF*OB/OE\n",
      "\n",
      "\n",
      "Finally the relation BE = EF + BF is used in relation BF = EF*OB/OE:\n",
      "\n",
      "\n",
      "BF == (BE - BF)*OB/OE\n",
      "\n"
     ]
    }
   ],
   "source": [
    "eq3aa = EF == BE - BF \n",
    "eq3bb = BF == EF*OB/OE\n",
    "eq3cc = eq3bb.substitute(EF=BE-BF )\n",
    "println(\"We are using:\")\n",
    "println(eq3aa)\n",
    "println(\"And we are using:\")\n",
    "println(eq3bb)\n",
    "println(\"Finally the relation BE = EF + BF is used in relation BF = EF*OB/OE:\")\n",
    "println(eq3cc)"
   ]
  },
  {
   "cell_type": "code",
   "execution_count": 17,
   "id": "f687ed97-658a-42f0-bcd0-96fd542d97b5",
   "metadata": {},
   "outputs": [
    {
     "data": {
      "text/html": [
       "<font color='green'><b><H1>Archimedes, Measurement of a Circle<br>Determination equations</H1></b></font><br/>"
      ],
      "text/plain": [
       "<font color='green'><b><H1>Archimedes, Measurement of a Circle<br>Determination equations</H1></b></font><br/>"
      ]
     },
     "execution_count": 17,
     "metadata": {},
     "output_type": "execute_result"
    }
   ],
   "source": [
    "html(\"\"\"<font color='green'><b><H1>Archimedes, Measurement of a Circle<br>Determination equations</H1></b></font><br/>\"\"\")"
   ]
  },
  {
   "cell_type": "code",
   "execution_count": 18,
   "id": "47de7e22-657b-4092-bc00-7499991facf5",
   "metadata": {},
   "outputs": [
    {
     "name": "stdout",
     "output_type": "stream",
     "text": [
      "\n",
      "The first determining equation is:\n",
      "\n",
      "\n",
      "AD == AC*OA/(OA + OC)                                                           (Equation 7)\n",
      "\n"
     ]
    },
    {
     "data": {
      "text/html": [
       "<html>\\(\\displaystyle \\mathit{AD} = \\frac{\\mathit{AC} \\mathit{OA}}{\\mathit{OA} + \\mathit{OC}}\\)</html>"
      ],
      "text/latex": [
       "$\\displaystyle \\mathit{AD} = \\frac{\\mathit{AC} \\mathit{OA}}{\\mathit{OA} + \\mathit{OC}}$"
      ],
      "text/plain": [
       "AD == AC*OA/(OA + OC)"
      ]
     },
     "metadata": {},
     "output_type": "display_data"
    },
    {
     "name": "stdout",
     "output_type": "stream",
     "text": [
      "\n",
      "The first determining equation is:\n",
      "\n",
      "\n",
      "BF == BE*OB/(OB + OE)                                                           (Equation 8)\n",
      "\n"
     ]
    },
    {
     "data": {
      "text/html": [
       "<html>\\(\\displaystyle \\mathit{BF} = \\frac{\\mathit{BE} \\mathit{OB}}{\\mathit{OB} + \\mathit{OE}}\\)</html>"
      ],
      "text/latex": [
       "$\\displaystyle \\mathit{BF} = \\frac{\\mathit{BE} \\mathit{OB}}{\\mathit{OB} + \\mathit{OE}}$"
      ],
      "text/plain": [
       "BF == BE*OB/(OB + OE)"
      ]
     },
     "metadata": {},
     "output_type": "display_data"
    }
   ],
   "source": [
    "var('AC AD OA OC')\n",
    "eq4 = solve(AD == eq3c.rhs(), AD)\n",
    "println(\"The first determining equation is:\")\n",
    "eq4 = solve(AD == eq3c.rhs(), AD)\n",
    "println_eqno(eq4[0])\n",
    "eq4a = eq4[0]\n",
    "# PDF viewer.\n",
    "#view(eq5, viewer='pdf')\n",
    "println(\"The first determining equation is:\")\n",
    "eq4bb = solve(BF == eq3cc.rhs(), BF)\n",
    "#println_eqno(eq4bb)\n",
    "println_eqno(eq4bb[0])"
   ]
  },
  {
   "cell_type": "code",
   "execution_count": 19,
   "id": "ad35bf1f-d89c-49c0-b1b0-0997f51336aa",
   "metadata": {},
   "outputs": [
    {
     "name": "stdout",
     "output_type": "stream",
     "text": [
      "\n",
      "FG == OA - OF                                                                   (Equation 9)\n",
      "\n"
     ]
    },
    {
     "data": {
      "text/html": [
       "<html>\\(\\displaystyle \\mathit{FG} = \\mathit{OA} - \\mathit{OF}\\)</html>"
      ],
      "text/latex": [
       "$\\displaystyle \\mathit{FG} = \\mathit{OA} - \\mathit{OF}$"
      ],
      "text/plain": [
       "FG == OA - OF"
      ]
     },
     "metadata": {},
     "output_type": "display_data"
    },
    {
     "name": "stdout",
     "output_type": "stream",
     "text": [
      "\n",
      "GH == BF*FG/OF                                                                  (Equation 10)\n",
      "\n"
     ]
    },
    {
     "data": {
      "text/html": [
       "<html>\\(\\displaystyle \\mathit{GH} = \\frac{\\mathit{BF} \\mathit{FG}}{\\mathit{OF}}\\)</html>"
      ],
      "text/latex": [
       "$\\displaystyle \\mathit{GH} = \\frac{\\mathit{BF} \\mathit{FG}}{\\mathit{OF}}$"
      ],
      "text/plain": [
       "GH == BF*FG/OF"
      ]
     },
     "metadata": {},
     "output_type": "display_data"
    },
    {
     "name": "stdout",
     "output_type": "stream",
     "text": [
      "\n",
      "OE == OA\n",
      "\n",
      "\n",
      "IG == BF + GH\n",
      "\n",
      "\n",
      "IG == BF\n",
      "\n"
     ]
    }
   ],
   "source": [
    "var('IG GH FG OF')\n",
    "# We need to add GH to BF to get the edge.\n",
    "eqA = FG == OA - OF\n",
    "println_eqno(eqA)\n",
    "eqB = GH == (FG / OF) * BF\n",
    "println_eqno(eqB)\n",
    "eqC = OE == OA\n",
    "println(eqC)\n",
    "eqD = IG == BF + GH\n",
    "println(eqD)\n",
    "eqE = IG == BF\n",
    "println(eqE)"
   ]
  },
  {
   "cell_type": "code",
   "execution_count": 20,
   "id": "bca0c21b-4e0e-42d9-9cec-cb71472e3c3d",
   "metadata": {},
   "outputs": [
    {
     "name": "stdout",
     "output_type": "stream",
     "text": [
      "\n",
      "The second determining equation is:\n",
      "\n",
      "\n",
      "OD == sqrt(AD^2 + OA^2)                                                         (Equation 11)\n",
      "\n"
     ]
    },
    {
     "data": {
      "text/html": [
       "<html>\\(\\displaystyle \\mathit{OD} = \\sqrt{\\mathit{AD}^{2} + \\mathit{OA}^{2}}\\)</html>"
      ],
      "text/latex": [
       "$\\displaystyle \\mathit{OD} = \\sqrt{\\mathit{AD}^{2} + \\mathit{OA}^{2}}$"
      ],
      "text/plain": [
       "OD == sqrt(AD^2 + OA^2)"
      ]
     },
     "metadata": {},
     "output_type": "display_data"
    },
    {
     "name": "stdout",
     "output_type": "stream",
     "text": [
      "\n",
      "The second determining equation is:\n",
      "\n",
      "\n",
      "OE == sqrt(BF^2 + OB^2)                                                         (Equation 12)\n",
      "\n"
     ]
    },
    {
     "data": {
      "text/html": [
       "<html>\\(\\displaystyle \\mathit{OE} = \\sqrt{\\mathit{BF}^{2} + \\mathit{OB}^{2}}\\)</html>"
      ],
      "text/latex": [
       "$\\displaystyle \\mathit{OE} = \\sqrt{\\mathit{BF}^{2} + \\mathit{OB}^{2}}$"
      ],
      "text/plain": [
       "OE == sqrt(BF^2 + OB^2)"
      ]
     },
     "metadata": {},
     "output_type": "display_data"
    }
   ],
   "source": [
    "var('OD AD OA')\n",
    "# Solve the equation for OD.\n",
    "eq5 = solve([OD^2 == OA^2 + AD^2 ], OD)\n",
    "println(\"The second determining equation is:\")\n",
    "println_eqno(eq5[1])\n",
    "eq5a = eq5[1]\n",
    "# PDF viewer.\n",
    "#view(eq5, viewer='pdf')\n",
    "println(\"The second determining equation is:\")\n",
    "var('OE')\n",
    "eq5 = solve([OE^2 == OB^2 + BF^2 ], OE)\n",
    "println_eqno(eq5[1])"
   ]
  },
  {
   "cell_type": "code",
   "execution_count": 21,
   "id": "1316ca72-8807-4a0f-b940-57d2056e378e",
   "metadata": {},
   "outputs": [],
   "source": [
    "# After the first iteration Eq. 1 and Eq. 2 are the start values for the\n",
    "# next iteration. Eq. 1 is the new length of the hypothenuse and Eq. 2 is\n",
    "# the new length of the edge. Archimedes did this for (6), 12, 24, 48 and\n",
    "# 96 edges."
   ]
  },
  {
   "cell_type": "code",
   "execution_count": 22,
   "id": "1df8f7d2-9113-4412-98fd-05cbcef9b454",
   "metadata": {},
   "outputs": [
    {
     "data": {
      "text/html": [
       "<font color='orangered'><b><H1>Archimedes, Measurement of a Circle<br>Algorithmus</H1></b></font><br/>"
      ],
      "text/plain": [
       "<font color='orangered'><b><H1>Archimedes, Measurement of a Circle<br>Algorithmus</H1></b></font><br/>"
      ]
     },
     "execution_count": 22,
     "metadata": {},
     "output_type": "execute_result"
    }
   ],
   "source": [
    "html(\"\"\"<font color='orangered'><b><H1>Archimedes, Measurement of a Circle<br>Algorithmus</H1></b></font><br/>\"\"\")"
   ]
  },
  {
   "cell_type": "code",
   "execution_count": 23,
   "id": "b008f1b6-7ca9-47c7-a785-bb90e512c50a",
   "metadata": {},
   "outputs": [],
   "source": [
    "# Delete all user-defined variables, reset all global variables back to their\n",
    "# default states, and reset all interfaces to other computer algebra systems.\n",
    "reset('AC OA OC AD OD')"
   ]
  },
  {
   "cell_type": "code",
   "execution_count": 24,
   "id": "ed82e051-a430-46e5-9c88-086720088442",
   "metadata": {},
   "outputs": [
    {
     "name": "stdout",
     "output_type": "stream",
     "text": [
      "6\n",
      "3.00000000000000\n",
      "12\n",
      "3.10582854123025\n",
      "24\n",
      "3.13262861328124\n",
      "48\n",
      "3.13935020304687\n",
      "96\n",
      "3.14103195089051\n"
     ]
    }
   ],
   "source": [
    "# Inner polygon\n",
    "# -------------\n",
    "\n",
    "# Outer polygon.\n",
    "OA = 1\n",
    "AC = 1/sqrt(3)\n",
    "OC = 2 / 3 * sqrt(3)\n",
    "\n",
    "# Inner polygon\n",
    "OE = 1\n",
    "BE = OE * (AC/OC)\n",
    "OB = sqrt(OE^2 - BE^2)\n",
    "\n",
    "# Number of iterations. 5 means up to a 96-gon.\n",
    "numiter = 5\n",
    "\n",
    "for i in range(0, numiter):\n",
    "    # Calculate number of edges.\n",
    "    n = 6 * 2^i\n",
    "    # Print number of edges.\n",
    "    print(n)\n",
    "    # No iteration on first loop.\n",
    "    if i == 0:\n",
    "        # Print value of Pi.\n",
    "        print(((BE * 2 * n)/2).n())\n",
    "    else:    \n",
    "        # Calculate hypotenuse and length of edge.\n",
    "        BF = BE*OB/(OB + OE) \n",
    "        OF = sqrt(OB^2 + BF^2)\n",
    "        FG = OA - OF\n",
    "        GH = (FG/OF) * BF\n",
    "        EL = BF + GH\n",
    "        # Calculate approximation for pi.\n",
    "        api = ((EL * 2 * n) / 2).n()\n",
    "        # Store values.\n",
    "        BE = BF\n",
    "        OE = OF\n",
    "        # Print value of Pi.\n",
    "        print(api)"
   ]
  }
 ],
 "metadata": {
  "kernelspec": {
   "display_name": "SageMath 10.1",
   "language": "sage",
   "name": "sagemath"
  },
  "language_info": {
   "codemirror_mode": {
    "name": "ipython",
    "version": 3
   },
   "file_extension": ".py",
   "mimetype": "text/x-python",
   "name": "python",
   "nbconvert_exporter": "python",
   "pygments_lexer": "ipython3",
   "version": "3.8.10"
  }
 },
 "nbformat": 4,
 "nbformat_minor": 5
}
