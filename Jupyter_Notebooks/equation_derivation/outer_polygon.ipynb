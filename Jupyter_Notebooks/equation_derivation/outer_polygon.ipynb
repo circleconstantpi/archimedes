{
 "cells": [
  {
   "cell_type": "code",
   "execution_count": 1,
   "id": "c98c023c-df9f-4737-aa80-5dfe1adbafc1",
   "metadata": {},
   "outputs": [],
   "source": [
    "# ##################################################################################\n",
    "# Archimedes, Measurement of a circle\n",
    "# ----------------------------------------------------------------------------------\n",
    "#\n",
    "# Development of the Archimedes equations for the outer polygon.\n",
    "# Version 0.3\n",
    "# \n",
    "# developed, written and tested in 2023 by Dr. Peter Netz\n",
    "#\n",
    "# Published under the MIT-Licence.\n",
    "# Copyright (c) 2023, Dr. Peter Netz\n",
    "#\n",
    "# I would be pleased to be mentioned if this work is useful and used for further\n",
    "# studies.\n",
    "#\n",
    "# This is the complete theory of the circumscribed polygon for calculating pi \n",
    "# based on the theory of Archimedes (plus algorithms).\n",
    "#\n",
    "# Archimedes, Measurement of a circle, Proposition 3 Part I contains the \n",
    "# solution for the calculation of an approximation of pi via circumscribed outer \n",
    "# polygons. The derivation carried out by hand is checked below with SageMath \n",
    "# using a symbolic calculation. The derivation can be checked using an iterative \n",
    "# algorithm. \n",
    "#\n",
    "# The geometric relationships for the inscribed polygon are more difficult to \n",
    "# grasp than for the circumscribed polygon. Knowledge of the ray theorem, Thales'\n",
    "# theorem, Pythagoras' theorem and Euclid's theorems is necessary to understand\n",
    "# the derivation. \n",
    "#\n",
    "# The following derivations are almost completely automated, so that errors can be \n",
    "# avoided. Some terms had to be used and edited by copy and paste in order to use \n",
    "# them specifically.\n",
    "# \n",
    "# Open issues are:\n",
    "# How can an expression be extracted from a square root in symbolic calculus.\n",
    "#\n",
    "# To-Do: \n",
    "# Carry out further calculations. Improvement of the documentation. Optimisation \n",
    "# and improvement of the derivations. Check the influence of square roots on the\n",
    "# calculations  \n",
    "# \n",
    "# ----------------------------------------------------------------------------------\n",
    "# References\n",
    "#\n",
    "# [1] T. L. HEATH, Sc.D., The Works of Archimedes, EDITED IN MODERN NOTATION, \n",
    "# WITH INTRODUCTORY CHAPTERS, CAMBRIDGE: AT THE UNIVERSITY PRESS, 1897\n",
    "# [2] Dr. Saskia Roos, Michael Jung, An Introductory Course on Sage, Lecture\n",
    "# Notes Summer Term 2020, University of Potsdam, Sep 30, 2020\n",
    "# [3] SageMath, The Sage Development Team, Symbolic Calculus, Release 10.1, \n",
    "# Aug 21, 2023\n",
    "# [4] SageMath, the Sage Mathematics Software System (Version 10.1), The Sage\n",
    "# Developers, https://www.sagemath.org, 2019\n",
    "# [5] mathworld.wolfram.com/ArchimedesAlgorithm.html\n",
    "# ##################################################################################"
   ]
  },
  {
   "cell_type": "code",
   "execution_count": 2,
   "id": "44a487b3-4786-4465-8877-2a024f905b4a",
   "metadata": {},
   "outputs": [
    {
     "data": {
      "text/html": [
       "<font color='purple'><b><H1>User defined functions</H1></b></font><br/>"
      ],
      "text/plain": [
       "<font color='purple'><b><H1>User defined functions</H1></b></font><br/>"
      ]
     },
     "execution_count": 2,
     "metadata": {},
     "output_type": "execute_result"
    }
   ],
   "source": [
    "html(\"\"\"<font color='purple'><b><H1>User defined functions</H1></b></font><br/>\"\"\")"
   ]
  },
  {
   "cell_type": "code",
   "execution_count": 3,
   "id": "22dada08-cae9-4c5b-bc55-32eee641ebae",
   "metadata": {},
   "outputs": [],
   "source": [
    "# User defined function println for printing lines.\n",
    "def println(exp):\n",
    "    '''Function for printing lines with line spacing in form of newlines before\n",
    "    and after the line. We have to take care that an SageMath expressions is \n",
    "    converted to a string before printing.'''\n",
    "    # Convert the type of line to a string.\n",
    "    line = str(exp)\n",
    "    # Print text, a line or a string to the notebook.\n",
    "    print(\"\\n{0}\\n\".format(line))\n",
    "    # End of func"
   ]
  },
  {
   "cell_type": "code",
   "execution_count": 4,
   "id": "77f2947b-5cda-4815-af9f-dee7ab209d95",
   "metadata": {},
   "outputs": [],
   "source": [
    "# Initialise the global variables.\n",
    "EqNo = 0\n",
    "LnLen = 80\n",
    "# LnLen = -1 <- Disabled global LnLen\n",
    "\n",
    "# User defined function println_eqno for printing equations.\n",
    "def println_eqno(exp, lnlen=80):\n",
    "    '''Function for printing lines with line spacing in form of newlines before\n",
    "    and after the line.'''\n",
    "    global EqNo, LnLen\n",
    "    if LnLen != -1:\n",
    "        lnlen = LnLen\n",
    "    # Convert the type of line to a string.\n",
    "    line = str(exp)\n",
    "    # Calculate the necessary number of spaces. \n",
    "    spclen = lnlen - len(line)\n",
    "    # Create the string with the spaces.\n",
    "    space = \"\".join(u'\\u0020' for i in range(spclen))\n",
    "    # Print text, a line or a string to the notebook.\n",
    "    EqNo += 1\n",
    "    print(\"\\n{0}{1}(Equation {2})\\n\".format(line, space, EqNo))\n",
    "    exp.show()\n",
    "    # End of function. Return None.\n",
    "    return None"
   ]
  },
  {
   "cell_type": "code",
   "execution_count": 5,
   "id": "36713892-2077-405e-9a63-6f70afc6e5f1",
   "metadata": {},
   "outputs": [],
   "source": [
    "def plot_figure(imgfn, xsize=8, ysize=8):\n",
    "    '''Use matlibplot to show an image.'''\n",
    "    # Import the matplotlib modules by name.\n",
    "    import matplotlib.pyplot as plt\n",
    "    import matplotlib.image as img\n",
    "    import matplotlib.image as figure\n",
    "    # Read the PNG graphic file.\n",
    "    img = img.imread(imgfn) \n",
    "    # Do not show axes and frame.\n",
    "    plt.axis('off')\n",
    "    # Scale the image on the notebook.\n",
    "    # plt.rcdefaults() resets the image size.\n",
    "    plt.rcParams['figure.figsize'] = [xsize, ysize]\n",
    "    # Change the paramter for a larger or a smaller graphic.   \n",
    "    # plt.title('Title of the graphic') adds a title to the image.\n",
    "    plt.imshow(img)\n",
    "    plt.show()\n",
    "    # End of function. Return None.\n",
    "    return None"
   ]
  },
  {
   "cell_type": "code",
   "execution_count": 6,
   "id": "437466bc-dd01-4dd0-b4f4-a85d076b6f85",
   "metadata": {},
   "outputs": [],
   "source": [
    "# User defined function fractional number.\n",
    "def fractional_number(decnum, maxexp, ROUND=True):\n",
    "    '''Generator for calculating a fractional number from a given decimal \n",
    "    number. The generator can run infinite. Rounding to the correct value\n",
    "    is done by the Python function round().'''\n",
    "    # Initialise the counter for the exponent to base 10.\n",
    "    exp = 0\n",
    "    # Initialise numerator and denominator.\n",
    "    nr = ''\n",
    "    dr = ''\n",
    "    # Initialise the potential value.\n",
    "    potval = 0\n",
    "    if ROUND is True:\n",
    "        decnum = str(round(decnum, maxexp))\n",
    "    # Run an infinite loop.\n",
    "    while exp <= maxexp:\n",
    "        decnum = float(decnum)\n",
    "        # Cut off the decimal places.\n",
    "        bd = str(decnum).split('.')[0]\n",
    "        ad = str(decnum).split('.')[1]\n",
    "        decpls = float(\"0.\" + ad)\n",
    "        # Cut off the number before the decimal point.\n",
    "        decnum = int(decnum)\n",
    "        # Join the integer numbers.\n",
    "        dr = dr + str(decnum)\n",
    "        # Calculate the denominator.\n",
    "        potval = 10^exp\n",
    "        # Get the denominator number.\n",
    "        nr = str(potval)\n",
    "        # Multiply the decimal places with 10.\n",
    "        decpls *= 10\n",
    "        # Store the new decimal number.\n",
    "        decnum = decpls\n",
    "        # Increment the exponential counter.\n",
    "        exp += 1\n",
    "        # Return the numerator and the denominator.\n",
    "    return nr, dr"
   ]
  },
  {
   "cell_type": "code",
   "execution_count": 7,
   "id": "212d4490-1a52-4223-bed5-6aed4acf03e4",
   "metadata": {},
   "outputs": [
    {
     "data": {
      "text/html": [
       "<font color='blue'><b><H1>Archimedes, Measurement of a Circle<br>Construction of Figure 3</H1></b></font><br/>"
      ],
      "text/plain": [
       "<font color='blue'><b><H1>Archimedes, Measurement of a Circle<br>Construction of Figure 3</H1></b></font><br/>"
      ]
     },
     "execution_count": 7,
     "metadata": {},
     "output_type": "execute_result"
    }
   ],
   "source": [
    "html(\"\"\"<font color='blue'><b><H1>Archimedes, Measurement of a Circle<br>Construction of Figure 3</H1></b></font><br/>\"\"\")"
   ]
  },
  {
   "cell_type": "code",
   "execution_count": 8,
   "id": "f5990c1b-0986-4105-ac0e-30a58d29c6cb",
   "metadata": {},
   "outputs": [
    {
     "data": {
      "image/png": "[encoded data removed]",
      "text/plain": [
       "<Figure size 640x480 with 1 Axes>"
      ]
     },
     "metadata": {},
     "output_type": "display_data"
    }
   ],
   "source": [
    "plot_figure(\"archimedes_figure3.png\")"
   ]
  },
  {
   "cell_type": "code",
   "execution_count": 9,
   "id": "cf889a32-455a-4a1d-8a9a-0214e40d0749",
   "metadata": {},
   "outputs": [
    {
     "data": {
      "text/html": [
       "<font color='blue'><b><H1>Archimedes, Measurement of a Circle<br>\n",
       "Derivation of the iterative determination equations</H1></b></font><br/>"
      ],
      "text/plain": [
       "<font color='blue'><b><H1>Archimedes, Measurement of a Circle<br>\n",
       "Derivation of the iterative determination equations</H1></b></font><br/>"
      ]
     },
     "execution_count": 9,
     "metadata": {},
     "output_type": "execute_result"
    }
   ],
   "source": [
    "html(\"\"\"<font color='blue'><b><H1>Archimedes, Measurement of a Circle<br>\n",
    "Derivation of the iterative determination equations</H1></b></font><br/>\"\"\")"
   ]
  },
  {
   "cell_type": "code",
   "execution_count": 10,
   "id": "cbcb445c-3e0b-44e6-9935-0f1150a530c0",
   "metadata": {},
   "outputs": [
    {
     "name": "stdout",
     "output_type": "stream",
     "text": [
      "\n",
      "The straight line AC can be divided in point D:\n",
      "\n",
      "\n",
      "AC == AD + CD\n",
      "\n"
     ]
    }
   ],
   "source": [
    "# Introduce a simple relation from the given figure.\n",
    "var('AD AC CD')\n",
    "eq0 = AC == CD + AD\n",
    "println(\"The straight line AC can be divided in point D:\")\n",
    "println(eq0)"
   ]
  },
  {
   "cell_type": "code",
   "execution_count": 11,
   "id": "fede0c25-7946-4afb-8d1f-16025b13364b",
   "metadata": {},
   "outputs": [
    {
     "name": "stdout",
     "output_type": "stream",
     "text": [
      "\n",
      "Applying Euclid Book VI Proposition 3 results in:\n",
      "\n",
      "\n",
      "OC/OA == CD/AD                                                                  (Equation 1)\n",
      "\n"
     ]
    },
    {
     "data": {
      "text/html": [
       "<html>\\(\\displaystyle \\frac{\\mathit{OC}}{\\mathit{OA}} = \\frac{\\mathit{CD}}{\\mathit{AD}}\\)</html>"
      ],
      "text/latex": [
       "$\\displaystyle \\frac{\\mathit{OC}}{\\mathit{OA}} = \\frac{\\mathit{CD}}{\\mathit{AD}}$"
      ],
      "text/plain": [
       "OC/OA == CD/AD"
      ]
     },
     "metadata": {},
     "output_type": "display_data"
    }
   ],
   "source": [
    "# Apply Euclid Book VI Proposition 3.\n",
    "var('OC OA CD AD')\n",
    "println(\"Applying Euclid Book VI Proposition 3 results in:\")\n",
    "eq1 = OC / OA == CD / AD\n",
    "println_eqno(eq1)"
   ]
  },
  {
   "cell_type": "code",
   "execution_count": 12,
   "id": "2ed052f2-f4e3-415b-b5dd-8fe8673cba8a",
   "metadata": {},
   "outputs": [
    {
     "name": "stdout",
     "output_type": "stream",
     "text": [
      "\n",
      "The equation is transformed according to AD:\n",
      "\n",
      "\n",
      "AD == CD*OA/OC                                                                  (Equation 2)\n",
      "\n"
     ]
    },
    {
     "data": {
      "text/html": [
       "<html>\\(\\displaystyle \\mathit{AD} = \\frac{\\mathit{CD} \\mathit{OA}}{\\mathit{OC}}\\)</html>"
      ],
      "text/latex": [
       "$\\displaystyle \\mathit{AD} = \\frac{\\mathit{CD} \\mathit{OA}}{\\mathit{OC}}$"
      ],
      "text/plain": [
       "AD == CD*OA/OC"
      ]
     },
     "metadata": {},
     "output_type": "display_data"
    }
   ],
   "source": [
    "# Solve the equation for DA.\n",
    "eq2 = solve(eq1, AD)\n",
    "println(\"The equation is transformed according to AD:\")\n",
    "println_eqno(eq2[0])"
   ]
  },
  {
   "cell_type": "code",
   "execution_count": 37,
   "id": "705ba295-1961-48c9-b917-fdad9ce58c6e",
   "metadata": {},
   "outputs": [
    {
     "name": "stdout",
     "output_type": "stream",
     "text": [
      "\n",
      "The equation AC = CD + AD is transformed according to CD:\n",
      "\n",
      "\n",
      "CD == AC - AD                                                                   (Equation 9)\n",
      "\n"
     ]
    },
    {
     "data": {
      "text/html": [
       "<html>\\(\\displaystyle \\mathit{CD} = \\mathit{AC} - \\mathit{AD}\\)</html>"
      ],
      "text/latex": [
       "$\\displaystyle \\mathit{CD} = \\mathit{AC} - \\mathit{AD}$"
      ],
      "text/plain": [
       "CD == AC - AD"
      ]
     },
     "metadata": {},
     "output_type": "display_data"
    }
   ],
   "source": [
    "var('AC')\n",
    "# Solve the equation for DA.\n",
    "println(\"The equation AC = CD + AD is transformed according to CD:\")\n",
    "eq3 = solve(eq0, CD)\n",
    "println_eqno(eq3[0])"
   ]
  },
  {
   "cell_type": "code",
   "execution_count": 14,
   "id": "80db90a0-1e5e-401b-a02c-f49f38801a5f",
   "metadata": {},
   "outputs": [
    {
     "name": "stdout",
     "output_type": "stream",
     "text": [
      "\n",
      "We are using:\n",
      "\n",
      "\n",
      "CD == AC - AD                                                                   (Equation 4)\n",
      "\n"
     ]
    },
    {
     "data": {
      "text/html": [
       "<html>\\(\\displaystyle \\mathit{CD} = \\mathit{AC} - \\mathit{AD}\\)</html>"
      ],
      "text/latex": [
       "$\\displaystyle \\mathit{CD} = \\mathit{AC} - \\mathit{AD}$"
      ],
      "text/plain": [
       "CD == AC - AD"
      ]
     },
     "metadata": {},
     "output_type": "display_data"
    },
    {
     "name": "stdout",
     "output_type": "stream",
     "text": [
      "\n",
      "And we are using:\n",
      "\n",
      "\n",
      "AD == CD*OA/OC                                                                  (Equation 5)\n",
      "\n"
     ]
    },
    {
     "data": {
      "text/html": [
       "<html>\\(\\displaystyle \\mathit{AD} = \\frac{\\mathit{CD} \\mathit{OA}}{\\mathit{OC}}\\)</html>"
      ],
      "text/latex": [
       "$\\displaystyle \\mathit{AD} = \\frac{\\mathit{CD} \\mathit{OA}}{\\mathit{OC}}$"
      ],
      "text/plain": [
       "AD == CD*OA/OC"
      ]
     },
     "metadata": {},
     "output_type": "display_data"
    },
    {
     "name": "stdout",
     "output_type": "stream",
     "text": [
      "\n",
      "Finally the relation AC = CD + AD is used in relation AD = CD*OA/OC:\n",
      "\n",
      "\n",
      "AD == (AC - AD)*OA/OC                                                           (Equation 6)\n",
      "\n"
     ]
    },
    {
     "data": {
      "text/html": [
       "<html>\\(\\displaystyle \\mathit{AD} = \\frac{{\\left(\\mathit{AC} - \\mathit{AD}\\right)} \\mathit{OA}}{\\mathit{OC}}\\)</html>"
      ],
      "text/latex": [
       "$\\displaystyle \\mathit{AD} = \\frac{{\\left(\\mathit{AC} - \\mathit{AD}\\right)} \\mathit{OA}}{\\mathit{OC}}$"
      ],
      "text/plain": [
       "AD == (AC - AD)*OA/OC"
      ]
     },
     "metadata": {},
     "output_type": "display_data"
    }
   ],
   "source": [
    "eq3a = CD == AC - AD \n",
    "eq3b = AD == CD*OA/OC\n",
    "eq3c = eq3b.substitute(CD=AC-AD )\n",
    "println(\"We are using:\")\n",
    "println_eqno(eq3a)\n",
    "println(\"And we are using:\")\n",
    "println_eqno(eq3b)\n",
    "println(\"Finally the relation AC = CD + AD is used in relation AD = CD*OA/OC:\")\n",
    "println_eqno(eq3c)"
   ]
  },
  {
   "cell_type": "code",
   "execution_count": 15,
   "id": "f687ed97-658a-42f0-bcd0-96fd542d97b5",
   "metadata": {},
   "outputs": [
    {
     "data": {
      "text/html": [
       "<font color='green'><b><H1>Archimedes, Measurement of a Circle<br>Determination equations</H1></b></font><br/>"
      ],
      "text/plain": [
       "<font color='green'><b><H1>Archimedes, Measurement of a Circle<br>Determination equations</H1></b></font><br/>"
      ]
     },
     "execution_count": 15,
     "metadata": {},
     "output_type": "execute_result"
    }
   ],
   "source": [
    "html(\"\"\"<font color='green'><b><H1>Archimedes, Measurement of a Circle<br>Determination equations</H1></b></font><br/>\"\"\")"
   ]
  },
  {
   "cell_type": "code",
   "execution_count": 16,
   "id": "47de7e22-657b-4092-bc00-7499991facf5",
   "metadata": {},
   "outputs": [
    {
     "name": "stdout",
     "output_type": "stream",
     "text": [
      "\n",
      "The first determining equation is:\n",
      "\n",
      "\n",
      "AD == AC*OA/(OA + OC)                                                           (Equation 7)\n",
      "\n"
     ]
    },
    {
     "data": {
      "text/html": [
       "<html>\\(\\displaystyle \\mathit{AD} = \\frac{\\mathit{AC} \\mathit{OA}}{\\mathit{OA} + \\mathit{OC}}\\)</html>"
      ],
      "text/latex": [
       "$\\displaystyle \\mathit{AD} = \\frac{\\mathit{AC} \\mathit{OA}}{\\mathit{OA} + \\mathit{OC}}$"
      ],
      "text/plain": [
       "AD == AC*OA/(OA + OC)"
      ]
     },
     "metadata": {},
     "output_type": "display_data"
    }
   ],
   "source": [
    "var('AC AD OA OC')\n",
    "eq4 = solve(AD == eq3c.rhs(), AD)\n",
    "println(\"The first determining equation is:\")\n",
    "println_eqno(eq4[0])\n",
    "eq4a = eq4[0]\n",
    "# PDF viewer.\n",
    "#view(eq5, viewer='pdf')"
   ]
  },
  {
   "cell_type": "code",
   "execution_count": 17,
   "id": "bca0c21b-4e0e-42d9-9cec-cb71472e3c3d",
   "metadata": {},
   "outputs": [
    {
     "name": "stdout",
     "output_type": "stream",
     "text": [
      "\n",
      "The second determining equation is:\n",
      "\n",
      "\n",
      "OD == sqrt(AD^2 + OA^2)                                                         (Equation 8)\n",
      "\n"
     ]
    },
    {
     "data": {
      "text/html": [
       "<html>\\(\\displaystyle \\mathit{OD} = \\sqrt{\\mathit{AD}^{2} + \\mathit{OA}^{2}}\\)</html>"
      ],
      "text/latex": [
       "$\\displaystyle \\mathit{OD} = \\sqrt{\\mathit{AD}^{2} + \\mathit{OA}^{2}}$"
      ],
      "text/plain": [
       "OD == sqrt(AD^2 + OA^2)"
      ]
     },
     "metadata": {},
     "output_type": "display_data"
    }
   ],
   "source": [
    "var('OD AD OA')\n",
    "# Solve the equation for OD.\n",
    "eq5 = solve([OD^2 == OA^2 + AD^2 ], OD)\n",
    "println(\"The second determining equation is:\")\n",
    "println_eqno(eq5[1])\n",
    "eq5a = eq5[1]\n",
    "# PDF viewer.\n",
    "#view(eq5, viewer='pdf')"
   ]
  },
  {
   "cell_type": "code",
   "execution_count": 18,
   "id": "1316ca72-8807-4a0f-b940-57d2056e378e",
   "metadata": {},
   "outputs": [],
   "source": [
    "# After the first iteration Eq. 1 and Eq. 2 are the start values for the\n",
    "# next iteration. Eq. 1 is the new length of the hypothenuse and Eq. 2 is\n",
    "# the new length of the edge. Archimedes did this for (6), 12, 24, 48 and\n",
    "# 96 edges."
   ]
  },
  {
   "cell_type": "code",
   "execution_count": 19,
   "id": "1df8f7d2-9113-4412-98fd-05cbcef9b454",
   "metadata": {},
   "outputs": [
    {
     "data": {
      "text/html": [
       "<font color='orangered'><b><H1>Archimedes, Measurement of a Circle<br>Algorithmus</H1></b></font><br/>"
      ],
      "text/plain": [
       "<font color='orangered'><b><H1>Archimedes, Measurement of a Circle<br>Algorithmus</H1></b></font><br/>"
      ]
     },
     "execution_count": 19,
     "metadata": {},
     "output_type": "execute_result"
    }
   ],
   "source": [
    "html(\"\"\"<font color='orangered'><b><H1>Archimedes, Measurement of a Circle<br>Algorithmus</H1></b></font><br/>\"\"\")"
   ]
  },
  {
   "cell_type": "code",
   "execution_count": 38,
   "id": "9273cbe2-5c74-4d4a-8930-f62d53f4f841",
   "metadata": {},
   "outputs": [
    {
     "name": "stdout",
     "output_type": "stream",
     "text": [
      "6\n",
      "3.46410161513775\n",
      "12\n",
      "3.21539030917347\n",
      "24\n",
      "3.15965994209750\n",
      "48\n",
      "3.14608621513144\n",
      "96\n",
      "3.14271459964537\n"
     ]
    }
   ],
   "source": [
    "# We are using eq4a and eq5a for testing purposes, directly.\n",
    "\n",
    "# Outer polygon\n",
    "# -------------\n",
    "\n",
    "R = RealField(53); R\n",
    "# Start values 6-gon (hexagon) for the unit circle.\n",
    "#oldAC = 1/sqrt(3)\n",
    "#oldOA = SR(1)\n",
    "#oldOC = 2 / 3 * sqrt(3)\n",
    "# Start values 6-gon (hexagon) for an arbitray circle.\n",
    "oldOA = SR(1)\n",
    "oldAC = oldOA * (1/sqrt(3))\n",
    "oldOC = sqrt(oldOA^2 + oldAC^2)\n",
    "\n",
    "# Number of iterations. 5 means up to a 96-gon.\n",
    "numiter = 5\n",
    "\n",
    "for i in range(0, numiter):\n",
    "    # Calculate number of edges.\n",
    "    n = 6 * 2^i\n",
    "    # Print number of edges.\n",
    "    print(n)\n",
    "    # No iteration on first loop.\n",
    "    if i == 0:\n",
    "        # Print value of Pi.\n",
    "        api = R(oldAC * 2 * n)/(2 * oldOA)\n",
    "    else:    \n",
    "        # Calculate hypotenuse and length of edge.\n",
    "        #AD = AC*OA/(OA + OC)\n",
    "        AD = eq4a.rhs()\n",
    "        newAD = AD.substitute(AC=oldAC, OA=oldOA, OC=oldOC)\n",
    "        #OD = sqrt(OA^2 + AD^2)\n",
    "        OD = eq5a.rhs()\n",
    "        newOD = OD.substitute(OA=oldOA, AD=newAD)\n",
    "        # Calculate approximation for pi.\n",
    "        api = R((newAD * 2 * n) / (2 * oldOA))\n",
    "        # Store values.\n",
    "        oldAC = newAD\n",
    "        oldOC = newOD\n",
    "    # Print value of Pi.\n",
    "    print(api)"
   ]
  },
  {
   "cell_type": "code",
   "execution_count": 21,
   "id": "b008f1b6-7ca9-47c7-a785-bb90e512c50a",
   "metadata": {},
   "outputs": [],
   "source": [
    "# Delete all user-defined variables, reset all global variables back to their\n",
    "# default states, and reset all interfaces to other computer algebra systems.\n",
    "reset('AC OA OC AD OD')"
   ]
  },
  {
   "cell_type": "code",
   "execution_count": 22,
   "id": "ed82e051-a430-46e5-9c88-086720088442",
   "metadata": {},
   "outputs": [
    {
     "name": "stdout",
     "output_type": "stream",
     "text": [
      "6\n",
      "3.46410161513775\n",
      "12\n",
      "3.21539030917347\n",
      "24\n",
      "3.15965994209750\n",
      "48\n",
      "3.14608621513144\n",
      "96\n",
      "3.14271459964537\n"
     ]
    }
   ],
   "source": [
    "# Outer polygon\n",
    "# -------------\n",
    "\n",
    "# Start values 6-gon (hexagon)\n",
    "AC = 1/sqrt(3)\n",
    "OA = 1\n",
    "OC = 2 / 3 * sqrt(3)\n",
    "\n",
    "# Number of iterations. 5 means up to a 96-gon.\n",
    "numiter = 5\n",
    "\n",
    "for i in range(0, numiter):\n",
    "    # Calculate number of edges.\n",
    "    n = 6 * 2^i\n",
    "    # Print number of edges.\n",
    "    print(n)\n",
    "    # No iteration on first loop.\n",
    "    if i == 0:\n",
    "        # Print value of Pi.\n",
    "        print(((AC * 2 * n)/2).n())\n",
    "    else:    \n",
    "        # Calculate hypotenuse and length of edge.\n",
    "        #AD = AC / (OC + 1)\n",
    "        AD = AC*OA/(OA + OC)\n",
    "        OD = sqrt(OA^2 + AD^2)\n",
    "        # Calculate approximation for pi.\n",
    "        api = ((AD * 2 * n) / 2).n()\n",
    "        # Store values.\n",
    "        AC = AD\n",
    "        OC = OD\n",
    "        # Print value of Pi.\n",
    "        print(api)"
   ]
  },
  {
   "cell_type": "code",
   "execution_count": 23,
   "id": "224b2b0f-ff78-4f5a-a5d6-d442df12c083",
   "metadata": {},
   "outputs": [
    {
     "data": {
      "text/html": [
       "<font color='orangered'><b><H1>Archimedes, Measurement of a Circle<br>Upper bound inequalities</H1></b></font><br/>"
      ],
      "text/plain": [
       "<font color='orangered'><b><H1>Archimedes, Measurement of a Circle<br>Upper bound inequalities</H1></b></font><br/>"
      ]
     },
     "execution_count": 23,
     "metadata": {},
     "output_type": "execute_result"
    }
   ],
   "source": [
    "html(\"\"\"<font color='orangered'><b><H1>Archimedes, Measurement of a Circle<br>Upper bound inequalities</H1></b></font><br/>\"\"\")"
   ]
  },
  {
   "cell_type": "code",
   "execution_count": 24,
   "id": "a6eb6d0f-3105-4888-a00c-14b675b5f4a5",
   "metadata": {},
   "outputs": [],
   "source": [
    "# Calculation of Archimedes approximation from his inequalities.\n",
    "# Upper Bound."
   ]
  },
  {
   "cell_type": "code",
   "execution_count": 25,
   "id": "ce8c110a-ce49-4ac3-94c8-b7074c69fb6d",
   "metadata": {},
   "outputs": [
    {
     "name": "stdout",
     "output_type": "stream",
     "text": [
      "0  ->   6   ->   3.46410161513775\n",
      "1  ->   12  ->   3.10594205963206\n",
      "2  ->   24  ->   3.13277167537592\n",
      "3  ->   48  ->   3.13946777813402\n",
      "4  ->   96  ->   3.14282657537178\n"
     ]
    }
   ],
   "source": [
    "# Values are taken from Archimedes, Measurement of a circle.\n",
    "EQ = ['6*1/sqrt(3).n()',\n",
    "      '(12*153)/(591+1/8)',\n",
    "      '(24*153)/(1172+1/8)',\n",
    "      '(48*153)/(2339+1/4)',\n",
    "      '(96*153)/(4673+1/2)']\n",
    "\n",
    "i = 0\n",
    "for eq in EQ:\n",
    "    sep = u\"\\u0020->\\u0020\"\n",
    "    n = 6 * 2^i\n",
    "    i += 1\n",
    "    api = eval(eq)\n",
    "    print(\"{0:<2d}{3:<6s}{1:<3d}{3:<6s}{2:>.14f}\".format(i-1, n, api, sep))"
   ]
  },
  {
   "cell_type": "code",
   "execution_count": 26,
   "id": "7e8ac0df-d8ed-4210-9533-5b074012eba3",
   "metadata": {},
   "outputs": [
    {
     "name": "stdout",
     "output_type": "stream",
     "text": [
      "\n",
      "Archimedes lower bound inequality:\n",
      "\n"
     ]
    },
    {
     "data": {
      "text/html": [
       "<html>\\(\\displaystyle \\left(\\frac{29376}{9347}\\right) > \\left(\\frac{22}{7}\\right)\\)</html>"
      ],
      "text/latex": [
       "$\\displaystyle \\left(\\frac{29376}{9347}\\right) > \\left(\\frac{22}{7}\\right)$"
      ],
      "text/plain": [
       "(29376/9347) > (22/7)"
      ]
     },
     "metadata": {},
     "output_type": "display_data"
    },
    {
     "data": {
      "text/plain": [
       "29376       \n",
       "───── > 22/7\n",
       " 4673       "
      ]
     },
     "execution_count": 26,
     "metadata": {},
     "output_type": "execute_result"
    }
   ],
   "source": [
    "# Archimedes lower bound inequality based on the 96-gon.\n",
    "a = SR(14688)\n",
    "b = SR(4673)\n",
    "cn = SR(1)\n",
    "cd = SR(2)\n",
    "print(\"\\nArchimedes lower bound inequality:\\n\")\n",
    "show((a/(b + (cn/cd)) > 3+1/7))\n",
    "#show(\"Numerator:\", 96, \"*\", 153)\n",
    "#show(\"Denominator:\", b, cn/cd)\n",
    "unicode_art((a/(b*(cn/cd))) > 3+1/7)\n",
    "#print(\"\\n\" + str((a/(b+cn/cd)).n()), \">\", (3+(10/71)).n())"
   ]
  },
  {
   "cell_type": "code",
   "execution_count": 27,
   "id": "814f3704-af14-4421-b328-c529cdb1ef65",
   "metadata": {},
   "outputs": [
    {
     "data": {
      "text/html": [
       "<font color='orangered'><b><H1>Archimedes, Measurement of a Circle<br>Determine lower bound π < 3 <sup>1</sup>&frasl;<sub>7</sub></H1></b></font><br/>"
      ],
      "text/plain": [
       "<font color='orangered'><b><H1>Archimedes, Measurement of a Circle<br>Determine lower bound π < 3 <sup>1</sup>&frasl;<sub>7</sub></H1></b></font><br/>"
      ]
     },
     "execution_count": 27,
     "metadata": {},
     "output_type": "execute_result"
    }
   ],
   "source": [
    "html(\"\"\"<font color='orangered'><b><H1>Archimedes, Measurement of a Circle<br>Determine lower bound π < 3 <sup>1</sup>&frasl;<sub>7</sub></H1></b></font><br/>\"\"\")"
   ]
  },
  {
   "cell_type": "code",
   "execution_count": 28,
   "id": "c6e82d6e-218c-4927-b9a0-5e0284246879",
   "metadata": {},
   "outputs": [
    {
     "data": {
      "text/html": [
       "<html>\\(\\displaystyle \\frac{1335}{9347}\\)</html>"
      ],
      "text/latex": [
       "$\\displaystyle \\frac{1335}{9347}$"
      ],
      "text/plain": [
       "1335/9347"
      ]
     },
     "metadata": {},
     "output_type": "display_data"
    },
    {
     "data": {
      "text/plain": [
       "1335\n",
       "────\n",
       "9347"
      ]
     },
     "execution_count": 28,
     "metadata": {},
     "output_type": "execute_result"
    }
   ],
   "source": [
    "# Substracting 3 from the upper bound fraction.\n",
    "res0 = SR((14688/(4673+1/2)) - 3)\n",
    "res0.show()\n",
    "unicode_art(res0)"
   ]
  },
  {
   "cell_type": "code",
   "execution_count": 29,
   "id": "64fb6d19-f878-4484-ab1e-6317426aa36a",
   "metadata": {},
   "outputs": [
    {
     "data": {
      "text/plain": [
       "3 * 5 * 89"
      ]
     },
     "execution_count": 29,
     "metadata": {},
     "output_type": "execute_result"
    }
   ],
   "source": [
    "res1 = ZZ(res0.numerator()).factor()\n",
    "res1"
   ]
  },
  {
   "cell_type": "code",
   "execution_count": 30,
   "id": "c606eb2c-85d9-4b54-9117-87ace3e434fe",
   "metadata": {},
   "outputs": [
    {
     "name": "stdout",
     "output_type": "stream",
     "text": [
      "1\n",
      "1335\n"
     ]
    }
   ],
   "source": [
    "nr = ZZ(res0.numerator())\n",
    "fac = 1\n",
    "for i in res1:\n",
    "    fac *= i[0]\n",
    "    res2 = nr / i[0]\n",
    "    nr = res2\n",
    "print(res2)    \n",
    "print(fac)"
   ]
  },
  {
   "cell_type": "code",
   "execution_count": 31,
   "id": "5fa44890-ca2a-47f8-88fa-a858c50c7399",
   "metadata": {},
   "outputs": [
    {
     "name": "stdout",
     "output_type": "stream",
     "text": [
      "9347\n",
      "1335\n"
     ]
    }
   ],
   "source": [
    "res2 = res0.denominator()\n",
    "print(res2)\n",
    "print(fac)"
   ]
  },
  {
   "cell_type": "code",
   "execution_count": 32,
   "id": "3a588545-1c05-4af4-b4a3-e8a03d323a42",
   "metadata": {},
   "outputs": [
    {
     "data": {
      "text/plain": [
       "7.00149812734082"
      ]
     },
     "execution_count": 32,
     "metadata": {},
     "output_type": "execute_result"
    }
   ],
   "source": [
    "res3 = (ZZ(res2) / ZZ(fac))\n",
    "res3.n()"
   ]
  },
  {
   "cell_type": "code",
   "execution_count": 33,
   "id": "8f874423-0291-4a4d-a66d-d20bcbb590e2",
   "metadata": {},
   "outputs": [
    {
     "name": "stdout",
     "output_type": "stream",
     "text": [
      "1\n",
      "7\n"
     ]
    }
   ],
   "source": [
    "print(1 * nr)\n",
    "print(round(1 * res3.n(), 0))"
   ]
  },
  {
   "cell_type": "code",
   "execution_count": 34,
   "id": "4930b41b-1b8a-4c5c-a7fb-a6382a5ebbc7",
   "metadata": {},
   "outputs": [
    {
     "name": "stdout",
     "output_type": "stream",
     "text": [
      "Step: 0 -> 1  /  7\n",
      "Step: 1 -> 10  /  70\n",
      "Step: 2 -> 100  /  700\n",
      "Step: 3 -> 1000  /  7001\n"
     ]
    }
   ],
   "source": [
    "# Alternative solution.\n",
    "def fractional_number_generator(decnum):\n",
    "    '''Generator for calculating a fractional number from a given decimal \n",
    "    number. The generator can run infinite.'''\n",
    "    # Initialise the counter for the exponent to base 10.\n",
    "    exp = 0\n",
    "    # Initialise numerator and denominator.\n",
    "    nr = 0\n",
    "    dr = ''\n",
    "    # Run an infinite loop.\n",
    "    while True:\n",
    "        # Cut off the decimal places.\n",
    "        decpls = decnum - int(decnum)\n",
    "        # Cut off the number before the decimal point.\n",
    "        decnum = int(decnum)\n",
    "        # Multiply the decimal places with 10.\n",
    "        decpls *= 10\n",
    "        # Join the integer numbers.\n",
    "        dr = dr + str(decnum)\n",
    "        # Store the new decimal number.\n",
    "        decnum = decpls\n",
    "        # Calculate the denominator.\n",
    "        nr = 10^exp\n",
    "        # Increment the exponential counter.\n",
    "        exp += 1\n",
    "        # Yield the numerator and the denominator.\n",
    "        yield nr, dr\n",
    "\n",
    "result = fractional_number_generator(res3.n())        \n",
    "    \n",
    "for i in range(0,4):\n",
    "    nr, dr = next(result)\n",
    "    print(\"Step:\", i, \"->\", nr, \" / \", dr)"
   ]
  },
  {
   "cell_type": "code",
   "execution_count": 35,
   "id": "985b890d-18db-49ef-a5e4-c2bc0cd1d3a9",
   "metadata": {},
   "outputs": [],
   "source": [
    "# Using step 1 gives the same as before."
   ]
  },
  {
   "cell_type": "code",
   "execution_count": 36,
   "id": "1262e1ac-2b2d-4d03-928e-f9235394aff9",
   "metadata": {},
   "outputs": [
    {
     "name": "stdout",
     "output_type": "stream",
     "text": [
      "7.00149812734082\n",
      "1 7\n"
     ]
    },
    {
     "data": {
      "text/html": [
       "<html>\\(\\displaystyle \\frac{1}{7}\\)</html>"
      ],
      "text/latex": [
       "$\\displaystyle \\frac{1}{7}$"
      ],
      "text/plain": [
       "1/7"
      ]
     },
     "metadata": {},
     "output_type": "display_data"
    }
   ],
   "source": [
    "# Alternative solution.\n",
    "print(res3.n())    \n",
    "nr, dr = fractional_number(res3.n(), 0, ROUND=True)        \n",
    "print(nr, dr)    \n",
    "show(SR(nr)/SR(dr))"
   ]
  }
 ],
 "metadata": {
  "kernelspec": {
   "display_name": "SageMath 10.1",
   "language": "sage",
   "name": "sagemath"
  },
  "language_info": {
   "codemirror_mode": {
    "name": "ipython",
    "version": 3
   },
   "file_extension": ".py",
   "mimetype": "text/x-python",
   "name": "python",
   "nbconvert_exporter": "python",
   "pygments_lexer": "ipython3",
   "version": "3.8.10"
  }
 },
 "nbformat": 4,
 "nbformat_minor": 5
}
