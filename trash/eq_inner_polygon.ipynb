{
 "cells": [
  {
   "cell_type": "code",
   "execution_count": 1,
   "id": "ee66c31c-6946-4c75-af91-e51002cf14f0",
   "metadata": {},
   "outputs": [],
   "source": [
    "# Archimedes, Measurement of a circle\n",
    "# -----------------------------------\n",
    "#\n",
    "# Development of the Archimedes equations for the inner polygon \n",
    "#\n",
    "# Theorem 3 Part I contains the solution for the inner polygon. The derivation \n",
    "# created by hand is checked symbolically below using SageMath (Quick and dirty).  "
   ]
  },
  {
   "cell_type": "code",
   "execution_count": 2,
   "id": "cbcb445c-3e0b-44e6-9935-0f1150a530c0",
   "metadata": {},
   "outputs": [],
   "source": [
    "# Simple relation from given figure.\n",
    "var('CD AD')\n",
    "CA = CD + AD"
   ]
  },
  {
   "cell_type": "code",
   "execution_count": 3,
   "id": "fede0c25-7946-4afb-8d1f-16025b13364b",
   "metadata": {},
   "outputs": [
    {
     "name": "stdout",
     "output_type": "stream",
     "text": [
      "(1)\t\t AD == CD*OA/OC \n",
      "\n"
     ]
    },
    {
     "data": {
      "text/html": [
       "<html>\\(\\displaystyle \\mathit{AD} = \\frac{\\mathit{CD} \\mathit{OA}}{\\mathit{OC}}\\)</html>"
      ],
      "text/latex": [
       "$\\displaystyle \\mathit{AD} = \\frac{\\mathit{CD} \\mathit{OA}}{\\mathit{OC}}$"
      ],
      "text/plain": [
       "AD == CD*OA/OC"
      ]
     },
     "metadata": {},
     "output_type": "display_data"
    }
   ],
   "source": [
    "# Euclid Book VI Proposition 3.\n",
    "var('OC OA CD AD')\n",
    "OC / OA == CD / AD\n",
    "# Solve the equation for DA.\n",
    "symres = solve([OC / OA == CD / AD], AD)\n",
    "print(\"(1)\\t\\t\", symres[0], \"\\n\")\n",
    "symres[0].show()"
   ]
  },
  {
   "cell_type": "code",
   "execution_count": 4,
   "id": "705ba295-1961-48c9-b917-fdad9ce58c6e",
   "metadata": {},
   "outputs": [
    {
     "name": "stdout",
     "output_type": "stream",
     "text": [
      "(2)\t\t CD == AC - AD \n",
      "\n"
     ]
    },
    {
     "data": {
      "text/html": [
       "<html>\\(\\displaystyle \\mathit{CD} = \\mathit{AC} - \\mathit{AD}\\)</html>"
      ],
      "text/latex": [
       "$\\displaystyle \\mathit{CD} = \\mathit{AC} - \\mathit{AD}$"
      ],
      "text/plain": [
       "CD == AC - AD"
      ]
     },
     "metadata": {},
     "output_type": "display_data"
    }
   ],
   "source": [
    "var('AC CD AD')\n",
    "# Solve the equation for DA.\n",
    "symres = solve([AC == CD + AD], CD)\n",
    "print(\"(2)\\t\\t\", symres[0], \"\\n\")\n",
    "symres[0].show()"
   ]
  },
  {
   "cell_type": "code",
   "execution_count": 5,
   "id": "f8a94ba7-6443-4770-87a8-7cc4aab24a55",
   "metadata": {},
   "outputs": [
    {
     "name": "stdout",
     "output_type": "stream",
     "text": [
      "(AC - AD)*OA/OC \n",
      "\n"
     ]
    },
    {
     "data": {
      "text/html": [
       "<html>\\(\\displaystyle \\frac{{\\left(\\mathit{AC} - \\mathit{AD}\\right)} \\mathit{OA}}{\\mathit{OC}}\\)</html>"
      ],
      "text/latex": [
       "$\\displaystyle \\frac{{\\left(\\mathit{AC} - \\mathit{AD}\\right)} \\mathit{OA}}{\\mathit{OC}}$"
      ],
      "text/plain": [
       "(AC - AD)*OA/OC"
      ]
     },
     "metadata": {},
     "output_type": "display_data"
    }
   ],
   "source": [
    "var('AC OA OC')\n",
    "# Use (1) and (2)\n",
    "CD = AC - AD \n",
    "AD = CD*OA/OC\n",
    "print(AD, \"\\n\")\n",
    "AD.show()"
   ]
  },
  {
   "cell_type": "code",
   "execution_count": 6,
   "id": "47de7e22-657b-4092-bc00-7499991facf5",
   "metadata": {},
   "outputs": [
    {
     "data": {
      "text/plain": [
       "[AD == AC*OA/(OA + OC)]"
      ]
     },
     "execution_count": 6,
     "metadata": {},
     "output_type": "execute_result"
    }
   ],
   "source": [
    "var('AC CD AD OA')\n",
    "# AD = (AC - AD)*OA/OC\n",
    "solve([AD == (AC - AD)*OA/OC], AD)"
   ]
  },
  {
   "cell_type": "code",
   "execution_count": 7,
   "id": "63a7dd63-e9f3-4f5b-88a0-e0fac0b40e94",
   "metadata": {},
   "outputs": [
    {
     "name": "stdout",
     "output_type": "stream",
     "text": [
      "(Eq. 1)\t\t AD = AC/(OC + 1) \n",
      "\n"
     ]
    },
    {
     "data": {
      "text/html": [
       "<html>\\(\\displaystyle \\frac{\\mathit{AC}}{\\mathit{OC} + 1}\\)</html>"
      ],
      "text/latex": [
       "$\\displaystyle \\frac{\\mathit{AC}}{\\mathit{OC} + 1}$"
      ],
      "text/plain": [
       "AC/(OC + 1)"
      ]
     },
     "metadata": {},
     "output_type": "display_data"
    }
   ],
   "source": [
    "OA = 1\n",
    "AD = AC*OA/(OA + OC)\n",
    "print(\"(Eq. 1)\\t\\t\", \"AD =\", AD, \"\\n\")\n",
    "AD.show()      "
   ]
  },
  {
   "cell_type": "code",
   "execution_count": 8,
   "id": "8d446fcd-f20b-4c93-9054-4eec0ca89a72",
   "metadata": {},
   "outputs": [
    {
     "name": "stdout",
     "output_type": "stream",
     "text": [
      "AD = AC/(OC + 1)\n"
     ]
    }
   ],
   "source": [
    "print(\"AD =\", AD)"
   ]
  },
  {
   "cell_type": "code",
   "execution_count": 9,
   "id": "66f87bda-ef3c-429d-b31a-68e0cf5db98e",
   "metadata": {},
   "outputs": [],
   "source": [
    "var('AD AC OC')\n",
    "L = [AD == AC/(OC + 1)]\n",
    "view(L, viewer='pdf')"
   ]
  },
  {
   "cell_type": "code",
   "execution_count": 27,
   "id": "bca0c21b-4e0e-42d9-9cec-cb71472e3c3d",
   "metadata": {},
   "outputs": [
    {
     "name": "stdout",
     "output_type": "stream",
     "text": [
      "(3)\t\t OD == sqrt(AD^2 + OA^2) \n",
      "\n"
     ]
    },
    {
     "data": {
      "text/html": [
       "<html>\\(\\displaystyle \\mathit{OD} = \\sqrt{\\mathit{AD}^{2} + \\mathit{OA}^{2}}\\)</html>"
      ],
      "text/latex": [
       "$\\displaystyle \\mathit{OD} = \\sqrt{\\mathit{AD}^{2} + \\mathit{OA}^{2}}$"
      ],
      "text/plain": [
       "OD == sqrt(AD^2 + OA^2)"
      ]
     },
     "metadata": {},
     "output_type": "display_data"
    }
   ],
   "source": [
    "var('OD AD OA')\n",
    "# Solve the equation for OD.\n",
    "symres = solve([OD^2 == OA^2 + AD^2 ], OD)\n",
    "print(\"(3)\\t\\t\", symres[1], \"\\n\")\n",
    "symres[1].show()"
   ]
  },
  {
   "cell_type": "code",
   "execution_count": 26,
   "id": "8954b011-1950-4c16-90e3-f618a83a45e6",
   "metadata": {},
   "outputs": [
    {
     "data": {
      "text/plain": [
       "[OD == -sqrt(AD^2 + OA^2), OD == sqrt(AD^2 + OA^2)]"
      ]
     },
     "execution_count": 26,
     "metadata": {},
     "output_type": "execute_result"
    }
   ],
   "source": [
    "symres"
   ]
  },
  {
   "cell_type": "code",
   "execution_count": 28,
   "id": "db30fded-7ee2-4780-9721-dfd57bf7229d",
   "metadata": {},
   "outputs": [
    {
     "name": "stdout",
     "output_type": "stream",
     "text": [
      "(Eq. 2)\t\t OD = sqrt(AD^2 + 1) \n",
      "\n",
      "OD =\n"
     ]
    },
    {
     "data": {
      "text/html": [
       "<html>\\(\\displaystyle \\sqrt{\\mathit{AD}^{2} + 1}\\)</html>"
      ],
      "text/latex": [
       "$\\displaystyle \\sqrt{\\mathit{AD}^{2} + 1}$"
      ],
      "text/plain": [
       "sqrt(AD^2 + 1)"
      ]
     },
     "metadata": {},
     "output_type": "display_data"
    }
   ],
   "source": [
    "var('OD AD OA')\n",
    "OA = 1\n",
    "OD = sqrt(AD^2 + OA^2)\n",
    "print(\"(Eq. 2)\\t\\t\", \"OD =\", OD, \"\\n\")\n",
    "print(\"OD =\");OD.show()"
   ]
  },
  {
   "cell_type": "code",
   "execution_count": null,
   "id": "1316ca72-8807-4a0f-b940-57d2056e378e",
   "metadata": {},
   "outputs": [],
   "source": [
    "# After the first iteration Eq. 1 and Eq. 2 are the start values for the\n",
    "# next iteration. Eq. 1 is the new length of the hypothenuse and Eq. 2 is\n",
    "# the new length of the edge. Archimedes did this for (6), 12, 24, 48 and\n",
    "# 96 edges."
   ]
  }
 ],
 "metadata": {
  "kernelspec": {
   "display_name": "SageMath 10.1",
   "language": "sage",
   "name": "sagemath"
  },
  "language_info": {
   "codemirror_mode": {
    "name": "ipython",
    "version": 3
   },
   "file_extension": ".py",
   "mimetype": "text/x-python",
   "name": "python",
   "nbconvert_exporter": "python",
   "pygments_lexer": "ipython3",
   "version": "3.8.10"
  }
 },
 "nbformat": 4,
 "nbformat_minor": 5
}
