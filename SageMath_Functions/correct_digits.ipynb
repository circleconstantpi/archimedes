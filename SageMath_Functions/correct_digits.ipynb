{
 "cells": [
  {
   "cell_type": "code",
   "execution_count": null,
   "id": "0c01c2e7-8738-4135-85ce-7882337c4da9",
   "metadata": {},
   "outputs": [],
   "source": [
    "# ##############################################################################\n",
    "# Function correct_digits()\n",
    "# Version 0.1\n",
    "# ##############################################################################"
   ]
  },
  {
   "cell_type": "code",
   "execution_count": 10,
   "id": "5a3bf343-afbc-430c-b084-ca3d17f49202",
   "metadata": {},
   "outputs": [],
   "source": [
    "# Calculate the correct digits of a given pi number.\n",
    "def correct_digits(chkpi, refpi=''):\n",
    "    '''Calculate the correct digits of a given pi number.'''\n",
    "    # Define three parts of circle number pi.  \n",
    "    a = \"3.\"\n",
    "    b = \"14159265358979323846264338327950288419716939937510\"\n",
    "    c = \"58209749445923078164062862089986280348253421170679\"\n",
    "    if refpi == '':\n",
    "        refpi = a + b + c\n",
    "    if len(str(refpi)) < len(str(chkpi)):\n",
    "        return None, None\n",
    "    correct = ''\n",
    "    idx = 0\n",
    "    for char in str(chkpi):\n",
    "        if char == str(refpi)[idx]:\n",
    "            correct += char\n",
    "            idx += 1\n",
    "        else:    \n",
    "            break\n",
    "    return (correct, idx-2)        "
   ]
  },
  {
   "cell_type": "code",
   "execution_count": 13,
   "id": "20423e41-10a2-4fe5-aa9a-ffa04bd25f55",
   "metadata": {},
   "outputs": [
    {
     "name": "stdout",
     "output_type": "stream",
     "text": [
      "3.141592653589793238462643383279 30\n"
     ]
    }
   ],
   "source": [
    "# Example\n",
    "circle_constant, number_digits = correct_digits(\"3.141592653589793238462643383279\")\n",
    "print(circle_constant, number_digits)"
   ]
  }
 ],
 "metadata": {
  "kernelspec": {
   "display_name": "SageMath 10.1",
   "language": "sage",
   "name": "sagemath"
  },
  "language_info": {
   "codemirror_mode": {
    "name": "ipython",
    "version": 3
   },
   "file_extension": ".py",
   "mimetype": "text/x-python",
   "name": "python",
   "nbconvert_exporter": "python",
   "pygments_lexer": "ipython3",
   "version": "3.8.10"
  }
 },
 "nbformat": 4,
 "nbformat_minor": 5
}
