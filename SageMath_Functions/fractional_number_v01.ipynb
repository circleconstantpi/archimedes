{
 "cells": [
  {
   "cell_type": "code",
   "execution_count": 1,
   "id": "d4739733-6a9c-4228-b7c2-bcb0a050a8c8",
   "metadata": {},
   "outputs": [],
   "source": [
    "# ##############################################################################\n",
    "# Function fractional_number(decnum, maxexp, ROUND=True)\n",
    "#\n",
    "# Version 0.3\n",
    "# \n",
    "# Developed, coded and tested in 2023 by Dr. Peter Netz.\n",
    "#\n",
    "# Published under the MIT-Licence.\n",
    "# Copyright (c) 2023, Dr. Peter Netz\n",
    "#\n",
    "# Input: decimal number\n",
    "# Options: maxexp = maximum exponent of the power value to the base 10 for the\n",
    "# denominator. ROUND = rounding True or False. \n",
    "#\n",
    "# Objective: Looking for a function that converts a decimal number into a\n",
    "# fractional number, with optional rounding according to the given exponent.\n",
    "#\n",
    "# To-Do: Check if the input is a valid number. Coding an algorithm for rounding \n",
    "# fractional numbers. Carry out further calculations. Improvement of the \n",
    "# documentation. Optimisation of the code itself. Typing errors and careless\n",
    "# mistakes that do not affect the result have to be removed.   \n",
    "# ##############################################################################"
   ]
  },
  {
   "cell_type": "code",
   "execution_count": 2,
   "id": "4fc00da5-4a85-4e7b-886a-b386005a55db",
   "metadata": {},
   "outputs": [],
   "source": [
    "# User defined function fractional number().\n",
    "def fractional_number(decnum, maxexp, ROUND=True):\n",
    "    '''Function for calculating a fractional number from a given decimal \n",
    "    number. The generator can run infinite. Rounding to the correct value\n",
    "    is done by the Python function round().'''\n",
    "    # Initialise the counter for the exponent to base 10.\n",
    "    exp = 0\n",
    "    # Initialise numerator and denominator.\n",
    "    nr = ''\n",
    "    dr = ''\n",
    "    # Initialise the potential value.\n",
    "    potval = 0\n",
    "    if ROUND is True:\n",
    "        # Quick and dirty workaround: rounding is done by a Python function.\n",
    "        decnum = str(round(decnum, maxexp))\n",
    "    else:\n",
    "        # Cut places w.r.t the exponent plus 1 for safety's sake.\n",
    "        strlen = len(str(decnum).split('.')[0])+2\n",
    "        decnum = str(decnum)[:maxexp+strlen]\n",
    "    # Run an infinite loop until the exit condition.\n",
    "    while exp <= maxexp:\n",
    "        # Divide decimal number into two parts before and after decimal point \n",
    "        bdp = decnum.split('.')[0]\n",
    "        adp = decnum.split('.')[1]\n",
    "        # Join the integer numbers.\n",
    "        nr = nr + bdp\n",
    "        # Calculate the denominator.\n",
    "        potval = 10^exp\n",
    "        # Get the denominator number.\n",
    "        dr = str(potval)\n",
    "        # Make float from the string adp.\n",
    "        decpls = float(\"0.\" + adp)\n",
    "        # Multiply the float with 10.\n",
    "        decpls *= 10\n",
    "        # Store the decimal number for the next loop.\n",
    "        decnum = str(decpls)\n",
    "        # Increment the exponential counter.\n",
    "        exp += 1\n",
    "    # Return the numerator and the denominator.\n",
    "    return nr, dr"
   ]
  },
  {
   "cell_type": "code",
   "execution_count": 3,
   "id": "4122ce5d-ef34-4044-8874-c34b5c2c136e",
   "metadata": {},
   "outputs": [],
   "source": [
    "# ##################################################################################\n",
    "# Subsequent following is a sections with an application examples.\n",
    "# ##################################################################################"
   ]
  },
  {
   "cell_type": "code",
   "execution_count": 4,
   "id": "4094874d-8a0d-4771-b023-de0e03253a9d",
   "metadata": {},
   "outputs": [
    {
     "name": "stdout",
     "output_type": "stream",
     "text": [
      "Input:\n",
      "7.09674582233949\n",
      "Without rounding:\n",
      "709 100\n",
      "With rounding:\n",
      "710 100\n"
     ]
    }
   ],
   "source": [
    "# Decimal number to fractional number example.\n",
    "decimal_number = 7.09674582233949\n",
    "print(\"Input:\\n{}\".format(decimal_number))\n",
    "print(\"Without rounding:\")\n",
    "numerator, denominator = fractional_number(decimal_number, 2, ROUND=False) \n",
    "print(numerator, denominator)\n",
    "print(\"With rounding:\")\n",
    "numerator, denominator = fractional_number(decimal_number, 2, ROUND=True) \n",
    "print(numerator, denominator)"
   ]
  },
  {
   "cell_type": "code",
   "execution_count": 5,
   "id": "5f62b12b-a6f2-4fa2-913f-05ec55058d6f",
   "metadata": {},
   "outputs": [
    {
     "name": "stdout",
     "output_type": "stream",
     "text": [
      "71/10\n"
     ]
    }
   ],
   "source": [
    "# Print result using the symbolic ring (SR).\n",
    "n = SR(numerator)\n",
    "d = SR(denominator)\n",
    "fracnum = n/d\n",
    "print(fracnum)"
   ]
  },
  {
   "cell_type": "code",
   "execution_count": 6,
   "id": "40f09e24-622c-48d4-961d-213246a6469d",
   "metadata": {},
   "outputs": [
    {
     "data": {
      "text/plain": [
       "71\n",
       "--\n",
       "10"
      ]
     },
     "execution_count": 6,
     "metadata": {},
     "output_type": "execute_result"
    }
   ],
   "source": [
    "# Print fractional number as ascii art.\n",
    "ascii_art(fracnum)"
   ]
  },
  {
   "cell_type": "code",
   "execution_count": 7,
   "id": "0097edbd-f4c7-4718-b199-f80dfce8ec58",
   "metadata": {},
   "outputs": [
    {
     "data": {
      "text/plain": [
       "71\n",
       "──\n",
       "10"
      ]
     },
     "execution_count": 7,
     "metadata": {},
     "output_type": "execute_result"
    }
   ],
   "source": [
    "# Print fractional number as unicode art.\n",
    "unicode_art(fracnum)"
   ]
  },
  {
   "cell_type": "code",
   "execution_count": 8,
   "id": "f06e051c-1fc9-49fd-9ba2-7f3ac1d521bb",
   "metadata": {},
   "outputs": [
    {
     "data": {
      "text/html": [
       "<html>\\(\\displaystyle \\frac{71}{10}\\)</html>"
      ],
      "text/latex": [
       "$\\displaystyle \\frac{71}{10}$"
      ],
      "text/plain": [
       "71/10"
      ]
     },
     "metadata": {},
     "output_type": "display_data"
    }
   ],
   "source": [
    "# Print fractional number using pretty print.\n",
    "pretty_print(fracnum)"
   ]
  },
  {
   "cell_type": "code",
   "execution_count": 9,
   "id": "f44fe1c6-db8e-4268-ba80-baf7dac186df",
   "metadata": {},
   "outputs": [
    {
     "data": {
      "text/html": [
       "<html>\\(\\displaystyle \\frac{71}{10}\\)</html>"
      ],
      "text/latex": [
       "$\\displaystyle \\frac{71}{10}$"
      ],
      "text/plain": [
       "71/10"
      ]
     },
     "metadata": {},
     "output_type": "display_data"
    }
   ],
   "source": [
    "# Use SageMath's show().\n",
    "fracnum.show()"
   ]
  }
 ],
 "metadata": {
  "kernelspec": {
   "display_name": "SageMath 10.1",
   "language": "sage",
   "name": "sagemath"
  },
  "language_info": {
   "codemirror_mode": {
    "name": "ipython",
    "version": 3
   },
   "file_extension": ".py",
   "mimetype": "text/x-python",
   "name": "python",
   "nbconvert_exporter": "python",
   "pygments_lexer": "ipython3",
   "version": "3.8.10"
  }
 },
 "nbformat": 4,
 "nbformat_minor": 5
}
