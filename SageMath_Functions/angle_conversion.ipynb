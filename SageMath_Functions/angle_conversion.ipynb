{
 "cells": [
  {
   "cell_type": "code",
   "execution_count": null,
   "id": "1a06374a-cf25-466c-865b-c7168a4aecb2",
   "metadata": {},
   "outputs": [],
   "source": [
    "# Convert radian to degree.\n",
    "def rad2deg(rad):\n",
    "    '''Convert radian to degree'''\n",
    "    deg = (180 / pi) * rad\n",
    "    return deg\n",
    "\n",
    "# Convert degree to radian.\n",
    "def deg2rad(deg):\n",
    "    '''Convert degree to radian'''\n",
    "    rad = (pi / 180) * deg\n",
    "    return rad"
   ]
  }
 ],
 "metadata": {
  "kernelspec": {
   "display_name": "SageMath 10.1",
   "language": "sage",
   "name": "sagemath"
  },
  "language_info": {
   "codemirror_mode": {
    "name": "ipython",
    "version": 3
   },
   "file_extension": ".py",
   "mimetype": "text/x-python",
   "name": "python",
   "nbconvert_exporter": "python",
   "pygments_lexer": "ipython3",
   "version": "3.8.10"
  }
 },
 "nbformat": 4,
 "nbformat_minor": 5
}
