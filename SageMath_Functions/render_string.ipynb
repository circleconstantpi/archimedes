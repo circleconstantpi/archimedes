{
 "cells": [
  {
   "cell_type": "code",
   "execution_count": 22,
   "id": "ba31cc1e-0dd0-4343-ae3e-966ffdf1cff0",
   "metadata": {},
   "outputs": [
    {
     "name": "stdout",
     "output_type": "stream",
     "text": [
      "c^2 = a^2 + b^2\n"
     ]
    },
    {
     "data": {
      "image/png": "[encoded data removed]",
      "text/plain": [
       "Graphics object consisting of 1 graphics primitive"
      ]
     },
     "metadata": {},
     "output_type": "display_data"
    }
   ],
   "source": [
    "# User defined function for rendering a given string.\n",
    "def render_string(string, color='black', fontsize=12, figuresize=1):\n",
    "    '''Function for rendering a given string.'''\n",
    "    try:\n",
    "        # Add $ at begin and end. Escape out an existing $. \n",
    "        string = r\"$\" + string.replace(r'$',r'\\$') + r\"$\"\n",
    "        # Create a picture representation of the string and show it.\n",
    "        picture = text(string, (0,0), axes=False, figsize=figuresize,\n",
    "                     color=color, fontsize=fontsize)\n",
    "        picture.show()\n",
    "    except:\n",
    "        # In case of an error, print an error message.\n",
    "        print(\"ERROR: Cannot display the given string.\")\n",
    "    return\n",
    "\n",
    "# Use of the Pythagorean theorem as an example.\n",
    "example = \"c^2 = a^2 + b^2\"\n",
    "\n",
    "# Print the raw string.\n",
    "print(example)\n",
    "\n",
    "# Print using the function.\n",
    "render_string(example)"
   ]
  }
 ],
 "metadata": {
  "kernelspec": {
   "display_name": "SageMath 10.1",
   "language": "sage",
   "name": "sagemath"
  },
  "language_info": {
   "codemirror_mode": {
    "name": "ipython",
    "version": 3
   },
   "file_extension": ".py",
   "mimetype": "text/x-python",
   "name": "python",
   "nbconvert_exporter": "python",
   "pygments_lexer": "ipython3",
   "version": "3.8.10"
  }
 },
 "nbformat": 4,
 "nbformat_minor": 5
}
