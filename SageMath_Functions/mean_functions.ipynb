{
 "cells": [
  {
   "cell_type": "code",
   "execution_count": 1,
   "id": "c1f63224-241a-4c82-9ad9-46f3f853445c",
   "metadata": {},
   "outputs": [],
   "source": [
    "# Collection of selected mean functions\n",
    "# Version 0.1"
   ]
  },
  {
   "cell_type": "code",
   "execution_count": 2,
   "id": "33adc81c-2709-4ca1-ba70-390b010a3d27",
   "metadata": {},
   "outputs": [],
   "source": [
    "# The three classic means A = arithmetic mean, G = geometric mean, \n",
    "# and H = harmonic mean are sometimes called the Pythagorean means. \n",
    "# See also: mathworld.wolfram.com/PythagoreanMeans.html\n",
    "\n",
    "# Calculate the arithmetic median of 2 numbers.\n",
    "def arithmetic_median2(a, b):\n",
    "    '''Aritmetic median.'''\n",
    "    mean = (a+b)/2 \n",
    "    return mean\n",
    "\n",
    "# Calculate the geometric median of 2 numbers.\n",
    "def geometric_median2(a, b):\n",
    "    '''Geometric median.'''\n",
    "    mean = sqrt(a*b) \n",
    "    return mean\n",
    "\n",
    "# Calculate the harmonic median of 2 numbers.\n",
    "# See also: Wikipedia contributors, \"Arithmetic–geometric mean,\" Wikipedia, The\n",
    "# Free Encyclopedia, en.wikipedia.org/wiki/Arithmetic-geometric_mean,\n",
    "# last edited 13 August 2023\n",
    "def harmonic_median2(a, b):\n",
    "    '''Harmonic median.'''\n",
    "    mean = (2*a*b)/(a+b)\n",
    "    return mean"
   ]
  },
  {
   "cell_type": "code",
   "execution_count": 3,
   "id": "4cd44aaf-8e38-44d6-a968-7df95e47cc0f",
   "metadata": {},
   "outputs": [],
   "source": [
    "def heronian_mean2(a, b):\n",
    "    '''The Heronian median of the numbers a and b is a weighted mean of their\n",
    "    arithmetic and geometric means.'''\n",
    "    mean = (1/3)*(a+sqrt(a*b)+b)\n",
    "    return mean"
   ]
  },
  {
   "cell_type": "code",
   "execution_count": 4,
   "id": "9f1e3352-fe2a-4692-aa45-922750904e2f",
   "metadata": {},
   "outputs": [],
   "source": [
    "# Calculate the quadratic median of 2 numbers.\n",
    "def quadratic_median2(a, b):\n",
    "    '''Quadratic median.'''\n",
    "    mean = sqrt((a^2+b^2)/2)\n",
    "    return mean\n",
    "\n",
    "def generalized_mean2(a, b, p):\n",
    "    '''The generalized mean or power mean and the Hölder mean are named after \n",
    "    Otto Hölder. According to his definition, it is used to aggregate sets of\n",
    "    mean value functions such as the Pythagorean mean.'''\n",
    "    mean = ((a^p+b^p)/2)^(1/p)\n",
    "    return mean"
   ]
  },
  {
   "cell_type": "code",
   "execution_count": 5,
   "id": "faec4483-dfb6-4cb4-beaa-0fd4fe9e5c58",
   "metadata": {},
   "outputs": [],
   "source": [
    "# Calculate the arithmetric-geometric median of 2 numbers.\n",
    "# See also: en.wikipedia.org/wiki/Arithmetic-geometric_mean\n",
    "def arithmetic_geometric_median2(a0, g0, r=14):\n",
    "    '''Arithmetic-geometric median.'''\n",
    "    if a0 < g0:\n",
    "        g0, a0 = a0, g0    \n",
    "    while a0^2-g0^2 > 10^-(r+1):\n",
    "        a1 = (a0+g0)/2\n",
    "        g1 = sqrt(a0*g0)\n",
    "        a0 = a1\n",
    "        g0 = g1\n",
    "    return a1"
   ]
  }
 ],
 "metadata": {
  "kernelspec": {
   "display_name": "SageMath 10.1",
   "language": "sage",
   "name": "sagemath"
  },
  "language_info": {
   "codemirror_mode": {
    "name": "ipython",
    "version": 3
   },
   "file_extension": ".py",
   "mimetype": "text/x-python",
   "name": "python",
   "nbconvert_exporter": "python",
   "pygments_lexer": "ipython3",
   "version": "3.8.10"
  }
 },
 "nbformat": 4,
 "nbformat_minor": 5
}
